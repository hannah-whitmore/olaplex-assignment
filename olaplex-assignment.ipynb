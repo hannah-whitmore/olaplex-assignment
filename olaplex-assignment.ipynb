{
 "cells": [
  {
   "cell_type": "code",
   "execution_count": 1,
   "metadata": {},
   "outputs": [],
   "source": [
    "import pandas as pd \n",
    "import matplotlib.pyplot as plt\n",
    "import plotly.express as px\n",
    "import plotly.graph_objects as go\n",
    "import numpy as np"
   ]
  },
  {
   "cell_type": "markdown",
   "metadata": {},
   "source": [
    "## 1. Read in dataset"
   ]
  },
  {
   "cell_type": "code",
   "execution_count": 2,
   "metadata": {},
   "outputs": [],
   "source": [
    "# This data represents a weekly retail scan for national retain volume (units) and price of avocados "
   ]
  },
  {
   "cell_type": "code",
   "execution_count": 3,
   "metadata": {},
   "outputs": [],
   "source": [
    "avocado_df = pd.read_csv('avocado-updated-2020.csv')"
   ]
  },
  {
   "cell_type": "code",
   "execution_count": 95,
   "metadata": {},
   "outputs": [
    {
     "data": {
      "text/html": [
       "<div>\n",
       "<style scoped>\n",
       "    .dataframe tbody tr th:only-of-type {\n",
       "        vertical-align: middle;\n",
       "    }\n",
       "\n",
       "    .dataframe tbody tr th {\n",
       "        vertical-align: top;\n",
       "    }\n",
       "\n",
       "    .dataframe thead th {\n",
       "        text-align: right;\n",
       "    }\n",
       "</style>\n",
       "<table border=\"1\" class=\"dataframe\">\n",
       "  <thead>\n",
       "    <tr style=\"text-align: right;\">\n",
       "      <th></th>\n",
       "      <th>date</th>\n",
       "      <th>average_price</th>\n",
       "      <th>total_volume</th>\n",
       "      <th>4046</th>\n",
       "      <th>4225</th>\n",
       "      <th>4770</th>\n",
       "      <th>total_bags</th>\n",
       "      <th>small_bags</th>\n",
       "      <th>large_bags</th>\n",
       "      <th>xlarge_bags</th>\n",
       "      <th>type</th>\n",
       "      <th>year</th>\n",
       "      <th>geography</th>\n",
       "      <th>total_revenue</th>\n",
       "    </tr>\n",
       "  </thead>\n",
       "  <tbody>\n",
       "    <tr>\n",
       "      <th>0</th>\n",
       "      <td>2015-01-04</td>\n",
       "      <td>1.22</td>\n",
       "      <td>40873.28</td>\n",
       "      <td>2819.50</td>\n",
       "      <td>28287.42</td>\n",
       "      <td>49.90</td>\n",
       "      <td>9716.46</td>\n",
       "      <td>9186.93</td>\n",
       "      <td>529.53</td>\n",
       "      <td>0.0</td>\n",
       "      <td>conventional</td>\n",
       "      <td>2015</td>\n",
       "      <td>Albany</td>\n",
       "      <td>49865.4016</td>\n",
       "    </tr>\n",
       "    <tr>\n",
       "      <th>1</th>\n",
       "      <td>2015-01-04</td>\n",
       "      <td>1.79</td>\n",
       "      <td>1373.95</td>\n",
       "      <td>57.42</td>\n",
       "      <td>153.88</td>\n",
       "      <td>0.00</td>\n",
       "      <td>1162.65</td>\n",
       "      <td>1162.65</td>\n",
       "      <td>0.00</td>\n",
       "      <td>0.0</td>\n",
       "      <td>organic</td>\n",
       "      <td>2015</td>\n",
       "      <td>Albany</td>\n",
       "      <td>2459.3705</td>\n",
       "    </tr>\n",
       "    <tr>\n",
       "      <th>2</th>\n",
       "      <td>2015-01-04</td>\n",
       "      <td>1.00</td>\n",
       "      <td>435021.49</td>\n",
       "      <td>364302.39</td>\n",
       "      <td>23821.16</td>\n",
       "      <td>82.15</td>\n",
       "      <td>46815.79</td>\n",
       "      <td>16707.15</td>\n",
       "      <td>30108.64</td>\n",
       "      <td>0.0</td>\n",
       "      <td>conventional</td>\n",
       "      <td>2015</td>\n",
       "      <td>Atlanta</td>\n",
       "      <td>435021.4900</td>\n",
       "    </tr>\n",
       "    <tr>\n",
       "      <th>3</th>\n",
       "      <td>2015-01-04</td>\n",
       "      <td>1.76</td>\n",
       "      <td>3846.69</td>\n",
       "      <td>1500.15</td>\n",
       "      <td>938.35</td>\n",
       "      <td>0.00</td>\n",
       "      <td>1408.19</td>\n",
       "      <td>1071.35</td>\n",
       "      <td>336.84</td>\n",
       "      <td>0.0</td>\n",
       "      <td>organic</td>\n",
       "      <td>2015</td>\n",
       "      <td>Atlanta</td>\n",
       "      <td>6770.1744</td>\n",
       "    </tr>\n",
       "    <tr>\n",
       "      <th>4</th>\n",
       "      <td>2015-01-04</td>\n",
       "      <td>1.08</td>\n",
       "      <td>788025.06</td>\n",
       "      <td>53987.31</td>\n",
       "      <td>552906.04</td>\n",
       "      <td>39995.03</td>\n",
       "      <td>141136.68</td>\n",
       "      <td>137146.07</td>\n",
       "      <td>3990.61</td>\n",
       "      <td>0.0</td>\n",
       "      <td>conventional</td>\n",
       "      <td>2015</td>\n",
       "      <td>Baltimore/Washington</td>\n",
       "      <td>851067.0648</td>\n",
       "    </tr>\n",
       "  </tbody>\n",
       "</table>\n",
       "</div>"
      ],
      "text/plain": [
       "         date  average_price  total_volume       4046       4225      4770  \\\n",
       "0  2015-01-04           1.22      40873.28    2819.50   28287.42     49.90   \n",
       "1  2015-01-04           1.79       1373.95      57.42     153.88      0.00   \n",
       "2  2015-01-04           1.00     435021.49  364302.39   23821.16     82.15   \n",
       "3  2015-01-04           1.76       3846.69    1500.15     938.35      0.00   \n",
       "4  2015-01-04           1.08     788025.06   53987.31  552906.04  39995.03   \n",
       "\n",
       "   total_bags  small_bags  large_bags  xlarge_bags          type  year  \\\n",
       "0     9716.46     9186.93      529.53          0.0  conventional  2015   \n",
       "1     1162.65     1162.65        0.00          0.0       organic  2015   \n",
       "2    46815.79    16707.15    30108.64          0.0  conventional  2015   \n",
       "3     1408.19     1071.35      336.84          0.0       organic  2015   \n",
       "4   141136.68   137146.07     3990.61          0.0  conventional  2015   \n",
       "\n",
       "              geography  total_revenue  \n",
       "0                Albany     49865.4016  \n",
       "1                Albany      2459.3705  \n",
       "2               Atlanta    435021.4900  \n",
       "3               Atlanta      6770.1744  \n",
       "4  Baltimore/Washington    851067.0648  "
      ]
     },
     "execution_count": 95,
     "metadata": {},
     "output_type": "execute_result"
    }
   ],
   "source": [
    "avocado_df.head()"
   ]
  },
  {
   "cell_type": "code",
   "execution_count": 5,
   "metadata": {},
   "outputs": [
    {
     "data": {
      "text/html": [
       "<div>\n",
       "<style scoped>\n",
       "    .dataframe tbody tr th:only-of-type {\n",
       "        vertical-align: middle;\n",
       "    }\n",
       "\n",
       "    .dataframe tbody tr th {\n",
       "        vertical-align: top;\n",
       "    }\n",
       "\n",
       "    .dataframe thead th {\n",
       "        text-align: right;\n",
       "    }\n",
       "</style>\n",
       "<table border=\"1\" class=\"dataframe\">\n",
       "  <thead>\n",
       "    <tr style=\"text-align: right;\">\n",
       "      <th></th>\n",
       "      <th>average_price</th>\n",
       "      <th>total_volume</th>\n",
       "      <th>4046</th>\n",
       "      <th>4225</th>\n",
       "      <th>4770</th>\n",
       "      <th>total_bags</th>\n",
       "      <th>small_bags</th>\n",
       "      <th>large_bags</th>\n",
       "      <th>xlarge_bags</th>\n",
       "      <th>year</th>\n",
       "    </tr>\n",
       "  </thead>\n",
       "  <tbody>\n",
       "    <tr>\n",
       "      <th>count</th>\n",
       "      <td>33045.000000</td>\n",
       "      <td>3.304500e+04</td>\n",
       "      <td>3.304500e+04</td>\n",
       "      <td>3.304500e+04</td>\n",
       "      <td>3.304500e+04</td>\n",
       "      <td>3.304500e+04</td>\n",
       "      <td>3.304500e+04</td>\n",
       "      <td>3.304500e+04</td>\n",
       "      <td>3.304500e+04</td>\n",
       "      <td>33045.000000</td>\n",
       "    </tr>\n",
       "    <tr>\n",
       "      <th>mean</th>\n",
       "      <td>1.379941</td>\n",
       "      <td>9.683997e+05</td>\n",
       "      <td>3.023914e+05</td>\n",
       "      <td>2.797693e+05</td>\n",
       "      <td>2.148255e+04</td>\n",
       "      <td>3.646735e+05</td>\n",
       "      <td>2.501980e+05</td>\n",
       "      <td>1.067329e+05</td>\n",
       "      <td>7.742585e+03</td>\n",
       "      <td>2017.460887</td>\n",
       "    </tr>\n",
       "    <tr>\n",
       "      <th>std</th>\n",
       "      <td>0.378972</td>\n",
       "      <td>3.934533e+06</td>\n",
       "      <td>1.301026e+06</td>\n",
       "      <td>1.151052e+06</td>\n",
       "      <td>1.001607e+05</td>\n",
       "      <td>1.564004e+06</td>\n",
       "      <td>1.037734e+06</td>\n",
       "      <td>5.167226e+05</td>\n",
       "      <td>4.819803e+04</td>\n",
       "      <td>1.699747</td>\n",
       "    </tr>\n",
       "    <tr>\n",
       "      <th>min</th>\n",
       "      <td>0.440000</td>\n",
       "      <td>8.456000e+01</td>\n",
       "      <td>0.000000e+00</td>\n",
       "      <td>0.000000e+00</td>\n",
       "      <td>0.000000e+00</td>\n",
       "      <td>0.000000e+00</td>\n",
       "      <td>0.000000e+00</td>\n",
       "      <td>0.000000e+00</td>\n",
       "      <td>0.000000e+00</td>\n",
       "      <td>2015.000000</td>\n",
       "    </tr>\n",
       "    <tr>\n",
       "      <th>25%</th>\n",
       "      <td>1.100000</td>\n",
       "      <td>1.511895e+04</td>\n",
       "      <td>7.673100e+02</td>\n",
       "      <td>2.712470e+03</td>\n",
       "      <td>0.000000e+00</td>\n",
       "      <td>9.121860e+03</td>\n",
       "      <td>6.478630e+03</td>\n",
       "      <td>4.662900e+02</td>\n",
       "      <td>0.000000e+00</td>\n",
       "      <td>2016.000000</td>\n",
       "    </tr>\n",
       "    <tr>\n",
       "      <th>50%</th>\n",
       "      <td>1.350000</td>\n",
       "      <td>1.291170e+05</td>\n",
       "      <td>1.099477e+04</td>\n",
       "      <td>2.343600e+04</td>\n",
       "      <td>1.780900e+02</td>\n",
       "      <td>5.322224e+04</td>\n",
       "      <td>3.687699e+04</td>\n",
       "      <td>6.375860e+03</td>\n",
       "      <td>0.000000e+00</td>\n",
       "      <td>2017.000000</td>\n",
       "    </tr>\n",
       "    <tr>\n",
       "      <th>75%</th>\n",
       "      <td>1.620000</td>\n",
       "      <td>5.058285e+05</td>\n",
       "      <td>1.190219e+05</td>\n",
       "      <td>1.352389e+05</td>\n",
       "      <td>5.096530e+03</td>\n",
       "      <td>1.744314e+05</td>\n",
       "      <td>1.206624e+05</td>\n",
       "      <td>4.041723e+04</td>\n",
       "      <td>8.044400e+02</td>\n",
       "      <td>2019.000000</td>\n",
       "    </tr>\n",
       "    <tr>\n",
       "      <th>max</th>\n",
       "      <td>3.250000</td>\n",
       "      <td>6.371614e+07</td>\n",
       "      <td>2.274362e+07</td>\n",
       "      <td>2.047057e+07</td>\n",
       "      <td>2.546439e+06</td>\n",
       "      <td>3.168919e+07</td>\n",
       "      <td>2.055041e+07</td>\n",
       "      <td>1.332760e+07</td>\n",
       "      <td>1.403184e+06</td>\n",
       "      <td>2020.000000</td>\n",
       "    </tr>\n",
       "  </tbody>\n",
       "</table>\n",
       "</div>"
      ],
      "text/plain": [
       "       average_price  total_volume          4046          4225          4770  \\\n",
       "count   33045.000000  3.304500e+04  3.304500e+04  3.304500e+04  3.304500e+04   \n",
       "mean        1.379941  9.683997e+05  3.023914e+05  2.797693e+05  2.148255e+04   \n",
       "std         0.378972  3.934533e+06  1.301026e+06  1.151052e+06  1.001607e+05   \n",
       "min         0.440000  8.456000e+01  0.000000e+00  0.000000e+00  0.000000e+00   \n",
       "25%         1.100000  1.511895e+04  7.673100e+02  2.712470e+03  0.000000e+00   \n",
       "50%         1.350000  1.291170e+05  1.099477e+04  2.343600e+04  1.780900e+02   \n",
       "75%         1.620000  5.058285e+05  1.190219e+05  1.352389e+05  5.096530e+03   \n",
       "max         3.250000  6.371614e+07  2.274362e+07  2.047057e+07  2.546439e+06   \n",
       "\n",
       "         total_bags    small_bags    large_bags   xlarge_bags          year  \n",
       "count  3.304500e+04  3.304500e+04  3.304500e+04  3.304500e+04  33045.000000  \n",
       "mean   3.646735e+05  2.501980e+05  1.067329e+05  7.742585e+03   2017.460887  \n",
       "std    1.564004e+06  1.037734e+06  5.167226e+05  4.819803e+04      1.699747  \n",
       "min    0.000000e+00  0.000000e+00  0.000000e+00  0.000000e+00   2015.000000  \n",
       "25%    9.121860e+03  6.478630e+03  4.662900e+02  0.000000e+00   2016.000000  \n",
       "50%    5.322224e+04  3.687699e+04  6.375860e+03  0.000000e+00   2017.000000  \n",
       "75%    1.744314e+05  1.206624e+05  4.041723e+04  8.044400e+02   2019.000000  \n",
       "max    3.168919e+07  2.055041e+07  1.332760e+07  1.403184e+06   2020.000000  "
      ]
     },
     "execution_count": 5,
     "metadata": {},
     "output_type": "execute_result"
    }
   ],
   "source": [
    "avocado_df.describe()"
   ]
  },
  {
   "cell_type": "markdown",
   "metadata": {},
   "source": [
    "## 2. EDA - check for missing values and clean "
   ]
  },
  {
   "cell_type": "code",
   "execution_count": 6,
   "metadata": {},
   "outputs": [
    {
     "data": {
      "text/plain": [
       "date             0\n",
       "average_price    0\n",
       "total_volume     0\n",
       "4046             0\n",
       "4225             0\n",
       "4770             0\n",
       "total_bags       0\n",
       "small_bags       0\n",
       "large_bags       0\n",
       "xlarge_bags      0\n",
       "type             0\n",
       "year             0\n",
       "geography        0\n",
       "dtype: int64"
      ]
     },
     "execution_count": 6,
     "metadata": {},
     "output_type": "execute_result"
    }
   ],
   "source": [
    "avocado_df.isnull().sum()"
   ]
  },
  {
   "cell_type": "markdown",
   "metadata": {},
   "source": [
    "### Inspect the geography column, as this is the one we are interested in for the task of deploying headcount across the US"
   ]
  },
  {
   "cell_type": "code",
   "execution_count": 7,
   "metadata": {},
   "outputs": [
    {
     "data": {
      "text/plain": [
       "array(['Albany', 'Atlanta', 'Baltimore/Washington', 'Boise', 'Boston',\n",
       "       'Buffalo/Rochester', 'California', 'Charlotte', 'Chicago',\n",
       "       'Cincinnati/Dayton', 'Columbus', 'Dallas/Ft. Worth', 'Denver',\n",
       "       'Detroit', 'Grand Rapids', 'Great Lakes', 'Harrisburg/Scranton',\n",
       "       'Hartford/Springfield', 'Houston', 'Indianapolis', 'Jacksonville',\n",
       "       'Las Vegas', 'Los Angeles', 'Louisville', 'Miami/Ft. Lauderdale',\n",
       "       'Midsouth', 'Nashville', 'New Orleans/Mobile', 'New York',\n",
       "       'Northeast', 'Northern New England', 'Orlando', 'Philadelphia',\n",
       "       'Phoenix/Tucson', 'Pittsburgh', 'Plains', 'Portland',\n",
       "       'Raleigh/Greensboro', 'Richmond/Norfolk', 'Roanoke', 'Sacramento',\n",
       "       'San Diego', 'San Francisco', 'Seattle', 'South Carolina',\n",
       "       'South Central', 'Southeast', 'Spokane', 'St. Louis', 'Syracuse',\n",
       "       'Tampa', 'Total U.S.', 'West', 'West Tex/New Mexico'], dtype=object)"
      ]
     },
     "execution_count": 7,
     "metadata": {},
     "output_type": "execute_result"
    }
   ],
   "source": [
    "avocado_df['geography'].unique()"
   ]
  },
  {
   "cell_type": "code",
   "execution_count": 8,
   "metadata": {},
   "outputs": [],
   "source": [
    "# Drop generic / non descriptive locations - these are not useful for our task \n",
    "\n",
    "avocado_df = avocado_df.loc[~avocado_df['geography'].isin(['Total U.S.', 'Northeast', 'Midsouth', 'South Central', 'Southeast', 'West', 'California', \n",
    "                                                           'Northern New England', 'South Carolina'])]"
   ]
  },
  {
   "cell_type": "markdown",
   "metadata": {},
   "source": [
    "## 3. Feature Engineering - total revenue "
   ]
  },
  {
   "cell_type": "code",
   "execution_count": 9,
   "metadata": {},
   "outputs": [],
   "source": [
    "# Locations with the highest total revenue will those where Olaplex should deploy headcount\n",
    "\n",
    "avocado_df['total_revenue'] = avocado_df['total_volume'] * avocado_df['average_price']"
   ]
  },
  {
   "cell_type": "code",
   "execution_count": 10,
   "metadata": {},
   "outputs": [],
   "source": [
    "# Group by geography to calculate total revenue, total volume, and average price (across both avocado types)\n",
    "\n",
    "top_20_summary = avocado_df.groupby('geography').agg(\n",
    "    total_volume=('total_volume', 'sum'),\n",
    "    avg_price=('average_price', 'mean'),\n",
    "    total_revenue=('total_revenue', 'sum')\n",
    ").reset_index()\n",
    "\n",
    "# Sort by total revenue in descending order and extract the top 20 locations\n",
    "top_20_summary = top_20_summary.sort_values(by='total_revenue', ascending=False).head(20).reset_index(drop=True)"
   ]
  },
  {
   "cell_type": "code",
   "execution_count": 11,
   "metadata": {},
   "outputs": [
    {
     "data": {
      "text/html": [
       "<div>\n",
       "<style scoped>\n",
       "    .dataframe tbody tr th:only-of-type {\n",
       "        vertical-align: middle;\n",
       "    }\n",
       "\n",
       "    .dataframe tbody tr th {\n",
       "        vertical-align: top;\n",
       "    }\n",
       "\n",
       "    .dataframe thead th {\n",
       "        text-align: right;\n",
       "    }\n",
       "</style>\n",
       "<table border=\"1\" class=\"dataframe\">\n",
       "  <thead>\n",
       "    <tr style=\"text-align: right;\">\n",
       "      <th></th>\n",
       "      <th>geography</th>\n",
       "      <th>total_volume</th>\n",
       "      <th>avg_price</th>\n",
       "      <th>total_revenue</th>\n",
       "    </tr>\n",
       "  </thead>\n",
       "  <tbody>\n",
       "    <tr>\n",
       "      <th>0</th>\n",
       "      <td>Great Lakes</td>\n",
       "      <td>1.220448e+09</td>\n",
       "      <td>1.310572</td>\n",
       "      <td>1.387575e+09</td>\n",
       "    </tr>\n",
       "    <tr>\n",
       "      <th>1</th>\n",
       "      <td>Los Angeles</td>\n",
       "      <td>9.593505e+08</td>\n",
       "      <td>1.311013</td>\n",
       "      <td>9.985289e+08</td>\n",
       "    </tr>\n",
       "    <tr>\n",
       "      <th>2</th>\n",
       "      <td>New York</td>\n",
       "      <td>5.282452e+08</td>\n",
       "      <td>1.659477</td>\n",
       "      <td>7.218311e+08</td>\n",
       "    </tr>\n",
       "    <tr>\n",
       "      <th>3</th>\n",
       "      <td>Plains</td>\n",
       "      <td>6.352576e+08</td>\n",
       "      <td>1.351324</td>\n",
       "      <td>7.108276e+08</td>\n",
       "    </tr>\n",
       "    <tr>\n",
       "      <th>4</th>\n",
       "      <td>San Francisco</td>\n",
       "      <td>2.742169e+08</td>\n",
       "      <td>1.759967</td>\n",
       "      <td>3.794715e+08</td>\n",
       "    </tr>\n",
       "    <tr>\n",
       "      <th>5</th>\n",
       "      <td>Baltimore/Washington</td>\n",
       "      <td>2.767646e+08</td>\n",
       "      <td>1.474820</td>\n",
       "      <td>3.654018e+08</td>\n",
       "    </tr>\n",
       "    <tr>\n",
       "      <th>6</th>\n",
       "      <td>Dallas/Ft. Worth</td>\n",
       "      <td>4.362042e+08</td>\n",
       "      <td>1.076160</td>\n",
       "      <td>3.603434e+08</td>\n",
       "    </tr>\n",
       "    <tr>\n",
       "      <th>7</th>\n",
       "      <td>Chicago</td>\n",
       "      <td>2.576650e+08</td>\n",
       "      <td>1.524265</td>\n",
       "      <td>3.383896e+08</td>\n",
       "    </tr>\n",
       "    <tr>\n",
       "      <th>8</th>\n",
       "      <td>Houston</td>\n",
       "      <td>4.208438e+08</td>\n",
       "      <td>1.075752</td>\n",
       "      <td>3.367408e+08</td>\n",
       "    </tr>\n",
       "    <tr>\n",
       "      <th>9</th>\n",
       "      <td>Denver</td>\n",
       "      <td>2.779295e+08</td>\n",
       "      <td>1.263088</td>\n",
       "      <td>2.999316e+08</td>\n",
       "    </tr>\n",
       "    <tr>\n",
       "      <th>10</th>\n",
       "      <td>Phoenix/Tucson</td>\n",
       "      <td>3.825234e+08</td>\n",
       "      <td>1.209297</td>\n",
       "      <td>2.937031e+08</td>\n",
       "    </tr>\n",
       "    <tr>\n",
       "      <th>11</th>\n",
       "      <td>Boston</td>\n",
       "      <td>2.041325e+08</td>\n",
       "      <td>1.536307</td>\n",
       "      <td>2.722812e+08</td>\n",
       "    </tr>\n",
       "    <tr>\n",
       "      <th>12</th>\n",
       "      <td>Miami/Ft. Lauderdale</td>\n",
       "      <td>2.317448e+08</td>\n",
       "      <td>1.340425</td>\n",
       "      <td>2.670204e+08</td>\n",
       "    </tr>\n",
       "    <tr>\n",
       "      <th>13</th>\n",
       "      <td>Seattle</td>\n",
       "      <td>2.024026e+08</td>\n",
       "      <td>1.543938</td>\n",
       "      <td>2.606800e+08</td>\n",
       "    </tr>\n",
       "    <tr>\n",
       "      <th>14</th>\n",
       "      <td>West Tex/New Mexico</td>\n",
       "      <td>2.806116e+08</td>\n",
       "      <td>1.252972</td>\n",
       "      <td>2.440488e+08</td>\n",
       "    </tr>\n",
       "    <tr>\n",
       "      <th>15</th>\n",
       "      <td>Portland</td>\n",
       "      <td>2.135438e+08</td>\n",
       "      <td>1.409592</td>\n",
       "      <td>2.362614e+08</td>\n",
       "    </tr>\n",
       "    <tr>\n",
       "      <th>16</th>\n",
       "      <td>Philadelphia</td>\n",
       "      <td>1.584327e+08</td>\n",
       "      <td>1.524199</td>\n",
       "      <td>2.043966e+08</td>\n",
       "    </tr>\n",
       "    <tr>\n",
       "      <th>17</th>\n",
       "      <td>Atlanta</td>\n",
       "      <td>1.989941e+08</td>\n",
       "      <td>1.303301</td>\n",
       "      <td>2.038380e+08</td>\n",
       "    </tr>\n",
       "    <tr>\n",
       "      <th>18</th>\n",
       "      <td>San Diego</td>\n",
       "      <td>1.737644e+08</td>\n",
       "      <td>1.456111</td>\n",
       "      <td>1.924092e+08</td>\n",
       "    </tr>\n",
       "    <tr>\n",
       "      <th>19</th>\n",
       "      <td>Sacramento</td>\n",
       "      <td>1.492713e+08</td>\n",
       "      <td>1.584608</td>\n",
       "      <td>1.919321e+08</td>\n",
       "    </tr>\n",
       "  </tbody>\n",
       "</table>\n",
       "</div>"
      ],
      "text/plain": [
       "               geography  total_volume  avg_price  total_revenue\n",
       "0            Great Lakes  1.220448e+09   1.310572   1.387575e+09\n",
       "1            Los Angeles  9.593505e+08   1.311013   9.985289e+08\n",
       "2               New York  5.282452e+08   1.659477   7.218311e+08\n",
       "3                 Plains  6.352576e+08   1.351324   7.108276e+08\n",
       "4          San Francisco  2.742169e+08   1.759967   3.794715e+08\n",
       "5   Baltimore/Washington  2.767646e+08   1.474820   3.654018e+08\n",
       "6       Dallas/Ft. Worth  4.362042e+08   1.076160   3.603434e+08\n",
       "7                Chicago  2.576650e+08   1.524265   3.383896e+08\n",
       "8                Houston  4.208438e+08   1.075752   3.367408e+08\n",
       "9                 Denver  2.779295e+08   1.263088   2.999316e+08\n",
       "10        Phoenix/Tucson  3.825234e+08   1.209297   2.937031e+08\n",
       "11                Boston  2.041325e+08   1.536307   2.722812e+08\n",
       "12  Miami/Ft. Lauderdale  2.317448e+08   1.340425   2.670204e+08\n",
       "13               Seattle  2.024026e+08   1.543938   2.606800e+08\n",
       "14   West Tex/New Mexico  2.806116e+08   1.252972   2.440488e+08\n",
       "15              Portland  2.135438e+08   1.409592   2.362614e+08\n",
       "16          Philadelphia  1.584327e+08   1.524199   2.043966e+08\n",
       "17               Atlanta  1.989941e+08   1.303301   2.038380e+08\n",
       "18             San Diego  1.737644e+08   1.456111   1.924092e+08\n",
       "19            Sacramento  1.492713e+08   1.584608   1.919321e+08"
      ]
     },
     "execution_count": 11,
     "metadata": {},
     "output_type": "execute_result"
    }
   ],
   "source": [
    "top_20_summary"
   ]
  },
  {
   "cell_type": "markdown",
   "metadata": {},
   "source": [
    "### As another option, if Olaplex wanted to balance between demand and revenue, we could create a weighted metric based on if Olaplex values total volume more than total revnue, or vice versa "
   ]
  },
  {
   "cell_type": "code",
   "execution_count": 96,
   "metadata": {},
   "outputs": [],
   "source": [
    "# # Example weights for the composite score \n",
    "total_volume_weight = 0.7  # Weight for total volume (emphasis on demand)\n",
    "revenue_weight = 0.3  # Weight for total revenue (profitability)\n",
    "\n",
    "# Calculate the composite score\n",
    "top_20_summary_with_composite = top_20_summary.copy()\n",
    "top_20_summary_with_composite['composite_score'] = (\n",
    "     total_volume_weight * (top_20_summary_with_composite['total_volume'] / top_20_summary_with_composite['total_volume'].max()) + \n",
    "     revenue_weight * (top_20_summary_with_composite['total_revenue'] / top_20_summary_with_composite['total_revenue'].max())\n",
    " )\n",
    "\n",
    "# Sort by the composite score in descending order\n",
    "top_20_summary_with_composite = top_20_summary_with_composite.sort_values(by='composite_score', ascending=False)\n",
    "\n",
    "# Since we don't have that information for this task, stick with using total revenue as an indication of where to place headcount"
   ]
  },
  {
   "cell_type": "markdown",
   "metadata": {},
   "source": [
    "## 4. Visualize results "
   ]
  },
  {
   "cell_type": "markdown",
   "metadata": {},
   "source": [
    "## 4a. Top 20 locations with the highest historical total revenue - these are the locations Olaplex should deploy the sales headcount "
   ]
  },
  {
   "cell_type": "code",
   "execution_count": 106,
   "metadata": {},
   "outputs": [
    {
     "data": {
      "application/vnd.plotly.v1+json": {
       "config": {
        "plotlyServerURL": "https://plot.ly"
       },
       "data": [
        {
         "alignmentgroup": "True",
         "hovertemplate": "<b>%{y}</b><br>Total Revenue: $%{x:,.2f}<br>",
         "legendgroup": "",
         "marker": {
          "color": "#636efa",
          "pattern": {
           "shape": ""
          }
         },
         "name": "",
         "offsetgroup": "",
         "orientation": "h",
         "showlegend": false,
         "text": [
          1387574999.4632,
          998528874.0821,
          721831103.7682,
          710827633.0193,
          379471475.813,
          365401779.5233,
          360343352.295,
          338389574.4806,
          336740787.7161,
          299931649.5155,
          293703108.4127,
          272281219.0974,
          267020442.2231,
          260679994.7736,
          244048841.0684,
          236261359.18670002,
          204396563.5413,
          203837972.3453,
          192409159.8828,
          191932061.4125
         ],
         "textposition": "auto",
         "texttemplate": "%{text:.2s}",
         "type": "bar",
         "x": [
          1387574999.4632,
          998528874.0821,
          721831103.7682,
          710827633.0193,
          379471475.813,
          365401779.5233,
          360343352.295,
          338389574.4806,
          336740787.7161,
          299931649.5155,
          293703108.4127,
          272281219.0974,
          267020442.2231,
          260679994.7736,
          244048841.0684,
          236261359.18670002,
          204396563.5413,
          203837972.3453,
          192409159.8828,
          191932061.4125
         ],
         "xaxis": "x",
         "y": [
          "Great Lakes",
          "Los Angeles",
          "New York",
          "Plains",
          "San Francisco",
          "Baltimore/Washington",
          "Dallas/Ft. Worth",
          "Chicago",
          "Houston",
          "Denver",
          "Phoenix/Tucson",
          "Boston",
          "Miami/Ft. Lauderdale",
          "Seattle",
          "West Tex/New Mexico",
          "Portland",
          "Philadelphia",
          "Atlanta",
          "San Diego",
          "Sacramento"
         ],
         "yaxis": "y"
        }
       ],
       "layout": {
        "barmode": "relative",
        "height": 640,
        "legend": {
         "tracegroupgap": 0
        },
        "template": {
         "data": {
          "bar": [
           {
            "error_x": {
             "color": "#2a3f5f"
            },
            "error_y": {
             "color": "#2a3f5f"
            },
            "marker": {
             "line": {
              "color": "white",
              "width": 0.5
             },
             "pattern": {
              "fillmode": "overlay",
              "size": 10,
              "solidity": 0.2
             }
            },
            "type": "bar"
           }
          ],
          "barpolar": [
           {
            "marker": {
             "line": {
              "color": "white",
              "width": 0.5
             },
             "pattern": {
              "fillmode": "overlay",
              "size": 10,
              "solidity": 0.2
             }
            },
            "type": "barpolar"
           }
          ],
          "carpet": [
           {
            "aaxis": {
             "endlinecolor": "#2a3f5f",
             "gridcolor": "#C8D4E3",
             "linecolor": "#C8D4E3",
             "minorgridcolor": "#C8D4E3",
             "startlinecolor": "#2a3f5f"
            },
            "baxis": {
             "endlinecolor": "#2a3f5f",
             "gridcolor": "#C8D4E3",
             "linecolor": "#C8D4E3",
             "minorgridcolor": "#C8D4E3",
             "startlinecolor": "#2a3f5f"
            },
            "type": "carpet"
           }
          ],
          "choropleth": [
           {
            "colorbar": {
             "outlinewidth": 0,
             "ticks": ""
            },
            "type": "choropleth"
           }
          ],
          "contour": [
           {
            "colorbar": {
             "outlinewidth": 0,
             "ticks": ""
            },
            "colorscale": [
             [
              0,
              "#0d0887"
             ],
             [
              0.1111111111111111,
              "#46039f"
             ],
             [
              0.2222222222222222,
              "#7201a8"
             ],
             [
              0.3333333333333333,
              "#9c179e"
             ],
             [
              0.4444444444444444,
              "#bd3786"
             ],
             [
              0.5555555555555556,
              "#d8576b"
             ],
             [
              0.6666666666666666,
              "#ed7953"
             ],
             [
              0.7777777777777778,
              "#fb9f3a"
             ],
             [
              0.8888888888888888,
              "#fdca26"
             ],
             [
              1,
              "#f0f921"
             ]
            ],
            "type": "contour"
           }
          ],
          "contourcarpet": [
           {
            "colorbar": {
             "outlinewidth": 0,
             "ticks": ""
            },
            "type": "contourcarpet"
           }
          ],
          "heatmap": [
           {
            "colorbar": {
             "outlinewidth": 0,
             "ticks": ""
            },
            "colorscale": [
             [
              0,
              "#0d0887"
             ],
             [
              0.1111111111111111,
              "#46039f"
             ],
             [
              0.2222222222222222,
              "#7201a8"
             ],
             [
              0.3333333333333333,
              "#9c179e"
             ],
             [
              0.4444444444444444,
              "#bd3786"
             ],
             [
              0.5555555555555556,
              "#d8576b"
             ],
             [
              0.6666666666666666,
              "#ed7953"
             ],
             [
              0.7777777777777778,
              "#fb9f3a"
             ],
             [
              0.8888888888888888,
              "#fdca26"
             ],
             [
              1,
              "#f0f921"
             ]
            ],
            "type": "heatmap"
           }
          ],
          "heatmapgl": [
           {
            "colorbar": {
             "outlinewidth": 0,
             "ticks": ""
            },
            "colorscale": [
             [
              0,
              "#0d0887"
             ],
             [
              0.1111111111111111,
              "#46039f"
             ],
             [
              0.2222222222222222,
              "#7201a8"
             ],
             [
              0.3333333333333333,
              "#9c179e"
             ],
             [
              0.4444444444444444,
              "#bd3786"
             ],
             [
              0.5555555555555556,
              "#d8576b"
             ],
             [
              0.6666666666666666,
              "#ed7953"
             ],
             [
              0.7777777777777778,
              "#fb9f3a"
             ],
             [
              0.8888888888888888,
              "#fdca26"
             ],
             [
              1,
              "#f0f921"
             ]
            ],
            "type": "heatmapgl"
           }
          ],
          "histogram": [
           {
            "marker": {
             "pattern": {
              "fillmode": "overlay",
              "size": 10,
              "solidity": 0.2
             }
            },
            "type": "histogram"
           }
          ],
          "histogram2d": [
           {
            "colorbar": {
             "outlinewidth": 0,
             "ticks": ""
            },
            "colorscale": [
             [
              0,
              "#0d0887"
             ],
             [
              0.1111111111111111,
              "#46039f"
             ],
             [
              0.2222222222222222,
              "#7201a8"
             ],
             [
              0.3333333333333333,
              "#9c179e"
             ],
             [
              0.4444444444444444,
              "#bd3786"
             ],
             [
              0.5555555555555556,
              "#d8576b"
             ],
             [
              0.6666666666666666,
              "#ed7953"
             ],
             [
              0.7777777777777778,
              "#fb9f3a"
             ],
             [
              0.8888888888888888,
              "#fdca26"
             ],
             [
              1,
              "#f0f921"
             ]
            ],
            "type": "histogram2d"
           }
          ],
          "histogram2dcontour": [
           {
            "colorbar": {
             "outlinewidth": 0,
             "ticks": ""
            },
            "colorscale": [
             [
              0,
              "#0d0887"
             ],
             [
              0.1111111111111111,
              "#46039f"
             ],
             [
              0.2222222222222222,
              "#7201a8"
             ],
             [
              0.3333333333333333,
              "#9c179e"
             ],
             [
              0.4444444444444444,
              "#bd3786"
             ],
             [
              0.5555555555555556,
              "#d8576b"
             ],
             [
              0.6666666666666666,
              "#ed7953"
             ],
             [
              0.7777777777777778,
              "#fb9f3a"
             ],
             [
              0.8888888888888888,
              "#fdca26"
             ],
             [
              1,
              "#f0f921"
             ]
            ],
            "type": "histogram2dcontour"
           }
          ],
          "mesh3d": [
           {
            "colorbar": {
             "outlinewidth": 0,
             "ticks": ""
            },
            "type": "mesh3d"
           }
          ],
          "parcoords": [
           {
            "line": {
             "colorbar": {
              "outlinewidth": 0,
              "ticks": ""
             }
            },
            "type": "parcoords"
           }
          ],
          "pie": [
           {
            "automargin": true,
            "type": "pie"
           }
          ],
          "scatter": [
           {
            "fillpattern": {
             "fillmode": "overlay",
             "size": 10,
             "solidity": 0.2
            },
            "type": "scatter"
           }
          ],
          "scatter3d": [
           {
            "line": {
             "colorbar": {
              "outlinewidth": 0,
              "ticks": ""
             }
            },
            "marker": {
             "colorbar": {
              "outlinewidth": 0,
              "ticks": ""
             }
            },
            "type": "scatter3d"
           }
          ],
          "scattercarpet": [
           {
            "marker": {
             "colorbar": {
              "outlinewidth": 0,
              "ticks": ""
             }
            },
            "type": "scattercarpet"
           }
          ],
          "scattergeo": [
           {
            "marker": {
             "colorbar": {
              "outlinewidth": 0,
              "ticks": ""
             }
            },
            "type": "scattergeo"
           }
          ],
          "scattergl": [
           {
            "marker": {
             "colorbar": {
              "outlinewidth": 0,
              "ticks": ""
             }
            },
            "type": "scattergl"
           }
          ],
          "scattermapbox": [
           {
            "marker": {
             "colorbar": {
              "outlinewidth": 0,
              "ticks": ""
             }
            },
            "type": "scattermapbox"
           }
          ],
          "scatterpolar": [
           {
            "marker": {
             "colorbar": {
              "outlinewidth": 0,
              "ticks": ""
             }
            },
            "type": "scatterpolar"
           }
          ],
          "scatterpolargl": [
           {
            "marker": {
             "colorbar": {
              "outlinewidth": 0,
              "ticks": ""
             }
            },
            "type": "scatterpolargl"
           }
          ],
          "scatterternary": [
           {
            "marker": {
             "colorbar": {
              "outlinewidth": 0,
              "ticks": ""
             }
            },
            "type": "scatterternary"
           }
          ],
          "surface": [
           {
            "colorbar": {
             "outlinewidth": 0,
             "ticks": ""
            },
            "colorscale": [
             [
              0,
              "#0d0887"
             ],
             [
              0.1111111111111111,
              "#46039f"
             ],
             [
              0.2222222222222222,
              "#7201a8"
             ],
             [
              0.3333333333333333,
              "#9c179e"
             ],
             [
              0.4444444444444444,
              "#bd3786"
             ],
             [
              0.5555555555555556,
              "#d8576b"
             ],
             [
              0.6666666666666666,
              "#ed7953"
             ],
             [
              0.7777777777777778,
              "#fb9f3a"
             ],
             [
              0.8888888888888888,
              "#fdca26"
             ],
             [
              1,
              "#f0f921"
             ]
            ],
            "type": "surface"
           }
          ],
          "table": [
           {
            "cells": {
             "fill": {
              "color": "#EBF0F8"
             },
             "line": {
              "color": "white"
             }
            },
            "header": {
             "fill": {
              "color": "#C8D4E3"
             },
             "line": {
              "color": "white"
             }
            },
            "type": "table"
           }
          ]
         },
         "layout": {
          "annotationdefaults": {
           "arrowcolor": "#2a3f5f",
           "arrowhead": 0,
           "arrowwidth": 1
          },
          "autotypenumbers": "strict",
          "coloraxis": {
           "colorbar": {
            "outlinewidth": 0,
            "ticks": ""
           }
          },
          "colorscale": {
           "diverging": [
            [
             0,
             "#8e0152"
            ],
            [
             0.1,
             "#c51b7d"
            ],
            [
             0.2,
             "#de77ae"
            ],
            [
             0.3,
             "#f1b6da"
            ],
            [
             0.4,
             "#fde0ef"
            ],
            [
             0.5,
             "#f7f7f7"
            ],
            [
             0.6,
             "#e6f5d0"
            ],
            [
             0.7,
             "#b8e186"
            ],
            [
             0.8,
             "#7fbc41"
            ],
            [
             0.9,
             "#4d9221"
            ],
            [
             1,
             "#276419"
            ]
           ],
           "sequential": [
            [
             0,
             "#0d0887"
            ],
            [
             0.1111111111111111,
             "#46039f"
            ],
            [
             0.2222222222222222,
             "#7201a8"
            ],
            [
             0.3333333333333333,
             "#9c179e"
            ],
            [
             0.4444444444444444,
             "#bd3786"
            ],
            [
             0.5555555555555556,
             "#d8576b"
            ],
            [
             0.6666666666666666,
             "#ed7953"
            ],
            [
             0.7777777777777778,
             "#fb9f3a"
            ],
            [
             0.8888888888888888,
             "#fdca26"
            ],
            [
             1,
             "#f0f921"
            ]
           ],
           "sequentialminus": [
            [
             0,
             "#0d0887"
            ],
            [
             0.1111111111111111,
             "#46039f"
            ],
            [
             0.2222222222222222,
             "#7201a8"
            ],
            [
             0.3333333333333333,
             "#9c179e"
            ],
            [
             0.4444444444444444,
             "#bd3786"
            ],
            [
             0.5555555555555556,
             "#d8576b"
            ],
            [
             0.6666666666666666,
             "#ed7953"
            ],
            [
             0.7777777777777778,
             "#fb9f3a"
            ],
            [
             0.8888888888888888,
             "#fdca26"
            ],
            [
             1,
             "#f0f921"
            ]
           ]
          },
          "colorway": [
           "#636efa",
           "#EF553B",
           "#00cc96",
           "#ab63fa",
           "#FFA15A",
           "#19d3f3",
           "#FF6692",
           "#B6E880",
           "#FF97FF",
           "#FECB52"
          ],
          "font": {
           "color": "#2a3f5f"
          },
          "geo": {
           "bgcolor": "white",
           "lakecolor": "white",
           "landcolor": "white",
           "showlakes": true,
           "showland": true,
           "subunitcolor": "#C8D4E3"
          },
          "hoverlabel": {
           "align": "left"
          },
          "hovermode": "closest",
          "mapbox": {
           "style": "light"
          },
          "paper_bgcolor": "white",
          "plot_bgcolor": "white",
          "polar": {
           "angularaxis": {
            "gridcolor": "#EBF0F8",
            "linecolor": "#EBF0F8",
            "ticks": ""
           },
           "bgcolor": "white",
           "radialaxis": {
            "gridcolor": "#EBF0F8",
            "linecolor": "#EBF0F8",
            "ticks": ""
           }
          },
          "scene": {
           "xaxis": {
            "backgroundcolor": "white",
            "gridcolor": "#DFE8F3",
            "gridwidth": 2,
            "linecolor": "#EBF0F8",
            "showbackground": true,
            "ticks": "",
            "zerolinecolor": "#EBF0F8"
           },
           "yaxis": {
            "backgroundcolor": "white",
            "gridcolor": "#DFE8F3",
            "gridwidth": 2,
            "linecolor": "#EBF0F8",
            "showbackground": true,
            "ticks": "",
            "zerolinecolor": "#EBF0F8"
           },
           "zaxis": {
            "backgroundcolor": "white",
            "gridcolor": "#DFE8F3",
            "gridwidth": 2,
            "linecolor": "#EBF0F8",
            "showbackground": true,
            "ticks": "",
            "zerolinecolor": "#EBF0F8"
           }
          },
          "shapedefaults": {
           "line": {
            "color": "#2a3f5f"
           }
          },
          "ternary": {
           "aaxis": {
            "gridcolor": "#DFE8F3",
            "linecolor": "#A2B1C6",
            "ticks": ""
           },
           "baxis": {
            "gridcolor": "#DFE8F3",
            "linecolor": "#A2B1C6",
            "ticks": ""
           },
           "bgcolor": "white",
           "caxis": {
            "gridcolor": "#DFE8F3",
            "linecolor": "#A2B1C6",
            "ticks": ""
           }
          },
          "title": {
           "x": 0.05
          },
          "xaxis": {
           "automargin": true,
           "gridcolor": "#EBF0F8",
           "linecolor": "#EBF0F8",
           "ticks": "",
           "title": {
            "standoff": 15
           },
           "zerolinecolor": "#EBF0F8",
           "zerolinewidth": 2
          },
          "yaxis": {
           "automargin": true,
           "gridcolor": "#EBF0F8",
           "linecolor": "#EBF0F8",
           "ticks": "",
           "title": {
            "standoff": 15
           },
           "zerolinecolor": "#EBF0F8",
           "zerolinewidth": 2
          }
         }
        },
        "title": {
         "text": "Top 20 Regions by Total Avocado Revenue from 2015 - 2020"
        },
        "xaxis": {
         "anchor": "y",
         "domain": [
          0,
          1
         ],
         "tickformat": "$.2s",
         "title": {
          "text": "Total Revenue (in USD)"
         }
        },
        "yaxis": {
         "anchor": "x",
         "categoryorder": "total ascending",
         "domain": [
          0,
          1
         ],
         "title": {
          "text": "Region"
         }
        }
       }
      }
     },
     "metadata": {},
     "output_type": "display_data"
    }
   ],
   "source": [
    "fig = px.bar(\n",
    "    top_20_summary,\n",
    "    x=\"total_revenue\",\n",
    "    y=\"geography\",  \n",
    "    orientation=\"h\",\n",
    "    title=\"Top 20 Regions by Total Avocado Revenue from 2015 - 2020\",\n",
    "    labels={\"total_revenue\": \"Total Revenue (in USD)\", \"geography\": \"Region\"},\n",
    "    text=\"total_revenue\"\n",
    ")\n",
    "\n",
    "fig.update_layout(\n",
    "    xaxis=dict(title=\"Total Revenue (in USD)\", tickformat=\"$.2s\"),\n",
    "    yaxis=dict(title=\"Region\", categoryorder=\"total ascending\"),  # Sort by revenue\n",
    "    template=\"plotly_white\",\n",
    "    height=640  \n",
    ")\n",
    "\n",
    "# Add hover for exact values\n",
    "fig.update_traces(\n",
    "    texttemplate=\"%{text:.2s}\",  \n",
    "    hovertemplate=(\n",
    "        \"<b>%{y}</b><br>\"\n",
    "        \"Total Revenue: $%{x:,.2f}<br>\"\n",
    "    )\n",
    ")\n",
    "\n",
    "fig.show()"
   ]
  },
  {
   "cell_type": "code",
   "execution_count": 14,
   "metadata": {},
   "outputs": [],
   "source": [
    "# Create a second dataframe with all the original columns for expanded (and any other) visualizations\n",
    "\n",
    "top_20_detailed = avocado_df[avocado_df['geography'].isin(top_20_summary['geography'])]"
   ]
  },
  {
   "cell_type": "code",
   "execution_count": 15,
   "metadata": {},
   "outputs": [],
   "source": [
    "# Save the outputs\n",
    "# top_20_summary.to_csv(\"/Users/hannahwhitmore/desktop/top_20_summary.csv\", index=False)\n",
    "# top_20_detailed.to_csv(\"/Users/hannahwhitmore/desktop/top_20_detailed.csv\", index=False)"
   ]
  },
  {
   "cell_type": "code",
   "execution_count": 16,
   "metadata": {},
   "outputs": [],
   "source": [
    "# Helper function for formatting\n",
    "\n",
    "def format_rev(value):\n",
    "    if value >= 1e9:\n",
    "        return f\"{value / 1e9:.1f}B\"  \n",
    "    elif value >= 1e6:\n",
    "        return f\"{value / 1e6:.1f}M\"  \n",
    "    elif value >= 1e3:\n",
    "        return f\"{value / 1e3:.1f}K\" \n",
    "    else:\n",
    "        return f\"{value:.1f}\"      "
   ]
  },
  {
   "cell_type": "code",
   "execution_count": 17,
   "metadata": {},
   "outputs": [],
   "source": [
    "# Need to map cities to their state abbrevations for Plotly's geographic library\n",
    "\n",
    "region_to_state = {\n",
    "    'Atlanta': 'GA',\n",
    "    'Baltimore/Washington': 'MD',\n",
    "    'Boston': 'MA',\n",
    "    'Chicago': 'IL',\n",
    "    'Dallas/Ft. Worth': 'TX',\n",
    "    'Denver': 'CO',\n",
    "    'Great Lakes': 'MI',  \n",
    "    'Houston': 'TX',\n",
    "    'Los Angeles': 'CA',\n",
    "    'Miami/Ft. Lauderdale': 'FL',\n",
    "    'New York': 'NY',\n",
    "    'Philadelphia': 'PA',\n",
    "    'Phoenix/Tucson': 'AZ',\n",
    "    'Plains': 'KS',  \n",
    "    'Portland': 'OR',\n",
    "    'Sacramento': 'CA',\n",
    "    'San Diego': 'CA',\n",
    "    'San Francisco': 'CA',\n",
    "    'Seattle': 'WA',\n",
    "    'West Tex/New Mexico': 'TX',  # Or NM\n",
    "}"
   ]
  },
  {
   "cell_type": "markdown",
   "metadata": {},
   "source": [
    "## 4b. Top 20 total revenue on the map of the US "
   ]
  },
  {
   "cell_type": "code",
   "execution_count": 18,
   "metadata": {},
   "outputs": [
    {
     "data": {
      "application/vnd.plotly.v1+json": {
       "config": {
        "plotlyServerURL": "https://plot.ly"
       },
       "data": [
        {
         "customdata": [
          [
           "203.8M",
           "199.0M",
           203837972.3453,
           198994117.74
          ],
          [
           "365.4M",
           "276.8M",
           365401779.5233,
           276764634.1
          ],
          [
           "272.3M",
           "204.1M",
           272281219.0974,
           204132518.89000002
          ],
          [
           "338.4M",
           "257.7M",
           338389574.4806,
           257665010.59
          ],
          [
           "360.3M",
           "436.2M",
           360343352.295,
           436204160.85
          ],
          [
           "299.9M",
           "277.9M",
           299931649.5155,
           277929528.9
          ],
          [
           "1.4B",
           "1.2B",
           1387574999.4632,
           1220448350.67
          ],
          [
           "336.7M",
           "420.8M",
           336740787.7161,
           420843846.87
          ],
          [
           "998.5M",
           "959.4M",
           998528874.0821,
           959350488.02
          ],
          [
           "267.0M",
           "231.7M",
           267020442.2231,
           231744848.68
          ],
          [
           "721.8M",
           "528.2M",
           721831103.7682,
           528245244.19
          ],
          [
           "204.4M",
           "158.4M",
           204396563.5413,
           158432673.43
          ],
          [
           "293.7M",
           "382.5M",
           293703108.4127,
           382523413.59
          ],
          [
           "710.8M",
           "635.3M",
           710827633.0193,
           635257613.5600001
          ],
          [
           "236.3M",
           "213.5M",
           236261359.18670002,
           213543774.23
          ],
          [
           "191.9M",
           "149.3M",
           191932061.4125,
           149271315.73
          ],
          [
           "192.4M",
           "173.8M",
           192409159.8828,
           173764449.74
          ],
          [
           "379.5M",
           "274.2M",
           379471475.813,
           274216888.35
          ],
          [
           "260.7M",
           "202.4M",
           260679994.7736,
           202402575.84
          ],
          [
           "244.0M",
           "280.6M",
           244048841.0684,
           280611566.3
          ]
         ],
         "geo": "geo",
         "hovertemplate": "<b>%{hovertext}</b><br><br>state=%{location}<br>Total Revenue=%{customdata[0]}<br>Total Volume=%{customdata[1]}<extra></extra>",
         "hovertext": [
          "Atlanta",
          "Baltimore/Washington",
          "Boston",
          "Chicago",
          "Dallas/Ft. Worth",
          "Denver",
          "Great Lakes",
          "Houston",
          "Los Angeles",
          "Miami/Ft. Lauderdale",
          "New York",
          "Philadelphia",
          "Phoenix/Tucson",
          "Plains",
          "Portland",
          "Sacramento",
          "San Diego",
          "San Francisco",
          "Seattle",
          "West Tex/New Mexico"
         ],
         "legendgroup": "",
         "locationmode": "USA-states",
         "locations": [
          "GA",
          "MD",
          "MA",
          "IL",
          "TX",
          "CO",
          "MI",
          "TX",
          "CA",
          "FL",
          "NY",
          "PA",
          "AZ",
          "KS",
          "OR",
          "CA",
          "CA",
          "CA",
          "WA",
          "TX"
         ],
         "marker": {
          "color": [
           203837972.3453,
           365401779.5233,
           272281219.0974,
           338389574.4806,
           360343352.295,
           299931649.5155,
           1387574999.4632,
           336740787.7161,
           998528874.0821,
           267020442.2231,
           721831103.7682,
           204396563.5413,
           293703108.4127,
           710827633.0193,
           236261359.18670002,
           191932061.4125,
           192409159.8828,
           379471475.813,
           260679994.7736,
           244048841.0684
          ],
          "coloraxis": "coloraxis",
          "size": [
           203837972.3453,
           365401779.5233,
           272281219.0974,
           338389574.4806,
           360343352.295,
           299931649.5155,
           1387574999.4632,
           336740787.7161,
           998528874.0821,
           267020442.2231,
           721831103.7682,
           204396563.5413,
           293703108.4127,
           710827633.0193,
           236261359.18670002,
           191932061.4125,
           192409159.8828,
           379471475.813,
           260679994.7736,
           244048841.0684
          ],
          "sizemode": "area",
          "sizeref": 3468937.498658,
          "symbol": "circle"
         },
         "mode": "markers",
         "name": "",
         "showlegend": false,
         "type": "scattergeo"
        }
       ],
       "layout": {
        "coloraxis": {
         "colorbar": {
          "title": {
           "text": "total_revenue"
          }
         },
         "colorscale": [
          [
           0,
           "#0d0887"
          ],
          [
           0.1111111111111111,
           "#46039f"
          ],
          [
           0.2222222222222222,
           "#7201a8"
          ],
          [
           0.3333333333333333,
           "#9c179e"
          ],
          [
           0.4444444444444444,
           "#bd3786"
          ],
          [
           0.5555555555555556,
           "#d8576b"
          ],
          [
           0.6666666666666666,
           "#ed7953"
          ],
          [
           0.7777777777777778,
           "#fb9f3a"
          ],
          [
           0.8888888888888888,
           "#fdca26"
          ],
          [
           1,
           "#f0f921"
          ]
         ]
        },
        "geo": {
         "center": {},
         "domain": {
          "x": [
           0,
           1
          ],
          "y": [
           0,
           1
          ]
         },
         "projection": {
          "type": "albers usa"
         }
        },
        "legend": {
         "itemsizing": "constant",
         "tracegroupgap": 0
        },
        "template": {
         "data": {
          "bar": [
           {
            "error_x": {
             "color": "#2a3f5f"
            },
            "error_y": {
             "color": "#2a3f5f"
            },
            "marker": {
             "line": {
              "color": "#E5ECF6",
              "width": 0.5
             },
             "pattern": {
              "fillmode": "overlay",
              "size": 10,
              "solidity": 0.2
             }
            },
            "type": "bar"
           }
          ],
          "barpolar": [
           {
            "marker": {
             "line": {
              "color": "#E5ECF6",
              "width": 0.5
             },
             "pattern": {
              "fillmode": "overlay",
              "size": 10,
              "solidity": 0.2
             }
            },
            "type": "barpolar"
           }
          ],
          "carpet": [
           {
            "aaxis": {
             "endlinecolor": "#2a3f5f",
             "gridcolor": "white",
             "linecolor": "white",
             "minorgridcolor": "white",
             "startlinecolor": "#2a3f5f"
            },
            "baxis": {
             "endlinecolor": "#2a3f5f",
             "gridcolor": "white",
             "linecolor": "white",
             "minorgridcolor": "white",
             "startlinecolor": "#2a3f5f"
            },
            "type": "carpet"
           }
          ],
          "choropleth": [
           {
            "colorbar": {
             "outlinewidth": 0,
             "ticks": ""
            },
            "type": "choropleth"
           }
          ],
          "contour": [
           {
            "colorbar": {
             "outlinewidth": 0,
             "ticks": ""
            },
            "colorscale": [
             [
              0,
              "#0d0887"
             ],
             [
              0.1111111111111111,
              "#46039f"
             ],
             [
              0.2222222222222222,
              "#7201a8"
             ],
             [
              0.3333333333333333,
              "#9c179e"
             ],
             [
              0.4444444444444444,
              "#bd3786"
             ],
             [
              0.5555555555555556,
              "#d8576b"
             ],
             [
              0.6666666666666666,
              "#ed7953"
             ],
             [
              0.7777777777777778,
              "#fb9f3a"
             ],
             [
              0.8888888888888888,
              "#fdca26"
             ],
             [
              1,
              "#f0f921"
             ]
            ],
            "type": "contour"
           }
          ],
          "contourcarpet": [
           {
            "colorbar": {
             "outlinewidth": 0,
             "ticks": ""
            },
            "type": "contourcarpet"
           }
          ],
          "heatmap": [
           {
            "colorbar": {
             "outlinewidth": 0,
             "ticks": ""
            },
            "colorscale": [
             [
              0,
              "#0d0887"
             ],
             [
              0.1111111111111111,
              "#46039f"
             ],
             [
              0.2222222222222222,
              "#7201a8"
             ],
             [
              0.3333333333333333,
              "#9c179e"
             ],
             [
              0.4444444444444444,
              "#bd3786"
             ],
             [
              0.5555555555555556,
              "#d8576b"
             ],
             [
              0.6666666666666666,
              "#ed7953"
             ],
             [
              0.7777777777777778,
              "#fb9f3a"
             ],
             [
              0.8888888888888888,
              "#fdca26"
             ],
             [
              1,
              "#f0f921"
             ]
            ],
            "type": "heatmap"
           }
          ],
          "heatmapgl": [
           {
            "colorbar": {
             "outlinewidth": 0,
             "ticks": ""
            },
            "colorscale": [
             [
              0,
              "#0d0887"
             ],
             [
              0.1111111111111111,
              "#46039f"
             ],
             [
              0.2222222222222222,
              "#7201a8"
             ],
             [
              0.3333333333333333,
              "#9c179e"
             ],
             [
              0.4444444444444444,
              "#bd3786"
             ],
             [
              0.5555555555555556,
              "#d8576b"
             ],
             [
              0.6666666666666666,
              "#ed7953"
             ],
             [
              0.7777777777777778,
              "#fb9f3a"
             ],
             [
              0.8888888888888888,
              "#fdca26"
             ],
             [
              1,
              "#f0f921"
             ]
            ],
            "type": "heatmapgl"
           }
          ],
          "histogram": [
           {
            "marker": {
             "pattern": {
              "fillmode": "overlay",
              "size": 10,
              "solidity": 0.2
             }
            },
            "type": "histogram"
           }
          ],
          "histogram2d": [
           {
            "colorbar": {
             "outlinewidth": 0,
             "ticks": ""
            },
            "colorscale": [
             [
              0,
              "#0d0887"
             ],
             [
              0.1111111111111111,
              "#46039f"
             ],
             [
              0.2222222222222222,
              "#7201a8"
             ],
             [
              0.3333333333333333,
              "#9c179e"
             ],
             [
              0.4444444444444444,
              "#bd3786"
             ],
             [
              0.5555555555555556,
              "#d8576b"
             ],
             [
              0.6666666666666666,
              "#ed7953"
             ],
             [
              0.7777777777777778,
              "#fb9f3a"
             ],
             [
              0.8888888888888888,
              "#fdca26"
             ],
             [
              1,
              "#f0f921"
             ]
            ],
            "type": "histogram2d"
           }
          ],
          "histogram2dcontour": [
           {
            "colorbar": {
             "outlinewidth": 0,
             "ticks": ""
            },
            "colorscale": [
             [
              0,
              "#0d0887"
             ],
             [
              0.1111111111111111,
              "#46039f"
             ],
             [
              0.2222222222222222,
              "#7201a8"
             ],
             [
              0.3333333333333333,
              "#9c179e"
             ],
             [
              0.4444444444444444,
              "#bd3786"
             ],
             [
              0.5555555555555556,
              "#d8576b"
             ],
             [
              0.6666666666666666,
              "#ed7953"
             ],
             [
              0.7777777777777778,
              "#fb9f3a"
             ],
             [
              0.8888888888888888,
              "#fdca26"
             ],
             [
              1,
              "#f0f921"
             ]
            ],
            "type": "histogram2dcontour"
           }
          ],
          "mesh3d": [
           {
            "colorbar": {
             "outlinewidth": 0,
             "ticks": ""
            },
            "type": "mesh3d"
           }
          ],
          "parcoords": [
           {
            "line": {
             "colorbar": {
              "outlinewidth": 0,
              "ticks": ""
             }
            },
            "type": "parcoords"
           }
          ],
          "pie": [
           {
            "automargin": true,
            "type": "pie"
           }
          ],
          "scatter": [
           {
            "fillpattern": {
             "fillmode": "overlay",
             "size": 10,
             "solidity": 0.2
            },
            "type": "scatter"
           }
          ],
          "scatter3d": [
           {
            "line": {
             "colorbar": {
              "outlinewidth": 0,
              "ticks": ""
             }
            },
            "marker": {
             "colorbar": {
              "outlinewidth": 0,
              "ticks": ""
             }
            },
            "type": "scatter3d"
           }
          ],
          "scattercarpet": [
           {
            "marker": {
             "colorbar": {
              "outlinewidth": 0,
              "ticks": ""
             }
            },
            "type": "scattercarpet"
           }
          ],
          "scattergeo": [
           {
            "marker": {
             "colorbar": {
              "outlinewidth": 0,
              "ticks": ""
             }
            },
            "type": "scattergeo"
           }
          ],
          "scattergl": [
           {
            "marker": {
             "colorbar": {
              "outlinewidth": 0,
              "ticks": ""
             }
            },
            "type": "scattergl"
           }
          ],
          "scattermapbox": [
           {
            "marker": {
             "colorbar": {
              "outlinewidth": 0,
              "ticks": ""
             }
            },
            "type": "scattermapbox"
           }
          ],
          "scatterpolar": [
           {
            "marker": {
             "colorbar": {
              "outlinewidth": 0,
              "ticks": ""
             }
            },
            "type": "scatterpolar"
           }
          ],
          "scatterpolargl": [
           {
            "marker": {
             "colorbar": {
              "outlinewidth": 0,
              "ticks": ""
             }
            },
            "type": "scatterpolargl"
           }
          ],
          "scatterternary": [
           {
            "marker": {
             "colorbar": {
              "outlinewidth": 0,
              "ticks": ""
             }
            },
            "type": "scatterternary"
           }
          ],
          "surface": [
           {
            "colorbar": {
             "outlinewidth": 0,
             "ticks": ""
            },
            "colorscale": [
             [
              0,
              "#0d0887"
             ],
             [
              0.1111111111111111,
              "#46039f"
             ],
             [
              0.2222222222222222,
              "#7201a8"
             ],
             [
              0.3333333333333333,
              "#9c179e"
             ],
             [
              0.4444444444444444,
              "#bd3786"
             ],
             [
              0.5555555555555556,
              "#d8576b"
             ],
             [
              0.6666666666666666,
              "#ed7953"
             ],
             [
              0.7777777777777778,
              "#fb9f3a"
             ],
             [
              0.8888888888888888,
              "#fdca26"
             ],
             [
              1,
              "#f0f921"
             ]
            ],
            "type": "surface"
           }
          ],
          "table": [
           {
            "cells": {
             "fill": {
              "color": "#EBF0F8"
             },
             "line": {
              "color": "white"
             }
            },
            "header": {
             "fill": {
              "color": "#C8D4E3"
             },
             "line": {
              "color": "white"
             }
            },
            "type": "table"
           }
          ]
         },
         "layout": {
          "annotationdefaults": {
           "arrowcolor": "#2a3f5f",
           "arrowhead": 0,
           "arrowwidth": 1
          },
          "autotypenumbers": "strict",
          "coloraxis": {
           "colorbar": {
            "outlinewidth": 0,
            "ticks": ""
           }
          },
          "colorscale": {
           "diverging": [
            [
             0,
             "#8e0152"
            ],
            [
             0.1,
             "#c51b7d"
            ],
            [
             0.2,
             "#de77ae"
            ],
            [
             0.3,
             "#f1b6da"
            ],
            [
             0.4,
             "#fde0ef"
            ],
            [
             0.5,
             "#f7f7f7"
            ],
            [
             0.6,
             "#e6f5d0"
            ],
            [
             0.7,
             "#b8e186"
            ],
            [
             0.8,
             "#7fbc41"
            ],
            [
             0.9,
             "#4d9221"
            ],
            [
             1,
             "#276419"
            ]
           ],
           "sequential": [
            [
             0,
             "#0d0887"
            ],
            [
             0.1111111111111111,
             "#46039f"
            ],
            [
             0.2222222222222222,
             "#7201a8"
            ],
            [
             0.3333333333333333,
             "#9c179e"
            ],
            [
             0.4444444444444444,
             "#bd3786"
            ],
            [
             0.5555555555555556,
             "#d8576b"
            ],
            [
             0.6666666666666666,
             "#ed7953"
            ],
            [
             0.7777777777777778,
             "#fb9f3a"
            ],
            [
             0.8888888888888888,
             "#fdca26"
            ],
            [
             1,
             "#f0f921"
            ]
           ],
           "sequentialminus": [
            [
             0,
             "#0d0887"
            ],
            [
             0.1111111111111111,
             "#46039f"
            ],
            [
             0.2222222222222222,
             "#7201a8"
            ],
            [
             0.3333333333333333,
             "#9c179e"
            ],
            [
             0.4444444444444444,
             "#bd3786"
            ],
            [
             0.5555555555555556,
             "#d8576b"
            ],
            [
             0.6666666666666666,
             "#ed7953"
            ],
            [
             0.7777777777777778,
             "#fb9f3a"
            ],
            [
             0.8888888888888888,
             "#fdca26"
            ],
            [
             1,
             "#f0f921"
            ]
           ]
          },
          "colorway": [
           "#636efa",
           "#EF553B",
           "#00cc96",
           "#ab63fa",
           "#FFA15A",
           "#19d3f3",
           "#FF6692",
           "#B6E880",
           "#FF97FF",
           "#FECB52"
          ],
          "font": {
           "color": "#2a3f5f"
          },
          "geo": {
           "bgcolor": "white",
           "lakecolor": "white",
           "landcolor": "#E5ECF6",
           "showlakes": true,
           "showland": true,
           "subunitcolor": "white"
          },
          "hoverlabel": {
           "align": "left"
          },
          "hovermode": "closest",
          "mapbox": {
           "style": "light"
          },
          "paper_bgcolor": "white",
          "plot_bgcolor": "#E5ECF6",
          "polar": {
           "angularaxis": {
            "gridcolor": "white",
            "linecolor": "white",
            "ticks": ""
           },
           "bgcolor": "#E5ECF6",
           "radialaxis": {
            "gridcolor": "white",
            "linecolor": "white",
            "ticks": ""
           }
          },
          "scene": {
           "xaxis": {
            "backgroundcolor": "#E5ECF6",
            "gridcolor": "white",
            "gridwidth": 2,
            "linecolor": "white",
            "showbackground": true,
            "ticks": "",
            "zerolinecolor": "white"
           },
           "yaxis": {
            "backgroundcolor": "#E5ECF6",
            "gridcolor": "white",
            "gridwidth": 2,
            "linecolor": "white",
            "showbackground": true,
            "ticks": "",
            "zerolinecolor": "white"
           },
           "zaxis": {
            "backgroundcolor": "#E5ECF6",
            "gridcolor": "white",
            "gridwidth": 2,
            "linecolor": "white",
            "showbackground": true,
            "ticks": "",
            "zerolinecolor": "white"
           }
          },
          "shapedefaults": {
           "line": {
            "color": "#2a3f5f"
           }
          },
          "ternary": {
           "aaxis": {
            "gridcolor": "white",
            "linecolor": "white",
            "ticks": ""
           },
           "baxis": {
            "gridcolor": "white",
            "linecolor": "white",
            "ticks": ""
           },
           "bgcolor": "#E5ECF6",
           "caxis": {
            "gridcolor": "white",
            "linecolor": "white",
            "ticks": ""
           }
          },
          "title": {
           "x": 0.05
          },
          "xaxis": {
           "automargin": true,
           "gridcolor": "white",
           "linecolor": "white",
           "ticks": "",
           "title": {
            "standoff": 15
           },
           "zerolinecolor": "white",
           "zerolinewidth": 2
          },
          "yaxis": {
           "automargin": true,
           "gridcolor": "white",
           "linecolor": "white",
           "ticks": "",
           "title": {
            "standoff": 15
           },
           "zerolinecolor": "white",
           "zerolinewidth": 2
          }
         }
        },
        "title": {
         "text": "Revenue Distribution Across Top 20 Regions (2015 - 2020)"
        }
       }
      }
     },
     "metadata": {},
     "output_type": "display_data"
    }
   ],
   "source": [
    "map_data = top_20_detailed.groupby('geography').agg(\n",
    "    total_revenue=('total_revenue', 'sum'),\n",
    "    total_volume=('total_volume', 'sum')\n",
    ").reset_index()\n",
    "\n",
    "map_data['state'] = map_data['geography'].map(region_to_state)\n",
    "map_data['Total Revenue'] = map_data['total_revenue'].apply(format_rev)\n",
    "map_data['Total Volume'] = map_data['total_volume'].apply(format_rev)\n",
    "\n",
    "aggregated_map_fig = px.scatter_geo(\n",
    "    map_data,\n",
    "    locations=\"state\",\n",
    "    locationmode=\"USA-states\",\n",
    "    size=\"total_revenue\",\n",
    "    color=\"total_revenue\",  \n",
    "    hover_name=\"geography\",\n",
    "    hover_data={\n",
    "        \"Total Revenue\": True, \n",
    "        \"Total Volume\": True,\n",
    "        \"total_revenue\": False,\n",
    "        \"total_volume\": False,\n",
    "    },\n",
    "    title=\"Revenue Distribution Across Top 20 Regions (2015 - 2020)\",\n",
    "    projection=\"albers usa\",\n",
    ")\n",
    "\n",
    "aggregated_map_fig.show()"
   ]
  },
  {
   "cell_type": "markdown",
   "metadata": {},
   "source": [
    "## 4c. Top 20 total revenues by avocado type"
   ]
  },
  {
   "cell_type": "code",
   "execution_count": 88,
   "metadata": {},
   "outputs": [
    {
     "data": {
      "application/vnd.plotly.v1+json": {
       "config": {
        "plotlyServerURL": "https://plot.ly"
       },
       "data": [
        {
         "alignmentgroup": "True",
         "hovertemplate": "type=conventional<br>Total Revenue (USD)=%{x}<br>Region=%{y}<extra></extra>",
         "legendgroup": "conventional",
         "marker": {
          "color": "#636efa",
          "pattern": {
           "shape": ""
          }
         },
         "name": "conventional",
         "offsetgroup": "conventional",
         "orientation": "h",
         "showlegend": true,
         "textposition": "auto",
         "type": "bar",
         "x": [
          1309973049.0408,
          950340621.0766,
          683225721.8381,
          679830058.4213,
          358206533.606,
          349277337.9143,
          348548290.6205,
          326241332.3715,
          316393625.4104,
          285617522.6091,
          284381470.0868,
          264161686.7256,
          260044032.3245,
          234891802.7822,
          231878333.4034,
          218808393.8639,
          195149451.78260002,
          193748226.8958,
          185697529.6768,
          181827576.1486
         ],
         "xaxis": "x",
         "y": [
          "Great Lakes",
          "Los Angeles",
          "Plains",
          "New York",
          "San Francisco",
          "Dallas/Ft. Worth",
          "Baltimore/Washington",
          "Houston",
          "Chicago",
          "Phoenix/Tucson",
          "Denver",
          "Miami/Ft. Lauderdale",
          "Boston",
          "West Tex/New Mexico",
          "Seattle",
          "Portland",
          "Atlanta",
          "Philadelphia",
          "Sacramento",
          "San Diego"
         ],
         "yaxis": "y"
        },
        {
         "alignmentgroup": "True",
         "hovertemplate": "type=organic<br>Total Revenue (USD)=%{x}<br>Region=%{y}<extra></extra>",
         "legendgroup": "organic",
         "marker": {
          "color": "#EF553B",
          "pattern": {
           "shape": ""
          }
         },
         "name": "organic",
         "offsetgroup": "organic",
         "orientation": "h",
         "showlegend": true,
         "textposition": "auto",
         "type": "bar",
         "x": [
          77601950.4224,
          48188253.0055,
          42001045.3469,
          28801661.3702,
          27601911.1812,
          21995949.0702,
          21264942.207,
          17452965.3228,
          16853488.9028,
          15550179.4287,
          12237186.7729,
          11066014.3807,
          10648336.6455,
          10581583.7342,
          10499455.3446,
          9157038.2862,
          8688520.5627,
          8085585.8036,
          6234531.7357,
          2858755.4975
         ],
         "xaxis": "x",
         "y": [
          "Great Lakes",
          "Los Angeles",
          "New York",
          "Seattle",
          "Plains",
          "Chicago",
          "San Francisco",
          "Portland",
          "Baltimore/Washington",
          "Denver",
          "Boston",
          "Dallas/Ft. Worth",
          "Philadelphia",
          "San Diego",
          "Houston",
          "West Tex/New Mexico",
          "Atlanta",
          "Phoenix/Tucson",
          "Sacramento",
          "Miami/Ft. Lauderdale"
         ],
         "yaxis": "y"
        }
       ],
       "layout": {
        "barmode": "relative",
        "height": 600,
        "legend": {
         "title": {
          "text": "type"
         },
         "tracegroupgap": 0
        },
        "template": {
         "data": {
          "bar": [
           {
            "error_x": {
             "color": "#2a3f5f"
            },
            "error_y": {
             "color": "#2a3f5f"
            },
            "marker": {
             "line": {
              "color": "#E5ECF6",
              "width": 0.5
             },
             "pattern": {
              "fillmode": "overlay",
              "size": 10,
              "solidity": 0.2
             }
            },
            "type": "bar"
           }
          ],
          "barpolar": [
           {
            "marker": {
             "line": {
              "color": "#E5ECF6",
              "width": 0.5
             },
             "pattern": {
              "fillmode": "overlay",
              "size": 10,
              "solidity": 0.2
             }
            },
            "type": "barpolar"
           }
          ],
          "carpet": [
           {
            "aaxis": {
             "endlinecolor": "#2a3f5f",
             "gridcolor": "white",
             "linecolor": "white",
             "minorgridcolor": "white",
             "startlinecolor": "#2a3f5f"
            },
            "baxis": {
             "endlinecolor": "#2a3f5f",
             "gridcolor": "white",
             "linecolor": "white",
             "minorgridcolor": "white",
             "startlinecolor": "#2a3f5f"
            },
            "type": "carpet"
           }
          ],
          "choropleth": [
           {
            "colorbar": {
             "outlinewidth": 0,
             "ticks": ""
            },
            "type": "choropleth"
           }
          ],
          "contour": [
           {
            "colorbar": {
             "outlinewidth": 0,
             "ticks": ""
            },
            "colorscale": [
             [
              0,
              "#0d0887"
             ],
             [
              0.1111111111111111,
              "#46039f"
             ],
             [
              0.2222222222222222,
              "#7201a8"
             ],
             [
              0.3333333333333333,
              "#9c179e"
             ],
             [
              0.4444444444444444,
              "#bd3786"
             ],
             [
              0.5555555555555556,
              "#d8576b"
             ],
             [
              0.6666666666666666,
              "#ed7953"
             ],
             [
              0.7777777777777778,
              "#fb9f3a"
             ],
             [
              0.8888888888888888,
              "#fdca26"
             ],
             [
              1,
              "#f0f921"
             ]
            ],
            "type": "contour"
           }
          ],
          "contourcarpet": [
           {
            "colorbar": {
             "outlinewidth": 0,
             "ticks": ""
            },
            "type": "contourcarpet"
           }
          ],
          "heatmap": [
           {
            "colorbar": {
             "outlinewidth": 0,
             "ticks": ""
            },
            "colorscale": [
             [
              0,
              "#0d0887"
             ],
             [
              0.1111111111111111,
              "#46039f"
             ],
             [
              0.2222222222222222,
              "#7201a8"
             ],
             [
              0.3333333333333333,
              "#9c179e"
             ],
             [
              0.4444444444444444,
              "#bd3786"
             ],
             [
              0.5555555555555556,
              "#d8576b"
             ],
             [
              0.6666666666666666,
              "#ed7953"
             ],
             [
              0.7777777777777778,
              "#fb9f3a"
             ],
             [
              0.8888888888888888,
              "#fdca26"
             ],
             [
              1,
              "#f0f921"
             ]
            ],
            "type": "heatmap"
           }
          ],
          "heatmapgl": [
           {
            "colorbar": {
             "outlinewidth": 0,
             "ticks": ""
            },
            "colorscale": [
             [
              0,
              "#0d0887"
             ],
             [
              0.1111111111111111,
              "#46039f"
             ],
             [
              0.2222222222222222,
              "#7201a8"
             ],
             [
              0.3333333333333333,
              "#9c179e"
             ],
             [
              0.4444444444444444,
              "#bd3786"
             ],
             [
              0.5555555555555556,
              "#d8576b"
             ],
             [
              0.6666666666666666,
              "#ed7953"
             ],
             [
              0.7777777777777778,
              "#fb9f3a"
             ],
             [
              0.8888888888888888,
              "#fdca26"
             ],
             [
              1,
              "#f0f921"
             ]
            ],
            "type": "heatmapgl"
           }
          ],
          "histogram": [
           {
            "marker": {
             "pattern": {
              "fillmode": "overlay",
              "size": 10,
              "solidity": 0.2
             }
            },
            "type": "histogram"
           }
          ],
          "histogram2d": [
           {
            "colorbar": {
             "outlinewidth": 0,
             "ticks": ""
            },
            "colorscale": [
             [
              0,
              "#0d0887"
             ],
             [
              0.1111111111111111,
              "#46039f"
             ],
             [
              0.2222222222222222,
              "#7201a8"
             ],
             [
              0.3333333333333333,
              "#9c179e"
             ],
             [
              0.4444444444444444,
              "#bd3786"
             ],
             [
              0.5555555555555556,
              "#d8576b"
             ],
             [
              0.6666666666666666,
              "#ed7953"
             ],
             [
              0.7777777777777778,
              "#fb9f3a"
             ],
             [
              0.8888888888888888,
              "#fdca26"
             ],
             [
              1,
              "#f0f921"
             ]
            ],
            "type": "histogram2d"
           }
          ],
          "histogram2dcontour": [
           {
            "colorbar": {
             "outlinewidth": 0,
             "ticks": ""
            },
            "colorscale": [
             [
              0,
              "#0d0887"
             ],
             [
              0.1111111111111111,
              "#46039f"
             ],
             [
              0.2222222222222222,
              "#7201a8"
             ],
             [
              0.3333333333333333,
              "#9c179e"
             ],
             [
              0.4444444444444444,
              "#bd3786"
             ],
             [
              0.5555555555555556,
              "#d8576b"
             ],
             [
              0.6666666666666666,
              "#ed7953"
             ],
             [
              0.7777777777777778,
              "#fb9f3a"
             ],
             [
              0.8888888888888888,
              "#fdca26"
             ],
             [
              1,
              "#f0f921"
             ]
            ],
            "type": "histogram2dcontour"
           }
          ],
          "mesh3d": [
           {
            "colorbar": {
             "outlinewidth": 0,
             "ticks": ""
            },
            "type": "mesh3d"
           }
          ],
          "parcoords": [
           {
            "line": {
             "colorbar": {
              "outlinewidth": 0,
              "ticks": ""
             }
            },
            "type": "parcoords"
           }
          ],
          "pie": [
           {
            "automargin": true,
            "type": "pie"
           }
          ],
          "scatter": [
           {
            "fillpattern": {
             "fillmode": "overlay",
             "size": 10,
             "solidity": 0.2
            },
            "type": "scatter"
           }
          ],
          "scatter3d": [
           {
            "line": {
             "colorbar": {
              "outlinewidth": 0,
              "ticks": ""
             }
            },
            "marker": {
             "colorbar": {
              "outlinewidth": 0,
              "ticks": ""
             }
            },
            "type": "scatter3d"
           }
          ],
          "scattercarpet": [
           {
            "marker": {
             "colorbar": {
              "outlinewidth": 0,
              "ticks": ""
             }
            },
            "type": "scattercarpet"
           }
          ],
          "scattergeo": [
           {
            "marker": {
             "colorbar": {
              "outlinewidth": 0,
              "ticks": ""
             }
            },
            "type": "scattergeo"
           }
          ],
          "scattergl": [
           {
            "marker": {
             "colorbar": {
              "outlinewidth": 0,
              "ticks": ""
             }
            },
            "type": "scattergl"
           }
          ],
          "scattermapbox": [
           {
            "marker": {
             "colorbar": {
              "outlinewidth": 0,
              "ticks": ""
             }
            },
            "type": "scattermapbox"
           }
          ],
          "scatterpolar": [
           {
            "marker": {
             "colorbar": {
              "outlinewidth": 0,
              "ticks": ""
             }
            },
            "type": "scatterpolar"
           }
          ],
          "scatterpolargl": [
           {
            "marker": {
             "colorbar": {
              "outlinewidth": 0,
              "ticks": ""
             }
            },
            "type": "scatterpolargl"
           }
          ],
          "scatterternary": [
           {
            "marker": {
             "colorbar": {
              "outlinewidth": 0,
              "ticks": ""
             }
            },
            "type": "scatterternary"
           }
          ],
          "surface": [
           {
            "colorbar": {
             "outlinewidth": 0,
             "ticks": ""
            },
            "colorscale": [
             [
              0,
              "#0d0887"
             ],
             [
              0.1111111111111111,
              "#46039f"
             ],
             [
              0.2222222222222222,
              "#7201a8"
             ],
             [
              0.3333333333333333,
              "#9c179e"
             ],
             [
              0.4444444444444444,
              "#bd3786"
             ],
             [
              0.5555555555555556,
              "#d8576b"
             ],
             [
              0.6666666666666666,
              "#ed7953"
             ],
             [
              0.7777777777777778,
              "#fb9f3a"
             ],
             [
              0.8888888888888888,
              "#fdca26"
             ],
             [
              1,
              "#f0f921"
             ]
            ],
            "type": "surface"
           }
          ],
          "table": [
           {
            "cells": {
             "fill": {
              "color": "#EBF0F8"
             },
             "line": {
              "color": "white"
             }
            },
            "header": {
             "fill": {
              "color": "#C8D4E3"
             },
             "line": {
              "color": "white"
             }
            },
            "type": "table"
           }
          ]
         },
         "layout": {
          "annotationdefaults": {
           "arrowcolor": "#2a3f5f",
           "arrowhead": 0,
           "arrowwidth": 1
          },
          "autotypenumbers": "strict",
          "coloraxis": {
           "colorbar": {
            "outlinewidth": 0,
            "ticks": ""
           }
          },
          "colorscale": {
           "diverging": [
            [
             0,
             "#8e0152"
            ],
            [
             0.1,
             "#c51b7d"
            ],
            [
             0.2,
             "#de77ae"
            ],
            [
             0.3,
             "#f1b6da"
            ],
            [
             0.4,
             "#fde0ef"
            ],
            [
             0.5,
             "#f7f7f7"
            ],
            [
             0.6,
             "#e6f5d0"
            ],
            [
             0.7,
             "#b8e186"
            ],
            [
             0.8,
             "#7fbc41"
            ],
            [
             0.9,
             "#4d9221"
            ],
            [
             1,
             "#276419"
            ]
           ],
           "sequential": [
            [
             0,
             "#0d0887"
            ],
            [
             0.1111111111111111,
             "#46039f"
            ],
            [
             0.2222222222222222,
             "#7201a8"
            ],
            [
             0.3333333333333333,
             "#9c179e"
            ],
            [
             0.4444444444444444,
             "#bd3786"
            ],
            [
             0.5555555555555556,
             "#d8576b"
            ],
            [
             0.6666666666666666,
             "#ed7953"
            ],
            [
             0.7777777777777778,
             "#fb9f3a"
            ],
            [
             0.8888888888888888,
             "#fdca26"
            ],
            [
             1,
             "#f0f921"
            ]
           ],
           "sequentialminus": [
            [
             0,
             "#0d0887"
            ],
            [
             0.1111111111111111,
             "#46039f"
            ],
            [
             0.2222222222222222,
             "#7201a8"
            ],
            [
             0.3333333333333333,
             "#9c179e"
            ],
            [
             0.4444444444444444,
             "#bd3786"
            ],
            [
             0.5555555555555556,
             "#d8576b"
            ],
            [
             0.6666666666666666,
             "#ed7953"
            ],
            [
             0.7777777777777778,
             "#fb9f3a"
            ],
            [
             0.8888888888888888,
             "#fdca26"
            ],
            [
             1,
             "#f0f921"
            ]
           ]
          },
          "colorway": [
           "#636efa",
           "#EF553B",
           "#00cc96",
           "#ab63fa",
           "#FFA15A",
           "#19d3f3",
           "#FF6692",
           "#B6E880",
           "#FF97FF",
           "#FECB52"
          ],
          "font": {
           "color": "#2a3f5f"
          },
          "geo": {
           "bgcolor": "white",
           "lakecolor": "white",
           "landcolor": "#E5ECF6",
           "showlakes": true,
           "showland": true,
           "subunitcolor": "white"
          },
          "hoverlabel": {
           "align": "left"
          },
          "hovermode": "closest",
          "mapbox": {
           "style": "light"
          },
          "paper_bgcolor": "white",
          "plot_bgcolor": "#E5ECF6",
          "polar": {
           "angularaxis": {
            "gridcolor": "white",
            "linecolor": "white",
            "ticks": ""
           },
           "bgcolor": "#E5ECF6",
           "radialaxis": {
            "gridcolor": "white",
            "linecolor": "white",
            "ticks": ""
           }
          },
          "scene": {
           "xaxis": {
            "backgroundcolor": "#E5ECF6",
            "gridcolor": "white",
            "gridwidth": 2,
            "linecolor": "white",
            "showbackground": true,
            "ticks": "",
            "zerolinecolor": "white"
           },
           "yaxis": {
            "backgroundcolor": "#E5ECF6",
            "gridcolor": "white",
            "gridwidth": 2,
            "linecolor": "white",
            "showbackground": true,
            "ticks": "",
            "zerolinecolor": "white"
           },
           "zaxis": {
            "backgroundcolor": "#E5ECF6",
            "gridcolor": "white",
            "gridwidth": 2,
            "linecolor": "white",
            "showbackground": true,
            "ticks": "",
            "zerolinecolor": "white"
           }
          },
          "shapedefaults": {
           "line": {
            "color": "#2a3f5f"
           }
          },
          "ternary": {
           "aaxis": {
            "gridcolor": "white",
            "linecolor": "white",
            "ticks": ""
           },
           "baxis": {
            "gridcolor": "white",
            "linecolor": "white",
            "ticks": ""
           },
           "bgcolor": "#E5ECF6",
           "caxis": {
            "gridcolor": "white",
            "linecolor": "white",
            "ticks": ""
           }
          },
          "title": {
           "x": 0.05
          },
          "xaxis": {
           "automargin": true,
           "gridcolor": "white",
           "linecolor": "white",
           "ticks": "",
           "title": {
            "standoff": 15
           },
           "zerolinecolor": "white",
           "zerolinewidth": 2
          },
          "yaxis": {
           "automargin": true,
           "gridcolor": "white",
           "linecolor": "white",
           "ticks": "",
           "title": {
            "standoff": 15
           },
           "zerolinecolor": "white",
           "zerolinewidth": 2
          }
         }
        },
        "title": {
         "text": "Top 20 Regions Total Revnue (2015 - 2020) By Avocado Type"
        },
        "xaxis": {
         "anchor": "y",
         "domain": [
          0,
          1
         ],
         "title": {
          "text": "Total Revenue (USD)"
         }
        },
        "yaxis": {
         "anchor": "x",
         "domain": [
          0,
          1
         ],
         "title": {
          "text": "Region"
         }
        }
       }
      }
     },
     "metadata": {},
     "output_type": "display_data"
    }
   ],
   "source": [
    "type_fig = px.bar(\n",
    "    top_20_detailed.groupby(['geography', 'type'])['total_revenue']\n",
    "    .sum()\n",
    "    .reset_index()\n",
    "    .sort_values(by=\"total_revenue\", ascending=False),\n",
    "    x=\"total_revenue\",\n",
    "    y=\"geography\",\n",
    "    color=\"type\",\n",
    "    orientation=\"h\",\n",
    "    title=\"Top 20 Regions Total Revnue (2015 - 2020) By Avocado Type\",\n",
    "    labels={\"total_revenue\": \"Total Revenue (USD)\", \"geography\": \"Region\"},\n",
    "    height=600\n",
    ")\n",
    "type_fig.show()"
   ]
  },
  {
   "cell_type": "markdown",
   "metadata": {},
   "source": [
    "## 4d. Top 20 revenues by year"
   ]
  },
  {
   "cell_type": "code",
   "execution_count": 89,
   "metadata": {},
   "outputs": [],
   "source": [
    "line_data = top_20_detailed.groupby(['year', 'geography'])['total_revenue'].sum().reset_index()\n",
    "line_data['Total Revenue'] = line_data['total_revenue'].apply(format_rev)"
   ]
  },
  {
   "cell_type": "code",
   "execution_count": 91,
   "metadata": {},
   "outputs": [],
   "source": [
    "line_data.to_csv('/Users/hannahwhitmore/desktop/linedata.csv')"
   ]
  },
  {
   "cell_type": "code",
   "execution_count": 108,
   "metadata": {},
   "outputs": [
    {
     "data": {
      "application/vnd.plotly.v1+json": {
       "config": {
        "plotlyServerURL": "https://plot.ly"
       },
       "data": [
        {
         "customdata": [
          [
           "24.5M"
          ],
          [
           "27.0M"
          ],
          [
           "33.9M"
          ],
          [
           "34.8M"
          ],
          [
           "41.6M"
          ],
          [
           "42.0M"
          ]
         ],
         "hovertemplate": "geography=Atlanta<br>Year=%{x}<br>Total Revenue=%{customdata[0]}<extra></extra>",
         "legendgroup": "Atlanta",
         "line": {
          "color": "#636efa",
          "dash": "solid"
         },
         "marker": {
          "symbol": "circle"
         },
         "mode": "lines",
         "name": "Atlanta",
         "orientation": "v",
         "showlegend": true,
         "type": "scatter",
         "x": [
          2015,
          2016,
          2017,
          2018,
          2019,
          2020
         ],
         "xaxis": "x",
         "y": [
          24515462.183000002,
          27033935.7838,
          33904390.3449,
          34784441.8175,
          41622094.5524,
          41977647.6637
         ],
         "yaxis": "y"
        },
        {
         "customdata": [
          [
           "47.6M"
          ],
          [
           "54.7M"
          ],
          [
           "62.0M"
          ],
          [
           "62.4M"
          ],
          [
           "68.0M"
          ],
          [
           "70.8M"
          ]
         ],
         "hovertemplate": "geography=Baltimore/Washington<br>Year=%{x}<br>Total Revenue=%{customdata[0]}<extra></extra>",
         "legendgroup": "Baltimore/Washington",
         "line": {
          "color": "#EF553B",
          "dash": "solid"
         },
         "marker": {
          "symbol": "circle"
         },
         "mode": "lines",
         "name": "Baltimore/Washington",
         "orientation": "v",
         "showlegend": true,
         "type": "scatter",
         "x": [
          2015,
          2016,
          2017,
          2018,
          2019,
          2020
         ],
         "xaxis": "x",
         "y": [
          47590233.9325,
          54670190.594000004,
          61984548.19,
          62389843.8793,
          67981487.2669,
          70785475.6606
         ],
         "yaxis": "y"
        },
        {
         "customdata": [
          [
           "31.4M"
          ],
          [
           "37.9M"
          ],
          [
           "45.8M"
          ],
          [
           "47.6M"
          ],
          [
           "52.1M"
          ],
          [
           "57.6M"
          ]
         ],
         "hovertemplate": "geography=Boston<br>Year=%{x}<br>Total Revenue=%{customdata[0]}<extra></extra>",
         "legendgroup": "Boston",
         "line": {
          "color": "#00cc96",
          "dash": "solid"
         },
         "marker": {
          "symbol": "circle"
         },
         "mode": "lines",
         "name": "Boston",
         "orientation": "v",
         "showlegend": true,
         "type": "scatter",
         "x": [
          2015,
          2016,
          2017,
          2018,
          2019,
          2020
         ],
         "xaxis": "x",
         "y": [
          31354577.1155,
          37853108.3997,
          45803283.893,
          47598542.1494,
          52108950.4024,
          57562757.1374
         ],
         "yaxis": "y"
        },
        {
         "customdata": [
          [
           "48.4M"
          ],
          [
           "50.9M"
          ],
          [
           "63.7M"
          ],
          [
           "57.9M"
          ],
          [
           "53.7M"
          ],
          [
           "63.7M"
          ]
         ],
         "hovertemplate": "geography=Chicago<br>Year=%{x}<br>Total Revenue=%{customdata[0]}<extra></extra>",
         "legendgroup": "Chicago",
         "line": {
          "color": "#ab63fa",
          "dash": "solid"
         },
         "marker": {
          "symbol": "circle"
         },
         "mode": "lines",
         "name": "Chicago",
         "orientation": "v",
         "showlegend": true,
         "type": "scatter",
         "x": [
          2015,
          2016,
          2017,
          2018,
          2019,
          2020
         ],
         "xaxis": "x",
         "y": [
          48402651.8991,
          50928703.8672,
          63687434.386199996,
          57915825.5095,
          53728663.7029,
          63726295.1157
         ],
         "yaxis": "y"
        },
        {
         "customdata": [
          [
           "47.3M"
          ],
          [
           "52.1M"
          ],
          [
           "61.5M"
          ],
          [
           "60.0M"
          ],
          [
           "70.3M"
          ],
          [
           "69.0M"
          ]
         ],
         "hovertemplate": "geography=Dallas/Ft. Worth<br>Year=%{x}<br>Total Revenue=%{customdata[0]}<extra></extra>",
         "legendgroup": "Dallas/Ft. Worth",
         "line": {
          "color": "#FFA15A",
          "dash": "solid"
         },
         "marker": {
          "symbol": "circle"
         },
         "mode": "lines",
         "name": "Dallas/Ft. Worth",
         "orientation": "v",
         "showlegend": true,
         "type": "scatter",
         "x": [
          2015,
          2016,
          2017,
          2018,
          2019,
          2020
         ],
         "xaxis": "x",
         "y": [
          47335203.671000004,
          52135400.1223,
          61485396.0151,
          60035638.7688,
          70334317.9085,
          69017395.8093
         ],
         "yaxis": "y"
        },
        {
         "customdata": [
          [
           "41.2M"
          ],
          [
           "41.8M"
          ],
          [
           "50.6M"
          ],
          [
           "51.1M"
          ],
          [
           "57.4M"
          ],
          [
           "57.8M"
          ]
         ],
         "hovertemplate": "geography=Denver<br>Year=%{x}<br>Total Revenue=%{customdata[0]}<extra></extra>",
         "legendgroup": "Denver",
         "line": {
          "color": "#19d3f3",
          "dash": "solid"
         },
         "marker": {
          "symbol": "circle"
         },
         "mode": "lines",
         "name": "Denver",
         "orientation": "v",
         "showlegend": true,
         "type": "scatter",
         "x": [
          2015,
          2016,
          2017,
          2018,
          2019,
          2020
         ],
         "xaxis": "x",
         "y": [
          41201705.9918,
          41821645.9888,
          50565541.4471,
          51070094.3265,
          57426319.4152,
          57846342.3461
         ],
         "yaxis": "y"
        },
        {
         "customdata": [
          [
           "184.2M"
          ],
          [
           "200.7M"
          ],
          [
           "243.5M"
          ],
          [
           "241.4M"
          ],
          [
           "252.5M"
          ],
          [
           "265.4M"
          ]
         ],
         "hovertemplate": "geography=Great Lakes<br>Year=%{x}<br>Total Revenue=%{customdata[0]}<extra></extra>",
         "legendgroup": "Great Lakes",
         "line": {
          "color": "#FF6692",
          "dash": "solid"
         },
         "marker": {
          "symbol": "circle"
         },
         "mode": "lines",
         "name": "Great Lakes",
         "orientation": "v",
         "showlegend": true,
         "type": "scatter",
         "x": [
          2015,
          2016,
          2017,
          2018,
          2019,
          2020
         ],
         "xaxis": "x",
         "y": [
          184212143.3898,
          200657701.68240002,
          243453680.8346,
          241372270.3575,
          252475181.2858,
          265404021.9131
         ],
         "yaxis": "y"
        },
        {
         "customdata": [
          [
           "43.9M"
          ],
          [
           "48.2M"
          ],
          [
           "59.2M"
          ],
          [
           "58.9M"
          ],
          [
           "63.4M"
          ],
          [
           "63.1M"
          ]
         ],
         "hovertemplate": "geography=Houston<br>Year=%{x}<br>Total Revenue=%{customdata[0]}<extra></extra>",
         "legendgroup": "Houston",
         "line": {
          "color": "#B6E880",
          "dash": "solid"
         },
         "marker": {
          "symbol": "circle"
         },
         "mode": "lines",
         "name": "Houston",
         "orientation": "v",
         "showlegend": true,
         "type": "scatter",
         "x": [
          2015,
          2016,
          2017,
          2018,
          2019,
          2020
         ],
         "xaxis": "x",
         "y": [
          43948609.8,
          48215160.6424,
          59200250.1516,
          58890564.4951,
          63373026.7386,
          63113175.8884
         ],
         "yaxis": "y"
        },
        {
         "customdata": [
          [
           "133.2M"
          ],
          [
           "141.9M"
          ],
          [
           "170.4M"
          ],
          [
           "162.1M"
          ],
          [
           "191.2M"
          ],
          [
           "199.7M"
          ]
         ],
         "hovertemplate": "geography=Los Angeles<br>Year=%{x}<br>Total Revenue=%{customdata[0]}<extra></extra>",
         "legendgroup": "Los Angeles",
         "line": {
          "color": "#FF97FF",
          "dash": "solid"
         },
         "marker": {
          "symbol": "circle"
         },
         "mode": "lines",
         "name": "Los Angeles",
         "orientation": "v",
         "showlegend": true,
         "type": "scatter",
         "x": [
          2015,
          2016,
          2017,
          2018,
          2019,
          2020
         ],
         "xaxis": "x",
         "y": [
          133164542.0688,
          141898779.0572,
          170429231.136,
          162087354.4521,
          191241186.6976,
          199707780.6704
         ],
         "yaxis": "y"
        },
        {
         "customdata": [
          [
           "27.9M"
          ],
          [
           "35.2M"
          ],
          [
           "43.7M"
          ],
          [
           "48.2M"
          ],
          [
           "57.1M"
          ],
          [
           "54.8M"
          ]
         ],
         "hovertemplate": "geography=Miami/Ft. Lauderdale<br>Year=%{x}<br>Total Revenue=%{customdata[0]}<extra></extra>",
         "legendgroup": "Miami/Ft. Lauderdale",
         "line": {
          "color": "#FECB52",
          "dash": "solid"
         },
         "marker": {
          "symbol": "circle"
         },
         "mode": "lines",
         "name": "Miami/Ft. Lauderdale",
         "orientation": "v",
         "showlegend": true,
         "type": "scatter",
         "x": [
          2015,
          2016,
          2017,
          2018,
          2019,
          2020
         ],
         "xaxis": "x",
         "y": [
          27909775.5807,
          35218323.7438,
          43666129.7654,
          48232506.1694,
          57145144.8921,
          54848562.0717
         ],
         "yaxis": "y"
        },
        {
         "customdata": [
          [
           "88.7M"
          ],
          [
           "96.1M"
          ],
          [
           "118.3M"
          ],
          [
           "128.4M"
          ],
          [
           "140.5M"
          ],
          [
           "150.0M"
          ]
         ],
         "hovertemplate": "geography=New York<br>Year=%{x}<br>Total Revenue=%{customdata[0]}<extra></extra>",
         "legendgroup": "New York",
         "line": {
          "color": "#636efa",
          "dash": "solid"
         },
         "marker": {
          "symbol": "circle"
         },
         "mode": "lines",
         "name": "New York",
         "orientation": "v",
         "showlegend": true,
         "type": "scatter",
         "x": [
          2015,
          2016,
          2017,
          2018,
          2019,
          2020
         ],
         "xaxis": "x",
         "y": [
          88669094.7689,
          96086655.2651,
          118274654.6834,
          128388785.4729,
          140459748.5862,
          149952164.9917
         ],
         "yaxis": "y"
        },
        {
         "customdata": [
          [
           "26.8M"
          ],
          [
           "29.9M"
          ],
          [
           "34.6M"
          ],
          [
           "34.9M"
          ],
          [
           "38.3M"
          ],
          [
           "39.9M"
          ]
         ],
         "hovertemplate": "geography=Philadelphia<br>Year=%{x}<br>Total Revenue=%{customdata[0]}<extra></extra>",
         "legendgroup": "Philadelphia",
         "line": {
          "color": "#EF553B",
          "dash": "solid"
         },
         "marker": {
          "symbol": "circle"
         },
         "mode": "lines",
         "name": "Philadelphia",
         "orientation": "v",
         "showlegend": true,
         "type": "scatter",
         "x": [
          2015,
          2016,
          2017,
          2018,
          2019,
          2020
         ],
         "xaxis": "x",
         "y": [
          26813170.0735,
          29926936.8985,
          34577015.0615,
          34864784.180700004,
          38338799.3791,
          39875857.948
         ],
         "yaxis": "y"
        },
        {
         "customdata": [
          [
           "37.3M"
          ],
          [
           "41.7M"
          ],
          [
           "47.2M"
          ],
          [
           "49.7M"
          ],
          [
           "60.2M"
          ],
          [
           "57.6M"
          ]
         ],
         "hovertemplate": "geography=Phoenix/Tucson<br>Year=%{x}<br>Total Revenue=%{customdata[0]}<extra></extra>",
         "legendgroup": "Phoenix/Tucson",
         "line": {
          "color": "#00cc96",
          "dash": "solid"
         },
         "marker": {
          "symbol": "circle"
         },
         "mode": "lines",
         "name": "Phoenix/Tucson",
         "orientation": "v",
         "showlegend": true,
         "type": "scatter",
         "x": [
          2015,
          2016,
          2017,
          2018,
          2019,
          2020
         ],
         "xaxis": "x",
         "y": [
          37331207.1654,
          41701268.8927,
          47189729.853,
          49721415.5305,
          60187164.5794,
          57572322.3917
         ],
         "yaxis": "y"
        },
        {
         "customdata": [
          [
           "95.1M"
          ],
          [
           "105.2M"
          ],
          [
           "128.5M"
          ],
          [
           "122.9M"
          ],
          [
           "131.4M"
          ],
          [
           "127.7M"
          ]
         ],
         "hovertemplate": "geography=Plains<br>Year=%{x}<br>Total Revenue=%{customdata[0]}<extra></extra>",
         "legendgroup": "Plains",
         "line": {
          "color": "#ab63fa",
          "dash": "solid"
         },
         "marker": {
          "symbol": "circle"
         },
         "mode": "lines",
         "name": "Plains",
         "orientation": "v",
         "showlegend": true,
         "type": "scatter",
         "x": [
          2015,
          2016,
          2017,
          2018,
          2019,
          2020
         ],
         "xaxis": "x",
         "y": [
          95127842.88970001,
          105191800.1874,
          128523735.9944,
          122948445.97140001,
          131353156.7723,
          127682651.2041
         ],
         "yaxis": "y"
        },
        {
         "customdata": [
          [
           "29.8M"
          ],
          [
           "33.9M"
          ],
          [
           "39.8M"
          ],
          [
           "39.3M"
          ],
          [
           "45.6M"
          ],
          [
           "47.8M"
          ]
         ],
         "hovertemplate": "geography=Portland<br>Year=%{x}<br>Total Revenue=%{customdata[0]}<extra></extra>",
         "legendgroup": "Portland",
         "line": {
          "color": "#FFA15A",
          "dash": "solid"
         },
         "marker": {
          "symbol": "circle"
         },
         "mode": "lines",
         "name": "Portland",
         "orientation": "v",
         "showlegend": true,
         "type": "scatter",
         "x": [
          2015,
          2016,
          2017,
          2018,
          2019,
          2020
         ],
         "xaxis": "x",
         "y": [
          29826583.2051,
          33883464.5574,
          39812193.3039,
          39335338.3392,
          45594251.063599996,
          47809528.7175
         ],
         "yaxis": "y"
        },
        {
         "customdata": [
          [
           "25.8M"
          ],
          [
           "28.4M"
          ],
          [
           "32.7M"
          ],
          [
           "32.8M"
          ],
          [
           "36.3M"
          ],
          [
           "35.9M"
          ]
         ],
         "hovertemplate": "geography=Sacramento<br>Year=%{x}<br>Total Revenue=%{customdata[0]}<extra></extra>",
         "legendgroup": "Sacramento",
         "line": {
          "color": "#19d3f3",
          "dash": "solid"
         },
         "marker": {
          "symbol": "circle"
         },
         "mode": "lines",
         "name": "Sacramento",
         "orientation": "v",
         "showlegend": true,
         "type": "scatter",
         "x": [
          2015,
          2016,
          2017,
          2018,
          2019,
          2020
         ],
         "xaxis": "x",
         "y": [
          25849397.7,
          28358944.5765,
          32733447.833300002,
          32751704.9724,
          36308363.6825,
          35930202.6478
         ],
         "yaxis": "y"
        },
        {
         "customdata": [
          [
           "26.2M"
          ],
          [
           "27.8M"
          ],
          [
           "32.0M"
          ],
          [
           "30.6M"
          ],
          [
           "36.5M"
          ],
          [
           "39.3M"
          ]
         ],
         "hovertemplate": "geography=San Diego<br>Year=%{x}<br>Total Revenue=%{customdata[0]}<extra></extra>",
         "legendgroup": "San Diego",
         "line": {
          "color": "#FF6692",
          "dash": "solid"
         },
         "marker": {
          "symbol": "circle"
         },
         "mode": "lines",
         "name": "San Diego",
         "orientation": "v",
         "showlegend": true,
         "type": "scatter",
         "x": [
          2015,
          2016,
          2017,
          2018,
          2019,
          2020
         ],
         "xaxis": "x",
         "y": [
          26199457.9137,
          27847379.8963,
          32011123.3259,
          30603652.04,
          36487085.0479,
          39260461.659
         ],
         "yaxis": "y"
        },
        {
         "customdata": [
          [
           "50.6M"
          ],
          [
           "57.7M"
          ],
          [
           "62.4M"
          ],
          [
           "62.8M"
          ],
          [
           "72.4M"
          ],
          [
           "73.6M"
          ]
         ],
         "hovertemplate": "geography=San Francisco<br>Year=%{x}<br>Total Revenue=%{customdata[0]}<extra></extra>",
         "legendgroup": "San Francisco",
         "line": {
          "color": "#B6E880",
          "dash": "solid"
         },
         "marker": {
          "symbol": "circle"
         },
         "mode": "lines",
         "name": "San Francisco",
         "orientation": "v",
         "showlegend": true,
         "type": "scatter",
         "x": [
          2015,
          2016,
          2017,
          2018,
          2019,
          2020
         ],
         "xaxis": "x",
         "y": [
          50598378.2341,
          57674729.79,
          62400703.8446,
          62804480.327,
          72404952.0786,
          73588231.5387
         ],
         "yaxis": "y"
        },
        {
         "customdata": [
          [
           "33.6M"
          ],
          [
           "37.9M"
          ],
          [
           "43.3M"
          ],
          [
           "43.8M"
          ],
          [
           "50.1M"
          ],
          [
           "52.1M"
          ]
         ],
         "hovertemplate": "geography=Seattle<br>Year=%{x}<br>Total Revenue=%{customdata[0]}<extra></extra>",
         "legendgroup": "Seattle",
         "line": {
          "color": "#FF97FF",
          "dash": "solid"
         },
         "marker": {
          "symbol": "circle"
         },
         "mode": "lines",
         "name": "Seattle",
         "orientation": "v",
         "showlegend": true,
         "type": "scatter",
         "x": [
          2015,
          2016,
          2017,
          2018,
          2019,
          2020
         ],
         "xaxis": "x",
         "y": [
          33574695.9362,
          37881884.1529,
          43265376.6098,
          43785217.9302,
          50104807.0951,
          52068013.0494
         ],
         "yaxis": "y"
        },
        {
         "customdata": [
          [
           "32.2M"
          ],
          [
           "36.9M"
          ],
          [
           "42.2M"
          ],
          [
           "40.0M"
          ],
          [
           "46.5M"
          ],
          [
           "46.2M"
          ]
         ],
         "hovertemplate": "geography=West Tex/New Mexico<br>Year=%{x}<br>Total Revenue=%{customdata[0]}<extra></extra>",
         "legendgroup": "West Tex/New Mexico",
         "line": {
          "color": "#FECB52",
          "dash": "solid"
         },
         "marker": {
          "symbol": "circle"
         },
         "mode": "lines",
         "name": "West Tex/New Mexico",
         "orientation": "v",
         "showlegend": true,
         "type": "scatter",
         "x": [
          2015,
          2016,
          2017,
          2018,
          2019,
          2020
         ],
         "xaxis": "x",
         "y": [
          32242475.2381,
          36941988.3412,
          42162256.5983,
          40023001.5293,
          46504504.2133,
          46174615.1482
         ],
         "yaxis": "y"
        }
       ],
       "layout": {
        "height": 600,
        "legend": {
         "title": {
          "text": "geography"
         },
         "tracegroupgap": 0
        },
        "template": {
         "data": {
          "bar": [
           {
            "error_x": {
             "color": "#2a3f5f"
            },
            "error_y": {
             "color": "#2a3f5f"
            },
            "marker": {
             "line": {
              "color": "#E5ECF6",
              "width": 0.5
             },
             "pattern": {
              "fillmode": "overlay",
              "size": 10,
              "solidity": 0.2
             }
            },
            "type": "bar"
           }
          ],
          "barpolar": [
           {
            "marker": {
             "line": {
              "color": "#E5ECF6",
              "width": 0.5
             },
             "pattern": {
              "fillmode": "overlay",
              "size": 10,
              "solidity": 0.2
             }
            },
            "type": "barpolar"
           }
          ],
          "carpet": [
           {
            "aaxis": {
             "endlinecolor": "#2a3f5f",
             "gridcolor": "white",
             "linecolor": "white",
             "minorgridcolor": "white",
             "startlinecolor": "#2a3f5f"
            },
            "baxis": {
             "endlinecolor": "#2a3f5f",
             "gridcolor": "white",
             "linecolor": "white",
             "minorgridcolor": "white",
             "startlinecolor": "#2a3f5f"
            },
            "type": "carpet"
           }
          ],
          "choropleth": [
           {
            "colorbar": {
             "outlinewidth": 0,
             "ticks": ""
            },
            "type": "choropleth"
           }
          ],
          "contour": [
           {
            "colorbar": {
             "outlinewidth": 0,
             "ticks": ""
            },
            "colorscale": [
             [
              0,
              "#0d0887"
             ],
             [
              0.1111111111111111,
              "#46039f"
             ],
             [
              0.2222222222222222,
              "#7201a8"
             ],
             [
              0.3333333333333333,
              "#9c179e"
             ],
             [
              0.4444444444444444,
              "#bd3786"
             ],
             [
              0.5555555555555556,
              "#d8576b"
             ],
             [
              0.6666666666666666,
              "#ed7953"
             ],
             [
              0.7777777777777778,
              "#fb9f3a"
             ],
             [
              0.8888888888888888,
              "#fdca26"
             ],
             [
              1,
              "#f0f921"
             ]
            ],
            "type": "contour"
           }
          ],
          "contourcarpet": [
           {
            "colorbar": {
             "outlinewidth": 0,
             "ticks": ""
            },
            "type": "contourcarpet"
           }
          ],
          "heatmap": [
           {
            "colorbar": {
             "outlinewidth": 0,
             "ticks": ""
            },
            "colorscale": [
             [
              0,
              "#0d0887"
             ],
             [
              0.1111111111111111,
              "#46039f"
             ],
             [
              0.2222222222222222,
              "#7201a8"
             ],
             [
              0.3333333333333333,
              "#9c179e"
             ],
             [
              0.4444444444444444,
              "#bd3786"
             ],
             [
              0.5555555555555556,
              "#d8576b"
             ],
             [
              0.6666666666666666,
              "#ed7953"
             ],
             [
              0.7777777777777778,
              "#fb9f3a"
             ],
             [
              0.8888888888888888,
              "#fdca26"
             ],
             [
              1,
              "#f0f921"
             ]
            ],
            "type": "heatmap"
           }
          ],
          "heatmapgl": [
           {
            "colorbar": {
             "outlinewidth": 0,
             "ticks": ""
            },
            "colorscale": [
             [
              0,
              "#0d0887"
             ],
             [
              0.1111111111111111,
              "#46039f"
             ],
             [
              0.2222222222222222,
              "#7201a8"
             ],
             [
              0.3333333333333333,
              "#9c179e"
             ],
             [
              0.4444444444444444,
              "#bd3786"
             ],
             [
              0.5555555555555556,
              "#d8576b"
             ],
             [
              0.6666666666666666,
              "#ed7953"
             ],
             [
              0.7777777777777778,
              "#fb9f3a"
             ],
             [
              0.8888888888888888,
              "#fdca26"
             ],
             [
              1,
              "#f0f921"
             ]
            ],
            "type": "heatmapgl"
           }
          ],
          "histogram": [
           {
            "marker": {
             "pattern": {
              "fillmode": "overlay",
              "size": 10,
              "solidity": 0.2
             }
            },
            "type": "histogram"
           }
          ],
          "histogram2d": [
           {
            "colorbar": {
             "outlinewidth": 0,
             "ticks": ""
            },
            "colorscale": [
             [
              0,
              "#0d0887"
             ],
             [
              0.1111111111111111,
              "#46039f"
             ],
             [
              0.2222222222222222,
              "#7201a8"
             ],
             [
              0.3333333333333333,
              "#9c179e"
             ],
             [
              0.4444444444444444,
              "#bd3786"
             ],
             [
              0.5555555555555556,
              "#d8576b"
             ],
             [
              0.6666666666666666,
              "#ed7953"
             ],
             [
              0.7777777777777778,
              "#fb9f3a"
             ],
             [
              0.8888888888888888,
              "#fdca26"
             ],
             [
              1,
              "#f0f921"
             ]
            ],
            "type": "histogram2d"
           }
          ],
          "histogram2dcontour": [
           {
            "colorbar": {
             "outlinewidth": 0,
             "ticks": ""
            },
            "colorscale": [
             [
              0,
              "#0d0887"
             ],
             [
              0.1111111111111111,
              "#46039f"
             ],
             [
              0.2222222222222222,
              "#7201a8"
             ],
             [
              0.3333333333333333,
              "#9c179e"
             ],
             [
              0.4444444444444444,
              "#bd3786"
             ],
             [
              0.5555555555555556,
              "#d8576b"
             ],
             [
              0.6666666666666666,
              "#ed7953"
             ],
             [
              0.7777777777777778,
              "#fb9f3a"
             ],
             [
              0.8888888888888888,
              "#fdca26"
             ],
             [
              1,
              "#f0f921"
             ]
            ],
            "type": "histogram2dcontour"
           }
          ],
          "mesh3d": [
           {
            "colorbar": {
             "outlinewidth": 0,
             "ticks": ""
            },
            "type": "mesh3d"
           }
          ],
          "parcoords": [
           {
            "line": {
             "colorbar": {
              "outlinewidth": 0,
              "ticks": ""
             }
            },
            "type": "parcoords"
           }
          ],
          "pie": [
           {
            "automargin": true,
            "type": "pie"
           }
          ],
          "scatter": [
           {
            "fillpattern": {
             "fillmode": "overlay",
             "size": 10,
             "solidity": 0.2
            },
            "type": "scatter"
           }
          ],
          "scatter3d": [
           {
            "line": {
             "colorbar": {
              "outlinewidth": 0,
              "ticks": ""
             }
            },
            "marker": {
             "colorbar": {
              "outlinewidth": 0,
              "ticks": ""
             }
            },
            "type": "scatter3d"
           }
          ],
          "scattercarpet": [
           {
            "marker": {
             "colorbar": {
              "outlinewidth": 0,
              "ticks": ""
             }
            },
            "type": "scattercarpet"
           }
          ],
          "scattergeo": [
           {
            "marker": {
             "colorbar": {
              "outlinewidth": 0,
              "ticks": ""
             }
            },
            "type": "scattergeo"
           }
          ],
          "scattergl": [
           {
            "marker": {
             "colorbar": {
              "outlinewidth": 0,
              "ticks": ""
             }
            },
            "type": "scattergl"
           }
          ],
          "scattermapbox": [
           {
            "marker": {
             "colorbar": {
              "outlinewidth": 0,
              "ticks": ""
             }
            },
            "type": "scattermapbox"
           }
          ],
          "scatterpolar": [
           {
            "marker": {
             "colorbar": {
              "outlinewidth": 0,
              "ticks": ""
             }
            },
            "type": "scatterpolar"
           }
          ],
          "scatterpolargl": [
           {
            "marker": {
             "colorbar": {
              "outlinewidth": 0,
              "ticks": ""
             }
            },
            "type": "scatterpolargl"
           }
          ],
          "scatterternary": [
           {
            "marker": {
             "colorbar": {
              "outlinewidth": 0,
              "ticks": ""
             }
            },
            "type": "scatterternary"
           }
          ],
          "surface": [
           {
            "colorbar": {
             "outlinewidth": 0,
             "ticks": ""
            },
            "colorscale": [
             [
              0,
              "#0d0887"
             ],
             [
              0.1111111111111111,
              "#46039f"
             ],
             [
              0.2222222222222222,
              "#7201a8"
             ],
             [
              0.3333333333333333,
              "#9c179e"
             ],
             [
              0.4444444444444444,
              "#bd3786"
             ],
             [
              0.5555555555555556,
              "#d8576b"
             ],
             [
              0.6666666666666666,
              "#ed7953"
             ],
             [
              0.7777777777777778,
              "#fb9f3a"
             ],
             [
              0.8888888888888888,
              "#fdca26"
             ],
             [
              1,
              "#f0f921"
             ]
            ],
            "type": "surface"
           }
          ],
          "table": [
           {
            "cells": {
             "fill": {
              "color": "#EBF0F8"
             },
             "line": {
              "color": "white"
             }
            },
            "header": {
             "fill": {
              "color": "#C8D4E3"
             },
             "line": {
              "color": "white"
             }
            },
            "type": "table"
           }
          ]
         },
         "layout": {
          "annotationdefaults": {
           "arrowcolor": "#2a3f5f",
           "arrowhead": 0,
           "arrowwidth": 1
          },
          "autotypenumbers": "strict",
          "coloraxis": {
           "colorbar": {
            "outlinewidth": 0,
            "ticks": ""
           }
          },
          "colorscale": {
           "diverging": [
            [
             0,
             "#8e0152"
            ],
            [
             0.1,
             "#c51b7d"
            ],
            [
             0.2,
             "#de77ae"
            ],
            [
             0.3,
             "#f1b6da"
            ],
            [
             0.4,
             "#fde0ef"
            ],
            [
             0.5,
             "#f7f7f7"
            ],
            [
             0.6,
             "#e6f5d0"
            ],
            [
             0.7,
             "#b8e186"
            ],
            [
             0.8,
             "#7fbc41"
            ],
            [
             0.9,
             "#4d9221"
            ],
            [
             1,
             "#276419"
            ]
           ],
           "sequential": [
            [
             0,
             "#0d0887"
            ],
            [
             0.1111111111111111,
             "#46039f"
            ],
            [
             0.2222222222222222,
             "#7201a8"
            ],
            [
             0.3333333333333333,
             "#9c179e"
            ],
            [
             0.4444444444444444,
             "#bd3786"
            ],
            [
             0.5555555555555556,
             "#d8576b"
            ],
            [
             0.6666666666666666,
             "#ed7953"
            ],
            [
             0.7777777777777778,
             "#fb9f3a"
            ],
            [
             0.8888888888888888,
             "#fdca26"
            ],
            [
             1,
             "#f0f921"
            ]
           ],
           "sequentialminus": [
            [
             0,
             "#0d0887"
            ],
            [
             0.1111111111111111,
             "#46039f"
            ],
            [
             0.2222222222222222,
             "#7201a8"
            ],
            [
             0.3333333333333333,
             "#9c179e"
            ],
            [
             0.4444444444444444,
             "#bd3786"
            ],
            [
             0.5555555555555556,
             "#d8576b"
            ],
            [
             0.6666666666666666,
             "#ed7953"
            ],
            [
             0.7777777777777778,
             "#fb9f3a"
            ],
            [
             0.8888888888888888,
             "#fdca26"
            ],
            [
             1,
             "#f0f921"
            ]
           ]
          },
          "colorway": [
           "#636efa",
           "#EF553B",
           "#00cc96",
           "#ab63fa",
           "#FFA15A",
           "#19d3f3",
           "#FF6692",
           "#B6E880",
           "#FF97FF",
           "#FECB52"
          ],
          "font": {
           "color": "#2a3f5f"
          },
          "geo": {
           "bgcolor": "white",
           "lakecolor": "white",
           "landcolor": "#E5ECF6",
           "showlakes": true,
           "showland": true,
           "subunitcolor": "white"
          },
          "hoverlabel": {
           "align": "left"
          },
          "hovermode": "closest",
          "mapbox": {
           "style": "light"
          },
          "paper_bgcolor": "white",
          "plot_bgcolor": "#E5ECF6",
          "polar": {
           "angularaxis": {
            "gridcolor": "white",
            "linecolor": "white",
            "ticks": ""
           },
           "bgcolor": "#E5ECF6",
           "radialaxis": {
            "gridcolor": "white",
            "linecolor": "white",
            "ticks": ""
           }
          },
          "scene": {
           "xaxis": {
            "backgroundcolor": "#E5ECF6",
            "gridcolor": "white",
            "gridwidth": 2,
            "linecolor": "white",
            "showbackground": true,
            "ticks": "",
            "zerolinecolor": "white"
           },
           "yaxis": {
            "backgroundcolor": "#E5ECF6",
            "gridcolor": "white",
            "gridwidth": 2,
            "linecolor": "white",
            "showbackground": true,
            "ticks": "",
            "zerolinecolor": "white"
           },
           "zaxis": {
            "backgroundcolor": "#E5ECF6",
            "gridcolor": "white",
            "gridwidth": 2,
            "linecolor": "white",
            "showbackground": true,
            "ticks": "",
            "zerolinecolor": "white"
           }
          },
          "shapedefaults": {
           "line": {
            "color": "#2a3f5f"
           }
          },
          "ternary": {
           "aaxis": {
            "gridcolor": "white",
            "linecolor": "white",
            "ticks": ""
           },
           "baxis": {
            "gridcolor": "white",
            "linecolor": "white",
            "ticks": ""
           },
           "bgcolor": "#E5ECF6",
           "caxis": {
            "gridcolor": "white",
            "linecolor": "white",
            "ticks": ""
           }
          },
          "title": {
           "x": 0.05
          },
          "xaxis": {
           "automargin": true,
           "gridcolor": "white",
           "linecolor": "white",
           "ticks": "",
           "title": {
            "standoff": 15
           },
           "zerolinecolor": "white",
           "zerolinewidth": 2
          },
          "yaxis": {
           "automargin": true,
           "gridcolor": "white",
           "linecolor": "white",
           "ticks": "",
           "title": {
            "standoff": 15
           },
           "zerolinecolor": "white",
           "zerolinewidth": 2
          }
         }
        },
        "title": {
         "text": "Yearly Revenue Trends by Geography"
        },
        "xaxis": {
         "anchor": "y",
         "domain": [
          0,
          1
         ],
         "tickmode": "array",
         "ticktext": [
          "2015",
          "2016",
          "2017",
          "2018",
          "2019",
          "2020"
         ],
         "tickvals": [
          2015,
          2016,
          2017,
          2018,
          2019,
          2020
         ],
         "title": {
          "text": "Year"
         }
        },
        "yaxis": {
         "anchor": "x",
         "domain": [
          0,
          1
         ],
         "title": {
          "text": "Total Revenue (USD)"
         }
        }
       }
      }
     },
     "metadata": {},
     "output_type": "display_data"
    }
   ],
   "source": [
    "line_data = top_20_detailed.groupby(['year', 'geography'])['total_revenue'].sum().reset_index()\n",
    "line_data['Total Revenue'] = line_data['total_revenue'].apply(format_rev)\n",
    "\n",
    "years = sorted(line_data['year'].unique())\n",
    "\n",
    "line_fig = px.line(\n",
    "    line_data,\n",
    "    x=\"year\",\n",
    "    y=\"total_revenue\",\n",
    "    color=\"geography\",\n",
    "    line_group=\"geography\",\n",
    "    title=\"Yearly Revenue Trends by Geography\",\n",
    "    labels={\"total_revenue\": \"Total Revenue (USD)\", \"year\": \"Year\"},\n",
    "    hover_data={\"Total Revenue\": True, \"total_revenue\": False}  \n",
    ")\n",
    "\n",
    "line_fig.update_layout(\n",
    "    xaxis=dict(\n",
    "        tickmode=\"array\",\n",
    "        tickvals=years,  \n",
    "        ticktext=[str(year) for year in years],  \n",
    "    ),\n",
    "    height=600\n",
    ")\n",
    "\n",
    "line_fig.show()"
   ]
  },
  {
   "cell_type": "markdown",
   "metadata": {},
   "source": [
    "## 4e. Top Revenues Across Years - Dynamic "
   ]
  },
  {
   "cell_type": "code",
   "execution_count": 49,
   "metadata": {},
   "outputs": [
    {
     "data": {
      "application/vnd.plotly.v1+json": {
       "config": {
        "plotlyServerURL": "https://plot.ly"
       },
       "data": [
        {
         "alignmentgroup": "True",
         "customdata": [
          [
           "24.5M"
          ]
         ],
         "hovertemplate": "Region=%{y}<br>year=2015<br>Total Revenue (USD)=%{x}<extra></extra>",
         "legendgroup": "Atlanta",
         "marker": {
          "color": "#636efa",
          "pattern": {
           "shape": ""
          }
         },
         "name": "Atlanta",
         "offsetgroup": "Atlanta",
         "orientation": "h",
         "showlegend": true,
         "text": [
          "24.5M"
         ],
         "textposition": "auto",
         "type": "bar",
         "x": [
          24515462.183000002
         ],
         "xaxis": "x",
         "y": [
          "Atlanta"
         ],
         "yaxis": "y"
        },
        {
         "alignmentgroup": "True",
         "customdata": [
          [
           "47.6M"
          ]
         ],
         "hovertemplate": "Region=%{y}<br>year=2015<br>Total Revenue (USD)=%{x}<extra></extra>",
         "legendgroup": "Baltimore/Washington",
         "marker": {
          "color": "#EF553B",
          "pattern": {
           "shape": ""
          }
         },
         "name": "Baltimore/Washington",
         "offsetgroup": "Baltimore/Washington",
         "orientation": "h",
         "showlegend": true,
         "text": [
          "47.6M"
         ],
         "textposition": "auto",
         "type": "bar",
         "x": [
          47590233.9325
         ],
         "xaxis": "x",
         "y": [
          "Baltimore/Washington"
         ],
         "yaxis": "y"
        },
        {
         "alignmentgroup": "True",
         "customdata": [
          [
           "31.4M"
          ]
         ],
         "hovertemplate": "Region=%{y}<br>year=2015<br>Total Revenue (USD)=%{x}<extra></extra>",
         "legendgroup": "Boston",
         "marker": {
          "color": "#00cc96",
          "pattern": {
           "shape": ""
          }
         },
         "name": "Boston",
         "offsetgroup": "Boston",
         "orientation": "h",
         "showlegend": true,
         "text": [
          "31.4M"
         ],
         "textposition": "auto",
         "type": "bar",
         "x": [
          31354577.1155
         ],
         "xaxis": "x",
         "y": [
          "Boston"
         ],
         "yaxis": "y"
        },
        {
         "alignmentgroup": "True",
         "customdata": [
          [
           "48.4M"
          ]
         ],
         "hovertemplate": "Region=%{y}<br>year=2015<br>Total Revenue (USD)=%{x}<extra></extra>",
         "legendgroup": "Chicago",
         "marker": {
          "color": "#ab63fa",
          "pattern": {
           "shape": ""
          }
         },
         "name": "Chicago",
         "offsetgroup": "Chicago",
         "orientation": "h",
         "showlegend": true,
         "text": [
          "48.4M"
         ],
         "textposition": "auto",
         "type": "bar",
         "x": [
          48402651.8991
         ],
         "xaxis": "x",
         "y": [
          "Chicago"
         ],
         "yaxis": "y"
        },
        {
         "alignmentgroup": "True",
         "customdata": [
          [
           "47.3M"
          ]
         ],
         "hovertemplate": "Region=%{y}<br>year=2015<br>Total Revenue (USD)=%{x}<extra></extra>",
         "legendgroup": "Dallas/Ft. Worth",
         "marker": {
          "color": "#FFA15A",
          "pattern": {
           "shape": ""
          }
         },
         "name": "Dallas/Ft. Worth",
         "offsetgroup": "Dallas/Ft. Worth",
         "orientation": "h",
         "showlegend": true,
         "text": [
          "47.3M"
         ],
         "textposition": "auto",
         "type": "bar",
         "x": [
          47335203.671000004
         ],
         "xaxis": "x",
         "y": [
          "Dallas/Ft. Worth"
         ],
         "yaxis": "y"
        },
        {
         "alignmentgroup": "True",
         "customdata": [
          [
           "41.2M"
          ]
         ],
         "hovertemplate": "Region=%{y}<br>year=2015<br>Total Revenue (USD)=%{x}<extra></extra>",
         "legendgroup": "Denver",
         "marker": {
          "color": "#19d3f3",
          "pattern": {
           "shape": ""
          }
         },
         "name": "Denver",
         "offsetgroup": "Denver",
         "orientation": "h",
         "showlegend": true,
         "text": [
          "41.2M"
         ],
         "textposition": "auto",
         "type": "bar",
         "x": [
          41201705.9918
         ],
         "xaxis": "x",
         "y": [
          "Denver"
         ],
         "yaxis": "y"
        },
        {
         "alignmentgroup": "True",
         "customdata": [
          [
           "184.2M"
          ]
         ],
         "hovertemplate": "Region=%{y}<br>year=2015<br>Total Revenue (USD)=%{x}<extra></extra>",
         "legendgroup": "Great Lakes",
         "marker": {
          "color": "#FF6692",
          "pattern": {
           "shape": ""
          }
         },
         "name": "Great Lakes",
         "offsetgroup": "Great Lakes",
         "orientation": "h",
         "showlegend": true,
         "text": [
          "184.2M"
         ],
         "textposition": "auto",
         "type": "bar",
         "x": [
          184212143.3898
         ],
         "xaxis": "x",
         "y": [
          "Great Lakes"
         ],
         "yaxis": "y"
        },
        {
         "alignmentgroup": "True",
         "customdata": [
          [
           "43.9M"
          ]
         ],
         "hovertemplate": "Region=%{y}<br>year=2015<br>Total Revenue (USD)=%{x}<extra></extra>",
         "legendgroup": "Houston",
         "marker": {
          "color": "#B6E880",
          "pattern": {
           "shape": ""
          }
         },
         "name": "Houston",
         "offsetgroup": "Houston",
         "orientation": "h",
         "showlegend": true,
         "text": [
          "43.9M"
         ],
         "textposition": "auto",
         "type": "bar",
         "x": [
          43948609.8
         ],
         "xaxis": "x",
         "y": [
          "Houston"
         ],
         "yaxis": "y"
        },
        {
         "alignmentgroup": "True",
         "customdata": [
          [
           "133.2M"
          ]
         ],
         "hovertemplate": "Region=%{y}<br>year=2015<br>Total Revenue (USD)=%{x}<extra></extra>",
         "legendgroup": "Los Angeles",
         "marker": {
          "color": "#FF97FF",
          "pattern": {
           "shape": ""
          }
         },
         "name": "Los Angeles",
         "offsetgroup": "Los Angeles",
         "orientation": "h",
         "showlegend": true,
         "text": [
          "133.2M"
         ],
         "textposition": "auto",
         "type": "bar",
         "x": [
          133164542.0688
         ],
         "xaxis": "x",
         "y": [
          "Los Angeles"
         ],
         "yaxis": "y"
        },
        {
         "alignmentgroup": "True",
         "customdata": [
          [
           "27.9M"
          ]
         ],
         "hovertemplate": "Region=%{y}<br>year=2015<br>Total Revenue (USD)=%{x}<extra></extra>",
         "legendgroup": "Miami/Ft. Lauderdale",
         "marker": {
          "color": "#FECB52",
          "pattern": {
           "shape": ""
          }
         },
         "name": "Miami/Ft. Lauderdale",
         "offsetgroup": "Miami/Ft. Lauderdale",
         "orientation": "h",
         "showlegend": true,
         "text": [
          "27.9M"
         ],
         "textposition": "auto",
         "type": "bar",
         "x": [
          27909775.5807
         ],
         "xaxis": "x",
         "y": [
          "Miami/Ft. Lauderdale"
         ],
         "yaxis": "y"
        },
        {
         "alignmentgroup": "True",
         "customdata": [
          [
           "88.7M"
          ]
         ],
         "hovertemplate": "Region=%{y}<br>year=2015<br>Total Revenue (USD)=%{x}<extra></extra>",
         "legendgroup": "New York",
         "marker": {
          "color": "#636efa",
          "pattern": {
           "shape": ""
          }
         },
         "name": "New York",
         "offsetgroup": "New York",
         "orientation": "h",
         "showlegend": true,
         "text": [
          "88.7M"
         ],
         "textposition": "auto",
         "type": "bar",
         "x": [
          88669094.7689
         ],
         "xaxis": "x",
         "y": [
          "New York"
         ],
         "yaxis": "y"
        },
        {
         "alignmentgroup": "True",
         "customdata": [
          [
           "26.8M"
          ]
         ],
         "hovertemplate": "Region=%{y}<br>year=2015<br>Total Revenue (USD)=%{x}<extra></extra>",
         "legendgroup": "Philadelphia",
         "marker": {
          "color": "#EF553B",
          "pattern": {
           "shape": ""
          }
         },
         "name": "Philadelphia",
         "offsetgroup": "Philadelphia",
         "orientation": "h",
         "showlegend": true,
         "text": [
          "26.8M"
         ],
         "textposition": "auto",
         "type": "bar",
         "x": [
          26813170.0735
         ],
         "xaxis": "x",
         "y": [
          "Philadelphia"
         ],
         "yaxis": "y"
        },
        {
         "alignmentgroup": "True",
         "customdata": [
          [
           "37.3M"
          ]
         ],
         "hovertemplate": "Region=%{y}<br>year=2015<br>Total Revenue (USD)=%{x}<extra></extra>",
         "legendgroup": "Phoenix/Tucson",
         "marker": {
          "color": "#00cc96",
          "pattern": {
           "shape": ""
          }
         },
         "name": "Phoenix/Tucson",
         "offsetgroup": "Phoenix/Tucson",
         "orientation": "h",
         "showlegend": true,
         "text": [
          "37.3M"
         ],
         "textposition": "auto",
         "type": "bar",
         "x": [
          37331207.1654
         ],
         "xaxis": "x",
         "y": [
          "Phoenix/Tucson"
         ],
         "yaxis": "y"
        },
        {
         "alignmentgroup": "True",
         "customdata": [
          [
           "95.1M"
          ]
         ],
         "hovertemplate": "Region=%{y}<br>year=2015<br>Total Revenue (USD)=%{x}<extra></extra>",
         "legendgroup": "Plains",
         "marker": {
          "color": "#ab63fa",
          "pattern": {
           "shape": ""
          }
         },
         "name": "Plains",
         "offsetgroup": "Plains",
         "orientation": "h",
         "showlegend": true,
         "text": [
          "95.1M"
         ],
         "textposition": "auto",
         "type": "bar",
         "x": [
          95127842.88970001
         ],
         "xaxis": "x",
         "y": [
          "Plains"
         ],
         "yaxis": "y"
        },
        {
         "alignmentgroup": "True",
         "customdata": [
          [
           "29.8M"
          ]
         ],
         "hovertemplate": "Region=%{y}<br>year=2015<br>Total Revenue (USD)=%{x}<extra></extra>",
         "legendgroup": "Portland",
         "marker": {
          "color": "#FFA15A",
          "pattern": {
           "shape": ""
          }
         },
         "name": "Portland",
         "offsetgroup": "Portland",
         "orientation": "h",
         "showlegend": true,
         "text": [
          "29.8M"
         ],
         "textposition": "auto",
         "type": "bar",
         "x": [
          29826583.2051
         ],
         "xaxis": "x",
         "y": [
          "Portland"
         ],
         "yaxis": "y"
        },
        {
         "alignmentgroup": "True",
         "customdata": [
          [
           "25.8M"
          ]
         ],
         "hovertemplate": "Region=%{y}<br>year=2015<br>Total Revenue (USD)=%{x}<extra></extra>",
         "legendgroup": "Sacramento",
         "marker": {
          "color": "#19d3f3",
          "pattern": {
           "shape": ""
          }
         },
         "name": "Sacramento",
         "offsetgroup": "Sacramento",
         "orientation": "h",
         "showlegend": true,
         "text": [
          "25.8M"
         ],
         "textposition": "auto",
         "type": "bar",
         "x": [
          25849397.7
         ],
         "xaxis": "x",
         "y": [
          "Sacramento"
         ],
         "yaxis": "y"
        },
        {
         "alignmentgroup": "True",
         "customdata": [
          [
           "26.2M"
          ]
         ],
         "hovertemplate": "Region=%{y}<br>year=2015<br>Total Revenue (USD)=%{x}<extra></extra>",
         "legendgroup": "San Diego",
         "marker": {
          "color": "#FF6692",
          "pattern": {
           "shape": ""
          }
         },
         "name": "San Diego",
         "offsetgroup": "San Diego",
         "orientation": "h",
         "showlegend": true,
         "text": [
          "26.2M"
         ],
         "textposition": "auto",
         "type": "bar",
         "x": [
          26199457.9137
         ],
         "xaxis": "x",
         "y": [
          "San Diego"
         ],
         "yaxis": "y"
        },
        {
         "alignmentgroup": "True",
         "customdata": [
          [
           "50.6M"
          ]
         ],
         "hovertemplate": "Region=%{y}<br>year=2015<br>Total Revenue (USD)=%{x}<extra></extra>",
         "legendgroup": "San Francisco",
         "marker": {
          "color": "#B6E880",
          "pattern": {
           "shape": ""
          }
         },
         "name": "San Francisco",
         "offsetgroup": "San Francisco",
         "orientation": "h",
         "showlegend": true,
         "text": [
          "50.6M"
         ],
         "textposition": "auto",
         "type": "bar",
         "x": [
          50598378.2341
         ],
         "xaxis": "x",
         "y": [
          "San Francisco"
         ],
         "yaxis": "y"
        },
        {
         "alignmentgroup": "True",
         "customdata": [
          [
           "33.6M"
          ]
         ],
         "hovertemplate": "Region=%{y}<br>year=2015<br>Total Revenue (USD)=%{x}<extra></extra>",
         "legendgroup": "Seattle",
         "marker": {
          "color": "#FF97FF",
          "pattern": {
           "shape": ""
          }
         },
         "name": "Seattle",
         "offsetgroup": "Seattle",
         "orientation": "h",
         "showlegend": true,
         "text": [
          "33.6M"
         ],
         "textposition": "auto",
         "type": "bar",
         "x": [
          33574695.9362
         ],
         "xaxis": "x",
         "y": [
          "Seattle"
         ],
         "yaxis": "y"
        },
        {
         "alignmentgroup": "True",
         "customdata": [
          [
           "32.2M"
          ]
         ],
         "hovertemplate": "Region=%{y}<br>year=2015<br>Total Revenue (USD)=%{x}<extra></extra>",
         "legendgroup": "West Tex/New Mexico",
         "marker": {
          "color": "#FECB52",
          "pattern": {
           "shape": ""
          }
         },
         "name": "West Tex/New Mexico",
         "offsetgroup": "West Tex/New Mexico",
         "orientation": "h",
         "showlegend": true,
         "text": [
          "32.2M"
         ],
         "textposition": "auto",
         "type": "bar",
         "x": [
          32242475.2381
         ],
         "xaxis": "x",
         "y": [
          "West Tex/New Mexico"
         ],
         "yaxis": "y"
        }
       ],
       "frames": [
        {
         "data": [
          {
           "alignmentgroup": "True",
           "customdata": [
            [
             "24.5M"
            ]
           ],
           "hovertemplate": "Region=%{y}<br>year=2015<br>Total Revenue (USD)=%{x}<extra></extra>",
           "legendgroup": "Atlanta",
           "marker": {
            "color": "#636efa",
            "pattern": {
             "shape": ""
            }
           },
           "name": "Atlanta",
           "offsetgroup": "Atlanta",
           "orientation": "h",
           "showlegend": true,
           "text": [
            "24.5M"
           ],
           "textposition": "auto",
           "type": "bar",
           "x": [
            24515462.183000002
           ],
           "xaxis": "x",
           "y": [
            "Atlanta"
           ],
           "yaxis": "y"
          },
          {
           "alignmentgroup": "True",
           "customdata": [
            [
             "47.6M"
            ]
           ],
           "hovertemplate": "Region=%{y}<br>year=2015<br>Total Revenue (USD)=%{x}<extra></extra>",
           "legendgroup": "Baltimore/Washington",
           "marker": {
            "color": "#EF553B",
            "pattern": {
             "shape": ""
            }
           },
           "name": "Baltimore/Washington",
           "offsetgroup": "Baltimore/Washington",
           "orientation": "h",
           "showlegend": true,
           "text": [
            "47.6M"
           ],
           "textposition": "auto",
           "type": "bar",
           "x": [
            47590233.9325
           ],
           "xaxis": "x",
           "y": [
            "Baltimore/Washington"
           ],
           "yaxis": "y"
          },
          {
           "alignmentgroup": "True",
           "customdata": [
            [
             "31.4M"
            ]
           ],
           "hovertemplate": "Region=%{y}<br>year=2015<br>Total Revenue (USD)=%{x}<extra></extra>",
           "legendgroup": "Boston",
           "marker": {
            "color": "#00cc96",
            "pattern": {
             "shape": ""
            }
           },
           "name": "Boston",
           "offsetgroup": "Boston",
           "orientation": "h",
           "showlegend": true,
           "text": [
            "31.4M"
           ],
           "textposition": "auto",
           "type": "bar",
           "x": [
            31354577.1155
           ],
           "xaxis": "x",
           "y": [
            "Boston"
           ],
           "yaxis": "y"
          },
          {
           "alignmentgroup": "True",
           "customdata": [
            [
             "48.4M"
            ]
           ],
           "hovertemplate": "Region=%{y}<br>year=2015<br>Total Revenue (USD)=%{x}<extra></extra>",
           "legendgroup": "Chicago",
           "marker": {
            "color": "#ab63fa",
            "pattern": {
             "shape": ""
            }
           },
           "name": "Chicago",
           "offsetgroup": "Chicago",
           "orientation": "h",
           "showlegend": true,
           "text": [
            "48.4M"
           ],
           "textposition": "auto",
           "type": "bar",
           "x": [
            48402651.8991
           ],
           "xaxis": "x",
           "y": [
            "Chicago"
           ],
           "yaxis": "y"
          },
          {
           "alignmentgroup": "True",
           "customdata": [
            [
             "47.3M"
            ]
           ],
           "hovertemplate": "Region=%{y}<br>year=2015<br>Total Revenue (USD)=%{x}<extra></extra>",
           "legendgroup": "Dallas/Ft. Worth",
           "marker": {
            "color": "#FFA15A",
            "pattern": {
             "shape": ""
            }
           },
           "name": "Dallas/Ft. Worth",
           "offsetgroup": "Dallas/Ft. Worth",
           "orientation": "h",
           "showlegend": true,
           "text": [
            "47.3M"
           ],
           "textposition": "auto",
           "type": "bar",
           "x": [
            47335203.671000004
           ],
           "xaxis": "x",
           "y": [
            "Dallas/Ft. Worth"
           ],
           "yaxis": "y"
          },
          {
           "alignmentgroup": "True",
           "customdata": [
            [
             "41.2M"
            ]
           ],
           "hovertemplate": "Region=%{y}<br>year=2015<br>Total Revenue (USD)=%{x}<extra></extra>",
           "legendgroup": "Denver",
           "marker": {
            "color": "#19d3f3",
            "pattern": {
             "shape": ""
            }
           },
           "name": "Denver",
           "offsetgroup": "Denver",
           "orientation": "h",
           "showlegend": true,
           "text": [
            "41.2M"
           ],
           "textposition": "auto",
           "type": "bar",
           "x": [
            41201705.9918
           ],
           "xaxis": "x",
           "y": [
            "Denver"
           ],
           "yaxis": "y"
          },
          {
           "alignmentgroup": "True",
           "customdata": [
            [
             "184.2M"
            ]
           ],
           "hovertemplate": "Region=%{y}<br>year=2015<br>Total Revenue (USD)=%{x}<extra></extra>",
           "legendgroup": "Great Lakes",
           "marker": {
            "color": "#FF6692",
            "pattern": {
             "shape": ""
            }
           },
           "name": "Great Lakes",
           "offsetgroup": "Great Lakes",
           "orientation": "h",
           "showlegend": true,
           "text": [
            "184.2M"
           ],
           "textposition": "auto",
           "type": "bar",
           "x": [
            184212143.3898
           ],
           "xaxis": "x",
           "y": [
            "Great Lakes"
           ],
           "yaxis": "y"
          },
          {
           "alignmentgroup": "True",
           "customdata": [
            [
             "43.9M"
            ]
           ],
           "hovertemplate": "Region=%{y}<br>year=2015<br>Total Revenue (USD)=%{x}<extra></extra>",
           "legendgroup": "Houston",
           "marker": {
            "color": "#B6E880",
            "pattern": {
             "shape": ""
            }
           },
           "name": "Houston",
           "offsetgroup": "Houston",
           "orientation": "h",
           "showlegend": true,
           "text": [
            "43.9M"
           ],
           "textposition": "auto",
           "type": "bar",
           "x": [
            43948609.8
           ],
           "xaxis": "x",
           "y": [
            "Houston"
           ],
           "yaxis": "y"
          },
          {
           "alignmentgroup": "True",
           "customdata": [
            [
             "133.2M"
            ]
           ],
           "hovertemplate": "Region=%{y}<br>year=2015<br>Total Revenue (USD)=%{x}<extra></extra>",
           "legendgroup": "Los Angeles",
           "marker": {
            "color": "#FF97FF",
            "pattern": {
             "shape": ""
            }
           },
           "name": "Los Angeles",
           "offsetgroup": "Los Angeles",
           "orientation": "h",
           "showlegend": true,
           "text": [
            "133.2M"
           ],
           "textposition": "auto",
           "type": "bar",
           "x": [
            133164542.0688
           ],
           "xaxis": "x",
           "y": [
            "Los Angeles"
           ],
           "yaxis": "y"
          },
          {
           "alignmentgroup": "True",
           "customdata": [
            [
             "27.9M"
            ]
           ],
           "hovertemplate": "Region=%{y}<br>year=2015<br>Total Revenue (USD)=%{x}<extra></extra>",
           "legendgroup": "Miami/Ft. Lauderdale",
           "marker": {
            "color": "#FECB52",
            "pattern": {
             "shape": ""
            }
           },
           "name": "Miami/Ft. Lauderdale",
           "offsetgroup": "Miami/Ft. Lauderdale",
           "orientation": "h",
           "showlegend": true,
           "text": [
            "27.9M"
           ],
           "textposition": "auto",
           "type": "bar",
           "x": [
            27909775.5807
           ],
           "xaxis": "x",
           "y": [
            "Miami/Ft. Lauderdale"
           ],
           "yaxis": "y"
          },
          {
           "alignmentgroup": "True",
           "customdata": [
            [
             "88.7M"
            ]
           ],
           "hovertemplate": "Region=%{y}<br>year=2015<br>Total Revenue (USD)=%{x}<extra></extra>",
           "legendgroup": "New York",
           "marker": {
            "color": "#636efa",
            "pattern": {
             "shape": ""
            }
           },
           "name": "New York",
           "offsetgroup": "New York",
           "orientation": "h",
           "showlegend": true,
           "text": [
            "88.7M"
           ],
           "textposition": "auto",
           "type": "bar",
           "x": [
            88669094.7689
           ],
           "xaxis": "x",
           "y": [
            "New York"
           ],
           "yaxis": "y"
          },
          {
           "alignmentgroup": "True",
           "customdata": [
            [
             "26.8M"
            ]
           ],
           "hovertemplate": "Region=%{y}<br>year=2015<br>Total Revenue (USD)=%{x}<extra></extra>",
           "legendgroup": "Philadelphia",
           "marker": {
            "color": "#EF553B",
            "pattern": {
             "shape": ""
            }
           },
           "name": "Philadelphia",
           "offsetgroup": "Philadelphia",
           "orientation": "h",
           "showlegend": true,
           "text": [
            "26.8M"
           ],
           "textposition": "auto",
           "type": "bar",
           "x": [
            26813170.0735
           ],
           "xaxis": "x",
           "y": [
            "Philadelphia"
           ],
           "yaxis": "y"
          },
          {
           "alignmentgroup": "True",
           "customdata": [
            [
             "37.3M"
            ]
           ],
           "hovertemplate": "Region=%{y}<br>year=2015<br>Total Revenue (USD)=%{x}<extra></extra>",
           "legendgroup": "Phoenix/Tucson",
           "marker": {
            "color": "#00cc96",
            "pattern": {
             "shape": ""
            }
           },
           "name": "Phoenix/Tucson",
           "offsetgroup": "Phoenix/Tucson",
           "orientation": "h",
           "showlegend": true,
           "text": [
            "37.3M"
           ],
           "textposition": "auto",
           "type": "bar",
           "x": [
            37331207.1654
           ],
           "xaxis": "x",
           "y": [
            "Phoenix/Tucson"
           ],
           "yaxis": "y"
          },
          {
           "alignmentgroup": "True",
           "customdata": [
            [
             "95.1M"
            ]
           ],
           "hovertemplate": "Region=%{y}<br>year=2015<br>Total Revenue (USD)=%{x}<extra></extra>",
           "legendgroup": "Plains",
           "marker": {
            "color": "#ab63fa",
            "pattern": {
             "shape": ""
            }
           },
           "name": "Plains",
           "offsetgroup": "Plains",
           "orientation": "h",
           "showlegend": true,
           "text": [
            "95.1M"
           ],
           "textposition": "auto",
           "type": "bar",
           "x": [
            95127842.88970001
           ],
           "xaxis": "x",
           "y": [
            "Plains"
           ],
           "yaxis": "y"
          },
          {
           "alignmentgroup": "True",
           "customdata": [
            [
             "29.8M"
            ]
           ],
           "hovertemplate": "Region=%{y}<br>year=2015<br>Total Revenue (USD)=%{x}<extra></extra>",
           "legendgroup": "Portland",
           "marker": {
            "color": "#FFA15A",
            "pattern": {
             "shape": ""
            }
           },
           "name": "Portland",
           "offsetgroup": "Portland",
           "orientation": "h",
           "showlegend": true,
           "text": [
            "29.8M"
           ],
           "textposition": "auto",
           "type": "bar",
           "x": [
            29826583.2051
           ],
           "xaxis": "x",
           "y": [
            "Portland"
           ],
           "yaxis": "y"
          },
          {
           "alignmentgroup": "True",
           "customdata": [
            [
             "25.8M"
            ]
           ],
           "hovertemplate": "Region=%{y}<br>year=2015<br>Total Revenue (USD)=%{x}<extra></extra>",
           "legendgroup": "Sacramento",
           "marker": {
            "color": "#19d3f3",
            "pattern": {
             "shape": ""
            }
           },
           "name": "Sacramento",
           "offsetgroup": "Sacramento",
           "orientation": "h",
           "showlegend": true,
           "text": [
            "25.8M"
           ],
           "textposition": "auto",
           "type": "bar",
           "x": [
            25849397.7
           ],
           "xaxis": "x",
           "y": [
            "Sacramento"
           ],
           "yaxis": "y"
          },
          {
           "alignmentgroup": "True",
           "customdata": [
            [
             "26.2M"
            ]
           ],
           "hovertemplate": "Region=%{y}<br>year=2015<br>Total Revenue (USD)=%{x}<extra></extra>",
           "legendgroup": "San Diego",
           "marker": {
            "color": "#FF6692",
            "pattern": {
             "shape": ""
            }
           },
           "name": "San Diego",
           "offsetgroup": "San Diego",
           "orientation": "h",
           "showlegend": true,
           "text": [
            "26.2M"
           ],
           "textposition": "auto",
           "type": "bar",
           "x": [
            26199457.9137
           ],
           "xaxis": "x",
           "y": [
            "San Diego"
           ],
           "yaxis": "y"
          },
          {
           "alignmentgroup": "True",
           "customdata": [
            [
             "50.6M"
            ]
           ],
           "hovertemplate": "Region=%{y}<br>year=2015<br>Total Revenue (USD)=%{x}<extra></extra>",
           "legendgroup": "San Francisco",
           "marker": {
            "color": "#B6E880",
            "pattern": {
             "shape": ""
            }
           },
           "name": "San Francisco",
           "offsetgroup": "San Francisco",
           "orientation": "h",
           "showlegend": true,
           "text": [
            "50.6M"
           ],
           "textposition": "auto",
           "type": "bar",
           "x": [
            50598378.2341
           ],
           "xaxis": "x",
           "y": [
            "San Francisco"
           ],
           "yaxis": "y"
          },
          {
           "alignmentgroup": "True",
           "customdata": [
            [
             "33.6M"
            ]
           ],
           "hovertemplate": "Region=%{y}<br>year=2015<br>Total Revenue (USD)=%{x}<extra></extra>",
           "legendgroup": "Seattle",
           "marker": {
            "color": "#FF97FF",
            "pattern": {
             "shape": ""
            }
           },
           "name": "Seattle",
           "offsetgroup": "Seattle",
           "orientation": "h",
           "showlegend": true,
           "text": [
            "33.6M"
           ],
           "textposition": "auto",
           "type": "bar",
           "x": [
            33574695.9362
           ],
           "xaxis": "x",
           "y": [
            "Seattle"
           ],
           "yaxis": "y"
          },
          {
           "alignmentgroup": "True",
           "customdata": [
            [
             "32.2M"
            ]
           ],
           "hovertemplate": "Region=%{y}<br>year=2015<br>Total Revenue (USD)=%{x}<extra></extra>",
           "legendgroup": "West Tex/New Mexico",
           "marker": {
            "color": "#FECB52",
            "pattern": {
             "shape": ""
            }
           },
           "name": "West Tex/New Mexico",
           "offsetgroup": "West Tex/New Mexico",
           "orientation": "h",
           "showlegend": true,
           "text": [
            "32.2M"
           ],
           "textposition": "auto",
           "type": "bar",
           "x": [
            32242475.2381
           ],
           "xaxis": "x",
           "y": [
            "West Tex/New Mexico"
           ],
           "yaxis": "y"
          }
         ],
         "name": "2015"
        },
        {
         "data": [
          {
           "alignmentgroup": "True",
           "customdata": [
            [
             "27.0M"
            ]
           ],
           "hovertemplate": "Region=%{y}<br>year=2016<br>Total Revenue (USD)=%{x}<extra></extra>",
           "legendgroup": "Atlanta",
           "marker": {
            "color": "#636efa",
            "pattern": {
             "shape": ""
            }
           },
           "name": "Atlanta",
           "offsetgroup": "Atlanta",
           "orientation": "h",
           "showlegend": true,
           "text": [
            "27.0M"
           ],
           "textposition": "auto",
           "type": "bar",
           "x": [
            27033935.7838
           ],
           "xaxis": "x",
           "y": [
            "Atlanta"
           ],
           "yaxis": "y"
          },
          {
           "alignmentgroup": "True",
           "customdata": [
            [
             "54.7M"
            ]
           ],
           "hovertemplate": "Region=%{y}<br>year=2016<br>Total Revenue (USD)=%{x}<extra></extra>",
           "legendgroup": "Baltimore/Washington",
           "marker": {
            "color": "#EF553B",
            "pattern": {
             "shape": ""
            }
           },
           "name": "Baltimore/Washington",
           "offsetgroup": "Baltimore/Washington",
           "orientation": "h",
           "showlegend": true,
           "text": [
            "54.7M"
           ],
           "textposition": "auto",
           "type": "bar",
           "x": [
            54670190.594000004
           ],
           "xaxis": "x",
           "y": [
            "Baltimore/Washington"
           ],
           "yaxis": "y"
          },
          {
           "alignmentgroup": "True",
           "customdata": [
            [
             "37.9M"
            ]
           ],
           "hovertemplate": "Region=%{y}<br>year=2016<br>Total Revenue (USD)=%{x}<extra></extra>",
           "legendgroup": "Boston",
           "marker": {
            "color": "#00cc96",
            "pattern": {
             "shape": ""
            }
           },
           "name": "Boston",
           "offsetgroup": "Boston",
           "orientation": "h",
           "showlegend": true,
           "text": [
            "37.9M"
           ],
           "textposition": "auto",
           "type": "bar",
           "x": [
            37853108.3997
           ],
           "xaxis": "x",
           "y": [
            "Boston"
           ],
           "yaxis": "y"
          },
          {
           "alignmentgroup": "True",
           "customdata": [
            [
             "50.9M"
            ]
           ],
           "hovertemplate": "Region=%{y}<br>year=2016<br>Total Revenue (USD)=%{x}<extra></extra>",
           "legendgroup": "Chicago",
           "marker": {
            "color": "#ab63fa",
            "pattern": {
             "shape": ""
            }
           },
           "name": "Chicago",
           "offsetgroup": "Chicago",
           "orientation": "h",
           "showlegend": true,
           "text": [
            "50.9M"
           ],
           "textposition": "auto",
           "type": "bar",
           "x": [
            50928703.8672
           ],
           "xaxis": "x",
           "y": [
            "Chicago"
           ],
           "yaxis": "y"
          },
          {
           "alignmentgroup": "True",
           "customdata": [
            [
             "52.1M"
            ]
           ],
           "hovertemplate": "Region=%{y}<br>year=2016<br>Total Revenue (USD)=%{x}<extra></extra>",
           "legendgroup": "Dallas/Ft. Worth",
           "marker": {
            "color": "#FFA15A",
            "pattern": {
             "shape": ""
            }
           },
           "name": "Dallas/Ft. Worth",
           "offsetgroup": "Dallas/Ft. Worth",
           "orientation": "h",
           "showlegend": true,
           "text": [
            "52.1M"
           ],
           "textposition": "auto",
           "type": "bar",
           "x": [
            52135400.1223
           ],
           "xaxis": "x",
           "y": [
            "Dallas/Ft. Worth"
           ],
           "yaxis": "y"
          },
          {
           "alignmentgroup": "True",
           "customdata": [
            [
             "41.8M"
            ]
           ],
           "hovertemplate": "Region=%{y}<br>year=2016<br>Total Revenue (USD)=%{x}<extra></extra>",
           "legendgroup": "Denver",
           "marker": {
            "color": "#19d3f3",
            "pattern": {
             "shape": ""
            }
           },
           "name": "Denver",
           "offsetgroup": "Denver",
           "orientation": "h",
           "showlegend": true,
           "text": [
            "41.8M"
           ],
           "textposition": "auto",
           "type": "bar",
           "x": [
            41821645.9888
           ],
           "xaxis": "x",
           "y": [
            "Denver"
           ],
           "yaxis": "y"
          },
          {
           "alignmentgroup": "True",
           "customdata": [
            [
             "200.7M"
            ]
           ],
           "hovertemplate": "Region=%{y}<br>year=2016<br>Total Revenue (USD)=%{x}<extra></extra>",
           "legendgroup": "Great Lakes",
           "marker": {
            "color": "#FF6692",
            "pattern": {
             "shape": ""
            }
           },
           "name": "Great Lakes",
           "offsetgroup": "Great Lakes",
           "orientation": "h",
           "showlegend": true,
           "text": [
            "200.7M"
           ],
           "textposition": "auto",
           "type": "bar",
           "x": [
            200657701.68240002
           ],
           "xaxis": "x",
           "y": [
            "Great Lakes"
           ],
           "yaxis": "y"
          },
          {
           "alignmentgroup": "True",
           "customdata": [
            [
             "48.2M"
            ]
           ],
           "hovertemplate": "Region=%{y}<br>year=2016<br>Total Revenue (USD)=%{x}<extra></extra>",
           "legendgroup": "Houston",
           "marker": {
            "color": "#B6E880",
            "pattern": {
             "shape": ""
            }
           },
           "name": "Houston",
           "offsetgroup": "Houston",
           "orientation": "h",
           "showlegend": true,
           "text": [
            "48.2M"
           ],
           "textposition": "auto",
           "type": "bar",
           "x": [
            48215160.6424
           ],
           "xaxis": "x",
           "y": [
            "Houston"
           ],
           "yaxis": "y"
          },
          {
           "alignmentgroup": "True",
           "customdata": [
            [
             "141.9M"
            ]
           ],
           "hovertemplate": "Region=%{y}<br>year=2016<br>Total Revenue (USD)=%{x}<extra></extra>",
           "legendgroup": "Los Angeles",
           "marker": {
            "color": "#FF97FF",
            "pattern": {
             "shape": ""
            }
           },
           "name": "Los Angeles",
           "offsetgroup": "Los Angeles",
           "orientation": "h",
           "showlegend": true,
           "text": [
            "141.9M"
           ],
           "textposition": "auto",
           "type": "bar",
           "x": [
            141898779.0572
           ],
           "xaxis": "x",
           "y": [
            "Los Angeles"
           ],
           "yaxis": "y"
          },
          {
           "alignmentgroup": "True",
           "customdata": [
            [
             "35.2M"
            ]
           ],
           "hovertemplate": "Region=%{y}<br>year=2016<br>Total Revenue (USD)=%{x}<extra></extra>",
           "legendgroup": "Miami/Ft. Lauderdale",
           "marker": {
            "color": "#FECB52",
            "pattern": {
             "shape": ""
            }
           },
           "name": "Miami/Ft. Lauderdale",
           "offsetgroup": "Miami/Ft. Lauderdale",
           "orientation": "h",
           "showlegend": true,
           "text": [
            "35.2M"
           ],
           "textposition": "auto",
           "type": "bar",
           "x": [
            35218323.7438
           ],
           "xaxis": "x",
           "y": [
            "Miami/Ft. Lauderdale"
           ],
           "yaxis": "y"
          },
          {
           "alignmentgroup": "True",
           "customdata": [
            [
             "96.1M"
            ]
           ],
           "hovertemplate": "Region=%{y}<br>year=2016<br>Total Revenue (USD)=%{x}<extra></extra>",
           "legendgroup": "New York",
           "marker": {
            "color": "#636efa",
            "pattern": {
             "shape": ""
            }
           },
           "name": "New York",
           "offsetgroup": "New York",
           "orientation": "h",
           "showlegend": true,
           "text": [
            "96.1M"
           ],
           "textposition": "auto",
           "type": "bar",
           "x": [
            96086655.2651
           ],
           "xaxis": "x",
           "y": [
            "New York"
           ],
           "yaxis": "y"
          },
          {
           "alignmentgroup": "True",
           "customdata": [
            [
             "29.9M"
            ]
           ],
           "hovertemplate": "Region=%{y}<br>year=2016<br>Total Revenue (USD)=%{x}<extra></extra>",
           "legendgroup": "Philadelphia",
           "marker": {
            "color": "#EF553B",
            "pattern": {
             "shape": ""
            }
           },
           "name": "Philadelphia",
           "offsetgroup": "Philadelphia",
           "orientation": "h",
           "showlegend": true,
           "text": [
            "29.9M"
           ],
           "textposition": "auto",
           "type": "bar",
           "x": [
            29926936.8985
           ],
           "xaxis": "x",
           "y": [
            "Philadelphia"
           ],
           "yaxis": "y"
          },
          {
           "alignmentgroup": "True",
           "customdata": [
            [
             "41.7M"
            ]
           ],
           "hovertemplate": "Region=%{y}<br>year=2016<br>Total Revenue (USD)=%{x}<extra></extra>",
           "legendgroup": "Phoenix/Tucson",
           "marker": {
            "color": "#00cc96",
            "pattern": {
             "shape": ""
            }
           },
           "name": "Phoenix/Tucson",
           "offsetgroup": "Phoenix/Tucson",
           "orientation": "h",
           "showlegend": true,
           "text": [
            "41.7M"
           ],
           "textposition": "auto",
           "type": "bar",
           "x": [
            41701268.8927
           ],
           "xaxis": "x",
           "y": [
            "Phoenix/Tucson"
           ],
           "yaxis": "y"
          },
          {
           "alignmentgroup": "True",
           "customdata": [
            [
             "105.2M"
            ]
           ],
           "hovertemplate": "Region=%{y}<br>year=2016<br>Total Revenue (USD)=%{x}<extra></extra>",
           "legendgroup": "Plains",
           "marker": {
            "color": "#ab63fa",
            "pattern": {
             "shape": ""
            }
           },
           "name": "Plains",
           "offsetgroup": "Plains",
           "orientation": "h",
           "showlegend": true,
           "text": [
            "105.2M"
           ],
           "textposition": "auto",
           "type": "bar",
           "x": [
            105191800.1874
           ],
           "xaxis": "x",
           "y": [
            "Plains"
           ],
           "yaxis": "y"
          },
          {
           "alignmentgroup": "True",
           "customdata": [
            [
             "33.9M"
            ]
           ],
           "hovertemplate": "Region=%{y}<br>year=2016<br>Total Revenue (USD)=%{x}<extra></extra>",
           "legendgroup": "Portland",
           "marker": {
            "color": "#FFA15A",
            "pattern": {
             "shape": ""
            }
           },
           "name": "Portland",
           "offsetgroup": "Portland",
           "orientation": "h",
           "showlegend": true,
           "text": [
            "33.9M"
           ],
           "textposition": "auto",
           "type": "bar",
           "x": [
            33883464.5574
           ],
           "xaxis": "x",
           "y": [
            "Portland"
           ],
           "yaxis": "y"
          },
          {
           "alignmentgroup": "True",
           "customdata": [
            [
             "28.4M"
            ]
           ],
           "hovertemplate": "Region=%{y}<br>year=2016<br>Total Revenue (USD)=%{x}<extra></extra>",
           "legendgroup": "Sacramento",
           "marker": {
            "color": "#19d3f3",
            "pattern": {
             "shape": ""
            }
           },
           "name": "Sacramento",
           "offsetgroup": "Sacramento",
           "orientation": "h",
           "showlegend": true,
           "text": [
            "28.4M"
           ],
           "textposition": "auto",
           "type": "bar",
           "x": [
            28358944.5765
           ],
           "xaxis": "x",
           "y": [
            "Sacramento"
           ],
           "yaxis": "y"
          },
          {
           "alignmentgroup": "True",
           "customdata": [
            [
             "27.8M"
            ]
           ],
           "hovertemplate": "Region=%{y}<br>year=2016<br>Total Revenue (USD)=%{x}<extra></extra>",
           "legendgroup": "San Diego",
           "marker": {
            "color": "#FF6692",
            "pattern": {
             "shape": ""
            }
           },
           "name": "San Diego",
           "offsetgroup": "San Diego",
           "orientation": "h",
           "showlegend": true,
           "text": [
            "27.8M"
           ],
           "textposition": "auto",
           "type": "bar",
           "x": [
            27847379.8963
           ],
           "xaxis": "x",
           "y": [
            "San Diego"
           ],
           "yaxis": "y"
          },
          {
           "alignmentgroup": "True",
           "customdata": [
            [
             "57.7M"
            ]
           ],
           "hovertemplate": "Region=%{y}<br>year=2016<br>Total Revenue (USD)=%{x}<extra></extra>",
           "legendgroup": "San Francisco",
           "marker": {
            "color": "#B6E880",
            "pattern": {
             "shape": ""
            }
           },
           "name": "San Francisco",
           "offsetgroup": "San Francisco",
           "orientation": "h",
           "showlegend": true,
           "text": [
            "57.7M"
           ],
           "textposition": "auto",
           "type": "bar",
           "x": [
            57674729.79
           ],
           "xaxis": "x",
           "y": [
            "San Francisco"
           ],
           "yaxis": "y"
          },
          {
           "alignmentgroup": "True",
           "customdata": [
            [
             "37.9M"
            ]
           ],
           "hovertemplate": "Region=%{y}<br>year=2016<br>Total Revenue (USD)=%{x}<extra></extra>",
           "legendgroup": "Seattle",
           "marker": {
            "color": "#FF97FF",
            "pattern": {
             "shape": ""
            }
           },
           "name": "Seattle",
           "offsetgroup": "Seattle",
           "orientation": "h",
           "showlegend": true,
           "text": [
            "37.9M"
           ],
           "textposition": "auto",
           "type": "bar",
           "x": [
            37881884.1529
           ],
           "xaxis": "x",
           "y": [
            "Seattle"
           ],
           "yaxis": "y"
          },
          {
           "alignmentgroup": "True",
           "customdata": [
            [
             "36.9M"
            ]
           ],
           "hovertemplate": "Region=%{y}<br>year=2016<br>Total Revenue (USD)=%{x}<extra></extra>",
           "legendgroup": "West Tex/New Mexico",
           "marker": {
            "color": "#FECB52",
            "pattern": {
             "shape": ""
            }
           },
           "name": "West Tex/New Mexico",
           "offsetgroup": "West Tex/New Mexico",
           "orientation": "h",
           "showlegend": true,
           "text": [
            "36.9M"
           ],
           "textposition": "auto",
           "type": "bar",
           "x": [
            36941988.3412
           ],
           "xaxis": "x",
           "y": [
            "West Tex/New Mexico"
           ],
           "yaxis": "y"
          }
         ],
         "name": "2016"
        },
        {
         "data": [
          {
           "alignmentgroup": "True",
           "customdata": [
            [
             "33.9M"
            ]
           ],
           "hovertemplate": "Region=%{y}<br>year=2017<br>Total Revenue (USD)=%{x}<extra></extra>",
           "legendgroup": "Atlanta",
           "marker": {
            "color": "#636efa",
            "pattern": {
             "shape": ""
            }
           },
           "name": "Atlanta",
           "offsetgroup": "Atlanta",
           "orientation": "h",
           "showlegend": true,
           "text": [
            "33.9M"
           ],
           "textposition": "auto",
           "type": "bar",
           "x": [
            33904390.3449
           ],
           "xaxis": "x",
           "y": [
            "Atlanta"
           ],
           "yaxis": "y"
          },
          {
           "alignmentgroup": "True",
           "customdata": [
            [
             "62.0M"
            ]
           ],
           "hovertemplate": "Region=%{y}<br>year=2017<br>Total Revenue (USD)=%{x}<extra></extra>",
           "legendgroup": "Baltimore/Washington",
           "marker": {
            "color": "#EF553B",
            "pattern": {
             "shape": ""
            }
           },
           "name": "Baltimore/Washington",
           "offsetgroup": "Baltimore/Washington",
           "orientation": "h",
           "showlegend": true,
           "text": [
            "62.0M"
           ],
           "textposition": "auto",
           "type": "bar",
           "x": [
            61984548.19
           ],
           "xaxis": "x",
           "y": [
            "Baltimore/Washington"
           ],
           "yaxis": "y"
          },
          {
           "alignmentgroup": "True",
           "customdata": [
            [
             "45.8M"
            ]
           ],
           "hovertemplate": "Region=%{y}<br>year=2017<br>Total Revenue (USD)=%{x}<extra></extra>",
           "legendgroup": "Boston",
           "marker": {
            "color": "#00cc96",
            "pattern": {
             "shape": ""
            }
           },
           "name": "Boston",
           "offsetgroup": "Boston",
           "orientation": "h",
           "showlegend": true,
           "text": [
            "45.8M"
           ],
           "textposition": "auto",
           "type": "bar",
           "x": [
            45803283.893
           ],
           "xaxis": "x",
           "y": [
            "Boston"
           ],
           "yaxis": "y"
          },
          {
           "alignmentgroup": "True",
           "customdata": [
            [
             "63.7M"
            ]
           ],
           "hovertemplate": "Region=%{y}<br>year=2017<br>Total Revenue (USD)=%{x}<extra></extra>",
           "legendgroup": "Chicago",
           "marker": {
            "color": "#ab63fa",
            "pattern": {
             "shape": ""
            }
           },
           "name": "Chicago",
           "offsetgroup": "Chicago",
           "orientation": "h",
           "showlegend": true,
           "text": [
            "63.7M"
           ],
           "textposition": "auto",
           "type": "bar",
           "x": [
            63687434.386199996
           ],
           "xaxis": "x",
           "y": [
            "Chicago"
           ],
           "yaxis": "y"
          },
          {
           "alignmentgroup": "True",
           "customdata": [
            [
             "61.5M"
            ]
           ],
           "hovertemplate": "Region=%{y}<br>year=2017<br>Total Revenue (USD)=%{x}<extra></extra>",
           "legendgroup": "Dallas/Ft. Worth",
           "marker": {
            "color": "#FFA15A",
            "pattern": {
             "shape": ""
            }
           },
           "name": "Dallas/Ft. Worth",
           "offsetgroup": "Dallas/Ft. Worth",
           "orientation": "h",
           "showlegend": true,
           "text": [
            "61.5M"
           ],
           "textposition": "auto",
           "type": "bar",
           "x": [
            61485396.0151
           ],
           "xaxis": "x",
           "y": [
            "Dallas/Ft. Worth"
           ],
           "yaxis": "y"
          },
          {
           "alignmentgroup": "True",
           "customdata": [
            [
             "50.6M"
            ]
           ],
           "hovertemplate": "Region=%{y}<br>year=2017<br>Total Revenue (USD)=%{x}<extra></extra>",
           "legendgroup": "Denver",
           "marker": {
            "color": "#19d3f3",
            "pattern": {
             "shape": ""
            }
           },
           "name": "Denver",
           "offsetgroup": "Denver",
           "orientation": "h",
           "showlegend": true,
           "text": [
            "50.6M"
           ],
           "textposition": "auto",
           "type": "bar",
           "x": [
            50565541.4471
           ],
           "xaxis": "x",
           "y": [
            "Denver"
           ],
           "yaxis": "y"
          },
          {
           "alignmentgroup": "True",
           "customdata": [
            [
             "243.5M"
            ]
           ],
           "hovertemplate": "Region=%{y}<br>year=2017<br>Total Revenue (USD)=%{x}<extra></extra>",
           "legendgroup": "Great Lakes",
           "marker": {
            "color": "#FF6692",
            "pattern": {
             "shape": ""
            }
           },
           "name": "Great Lakes",
           "offsetgroup": "Great Lakes",
           "orientation": "h",
           "showlegend": true,
           "text": [
            "243.5M"
           ],
           "textposition": "auto",
           "type": "bar",
           "x": [
            243453680.8346
           ],
           "xaxis": "x",
           "y": [
            "Great Lakes"
           ],
           "yaxis": "y"
          },
          {
           "alignmentgroup": "True",
           "customdata": [
            [
             "59.2M"
            ]
           ],
           "hovertemplate": "Region=%{y}<br>year=2017<br>Total Revenue (USD)=%{x}<extra></extra>",
           "legendgroup": "Houston",
           "marker": {
            "color": "#B6E880",
            "pattern": {
             "shape": ""
            }
           },
           "name": "Houston",
           "offsetgroup": "Houston",
           "orientation": "h",
           "showlegend": true,
           "text": [
            "59.2M"
           ],
           "textposition": "auto",
           "type": "bar",
           "x": [
            59200250.1516
           ],
           "xaxis": "x",
           "y": [
            "Houston"
           ],
           "yaxis": "y"
          },
          {
           "alignmentgroup": "True",
           "customdata": [
            [
             "170.4M"
            ]
           ],
           "hovertemplate": "Region=%{y}<br>year=2017<br>Total Revenue (USD)=%{x}<extra></extra>",
           "legendgroup": "Los Angeles",
           "marker": {
            "color": "#FF97FF",
            "pattern": {
             "shape": ""
            }
           },
           "name": "Los Angeles",
           "offsetgroup": "Los Angeles",
           "orientation": "h",
           "showlegend": true,
           "text": [
            "170.4M"
           ],
           "textposition": "auto",
           "type": "bar",
           "x": [
            170429231.136
           ],
           "xaxis": "x",
           "y": [
            "Los Angeles"
           ],
           "yaxis": "y"
          },
          {
           "alignmentgroup": "True",
           "customdata": [
            [
             "43.7M"
            ]
           ],
           "hovertemplate": "Region=%{y}<br>year=2017<br>Total Revenue (USD)=%{x}<extra></extra>",
           "legendgroup": "Miami/Ft. Lauderdale",
           "marker": {
            "color": "#FECB52",
            "pattern": {
             "shape": ""
            }
           },
           "name": "Miami/Ft. Lauderdale",
           "offsetgroup": "Miami/Ft. Lauderdale",
           "orientation": "h",
           "showlegend": true,
           "text": [
            "43.7M"
           ],
           "textposition": "auto",
           "type": "bar",
           "x": [
            43666129.7654
           ],
           "xaxis": "x",
           "y": [
            "Miami/Ft. Lauderdale"
           ],
           "yaxis": "y"
          },
          {
           "alignmentgroup": "True",
           "customdata": [
            [
             "118.3M"
            ]
           ],
           "hovertemplate": "Region=%{y}<br>year=2017<br>Total Revenue (USD)=%{x}<extra></extra>",
           "legendgroup": "New York",
           "marker": {
            "color": "#636efa",
            "pattern": {
             "shape": ""
            }
           },
           "name": "New York",
           "offsetgroup": "New York",
           "orientation": "h",
           "showlegend": true,
           "text": [
            "118.3M"
           ],
           "textposition": "auto",
           "type": "bar",
           "x": [
            118274654.6834
           ],
           "xaxis": "x",
           "y": [
            "New York"
           ],
           "yaxis": "y"
          },
          {
           "alignmentgroup": "True",
           "customdata": [
            [
             "34.6M"
            ]
           ],
           "hovertemplate": "Region=%{y}<br>year=2017<br>Total Revenue (USD)=%{x}<extra></extra>",
           "legendgroup": "Philadelphia",
           "marker": {
            "color": "#EF553B",
            "pattern": {
             "shape": ""
            }
           },
           "name": "Philadelphia",
           "offsetgroup": "Philadelphia",
           "orientation": "h",
           "showlegend": true,
           "text": [
            "34.6M"
           ],
           "textposition": "auto",
           "type": "bar",
           "x": [
            34577015.0615
           ],
           "xaxis": "x",
           "y": [
            "Philadelphia"
           ],
           "yaxis": "y"
          },
          {
           "alignmentgroup": "True",
           "customdata": [
            [
             "47.2M"
            ]
           ],
           "hovertemplate": "Region=%{y}<br>year=2017<br>Total Revenue (USD)=%{x}<extra></extra>",
           "legendgroup": "Phoenix/Tucson",
           "marker": {
            "color": "#00cc96",
            "pattern": {
             "shape": ""
            }
           },
           "name": "Phoenix/Tucson",
           "offsetgroup": "Phoenix/Tucson",
           "orientation": "h",
           "showlegend": true,
           "text": [
            "47.2M"
           ],
           "textposition": "auto",
           "type": "bar",
           "x": [
            47189729.853
           ],
           "xaxis": "x",
           "y": [
            "Phoenix/Tucson"
           ],
           "yaxis": "y"
          },
          {
           "alignmentgroup": "True",
           "customdata": [
            [
             "128.5M"
            ]
           ],
           "hovertemplate": "Region=%{y}<br>year=2017<br>Total Revenue (USD)=%{x}<extra></extra>",
           "legendgroup": "Plains",
           "marker": {
            "color": "#ab63fa",
            "pattern": {
             "shape": ""
            }
           },
           "name": "Plains",
           "offsetgroup": "Plains",
           "orientation": "h",
           "showlegend": true,
           "text": [
            "128.5M"
           ],
           "textposition": "auto",
           "type": "bar",
           "x": [
            128523735.9944
           ],
           "xaxis": "x",
           "y": [
            "Plains"
           ],
           "yaxis": "y"
          },
          {
           "alignmentgroup": "True",
           "customdata": [
            [
             "39.8M"
            ]
           ],
           "hovertemplate": "Region=%{y}<br>year=2017<br>Total Revenue (USD)=%{x}<extra></extra>",
           "legendgroup": "Portland",
           "marker": {
            "color": "#FFA15A",
            "pattern": {
             "shape": ""
            }
           },
           "name": "Portland",
           "offsetgroup": "Portland",
           "orientation": "h",
           "showlegend": true,
           "text": [
            "39.8M"
           ],
           "textposition": "auto",
           "type": "bar",
           "x": [
            39812193.3039
           ],
           "xaxis": "x",
           "y": [
            "Portland"
           ],
           "yaxis": "y"
          },
          {
           "alignmentgroup": "True",
           "customdata": [
            [
             "32.7M"
            ]
           ],
           "hovertemplate": "Region=%{y}<br>year=2017<br>Total Revenue (USD)=%{x}<extra></extra>",
           "legendgroup": "Sacramento",
           "marker": {
            "color": "#19d3f3",
            "pattern": {
             "shape": ""
            }
           },
           "name": "Sacramento",
           "offsetgroup": "Sacramento",
           "orientation": "h",
           "showlegend": true,
           "text": [
            "32.7M"
           ],
           "textposition": "auto",
           "type": "bar",
           "x": [
            32733447.833300002
           ],
           "xaxis": "x",
           "y": [
            "Sacramento"
           ],
           "yaxis": "y"
          },
          {
           "alignmentgroup": "True",
           "customdata": [
            [
             "32.0M"
            ]
           ],
           "hovertemplate": "Region=%{y}<br>year=2017<br>Total Revenue (USD)=%{x}<extra></extra>",
           "legendgroup": "San Diego",
           "marker": {
            "color": "#FF6692",
            "pattern": {
             "shape": ""
            }
           },
           "name": "San Diego",
           "offsetgroup": "San Diego",
           "orientation": "h",
           "showlegend": true,
           "text": [
            "32.0M"
           ],
           "textposition": "auto",
           "type": "bar",
           "x": [
            32011123.3259
           ],
           "xaxis": "x",
           "y": [
            "San Diego"
           ],
           "yaxis": "y"
          },
          {
           "alignmentgroup": "True",
           "customdata": [
            [
             "62.4M"
            ]
           ],
           "hovertemplate": "Region=%{y}<br>year=2017<br>Total Revenue (USD)=%{x}<extra></extra>",
           "legendgroup": "San Francisco",
           "marker": {
            "color": "#B6E880",
            "pattern": {
             "shape": ""
            }
           },
           "name": "San Francisco",
           "offsetgroup": "San Francisco",
           "orientation": "h",
           "showlegend": true,
           "text": [
            "62.4M"
           ],
           "textposition": "auto",
           "type": "bar",
           "x": [
            62400703.8446
           ],
           "xaxis": "x",
           "y": [
            "San Francisco"
           ],
           "yaxis": "y"
          },
          {
           "alignmentgroup": "True",
           "customdata": [
            [
             "43.3M"
            ]
           ],
           "hovertemplate": "Region=%{y}<br>year=2017<br>Total Revenue (USD)=%{x}<extra></extra>",
           "legendgroup": "Seattle",
           "marker": {
            "color": "#FF97FF",
            "pattern": {
             "shape": ""
            }
           },
           "name": "Seattle",
           "offsetgroup": "Seattle",
           "orientation": "h",
           "showlegend": true,
           "text": [
            "43.3M"
           ],
           "textposition": "auto",
           "type": "bar",
           "x": [
            43265376.6098
           ],
           "xaxis": "x",
           "y": [
            "Seattle"
           ],
           "yaxis": "y"
          },
          {
           "alignmentgroup": "True",
           "customdata": [
            [
             "42.2M"
            ]
           ],
           "hovertemplate": "Region=%{y}<br>year=2017<br>Total Revenue (USD)=%{x}<extra></extra>",
           "legendgroup": "West Tex/New Mexico",
           "marker": {
            "color": "#FECB52",
            "pattern": {
             "shape": ""
            }
           },
           "name": "West Tex/New Mexico",
           "offsetgroup": "West Tex/New Mexico",
           "orientation": "h",
           "showlegend": true,
           "text": [
            "42.2M"
           ],
           "textposition": "auto",
           "type": "bar",
           "x": [
            42162256.5983
           ],
           "xaxis": "x",
           "y": [
            "West Tex/New Mexico"
           ],
           "yaxis": "y"
          }
         ],
         "name": "2017"
        },
        {
         "data": [
          {
           "alignmentgroup": "True",
           "customdata": [
            [
             "34.8M"
            ]
           ],
           "hovertemplate": "Region=%{y}<br>year=2018<br>Total Revenue (USD)=%{x}<extra></extra>",
           "legendgroup": "Atlanta",
           "marker": {
            "color": "#636efa",
            "pattern": {
             "shape": ""
            }
           },
           "name": "Atlanta",
           "offsetgroup": "Atlanta",
           "orientation": "h",
           "showlegend": true,
           "text": [
            "34.8M"
           ],
           "textposition": "auto",
           "type": "bar",
           "x": [
            34784441.8175
           ],
           "xaxis": "x",
           "y": [
            "Atlanta"
           ],
           "yaxis": "y"
          },
          {
           "alignmentgroup": "True",
           "customdata": [
            [
             "62.4M"
            ]
           ],
           "hovertemplate": "Region=%{y}<br>year=2018<br>Total Revenue (USD)=%{x}<extra></extra>",
           "legendgroup": "Baltimore/Washington",
           "marker": {
            "color": "#EF553B",
            "pattern": {
             "shape": ""
            }
           },
           "name": "Baltimore/Washington",
           "offsetgroup": "Baltimore/Washington",
           "orientation": "h",
           "showlegend": true,
           "text": [
            "62.4M"
           ],
           "textposition": "auto",
           "type": "bar",
           "x": [
            62389843.8793
           ],
           "xaxis": "x",
           "y": [
            "Baltimore/Washington"
           ],
           "yaxis": "y"
          },
          {
           "alignmentgroup": "True",
           "customdata": [
            [
             "47.6M"
            ]
           ],
           "hovertemplate": "Region=%{y}<br>year=2018<br>Total Revenue (USD)=%{x}<extra></extra>",
           "legendgroup": "Boston",
           "marker": {
            "color": "#00cc96",
            "pattern": {
             "shape": ""
            }
           },
           "name": "Boston",
           "offsetgroup": "Boston",
           "orientation": "h",
           "showlegend": true,
           "text": [
            "47.6M"
           ],
           "textposition": "auto",
           "type": "bar",
           "x": [
            47598542.1494
           ],
           "xaxis": "x",
           "y": [
            "Boston"
           ],
           "yaxis": "y"
          },
          {
           "alignmentgroup": "True",
           "customdata": [
            [
             "57.9M"
            ]
           ],
           "hovertemplate": "Region=%{y}<br>year=2018<br>Total Revenue (USD)=%{x}<extra></extra>",
           "legendgroup": "Chicago",
           "marker": {
            "color": "#ab63fa",
            "pattern": {
             "shape": ""
            }
           },
           "name": "Chicago",
           "offsetgroup": "Chicago",
           "orientation": "h",
           "showlegend": true,
           "text": [
            "57.9M"
           ],
           "textposition": "auto",
           "type": "bar",
           "x": [
            57915825.5095
           ],
           "xaxis": "x",
           "y": [
            "Chicago"
           ],
           "yaxis": "y"
          },
          {
           "alignmentgroup": "True",
           "customdata": [
            [
             "60.0M"
            ]
           ],
           "hovertemplate": "Region=%{y}<br>year=2018<br>Total Revenue (USD)=%{x}<extra></extra>",
           "legendgroup": "Dallas/Ft. Worth",
           "marker": {
            "color": "#FFA15A",
            "pattern": {
             "shape": ""
            }
           },
           "name": "Dallas/Ft. Worth",
           "offsetgroup": "Dallas/Ft. Worth",
           "orientation": "h",
           "showlegend": true,
           "text": [
            "60.0M"
           ],
           "textposition": "auto",
           "type": "bar",
           "x": [
            60035638.7688
           ],
           "xaxis": "x",
           "y": [
            "Dallas/Ft. Worth"
           ],
           "yaxis": "y"
          },
          {
           "alignmentgroup": "True",
           "customdata": [
            [
             "51.1M"
            ]
           ],
           "hovertemplate": "Region=%{y}<br>year=2018<br>Total Revenue (USD)=%{x}<extra></extra>",
           "legendgroup": "Denver",
           "marker": {
            "color": "#19d3f3",
            "pattern": {
             "shape": ""
            }
           },
           "name": "Denver",
           "offsetgroup": "Denver",
           "orientation": "h",
           "showlegend": true,
           "text": [
            "51.1M"
           ],
           "textposition": "auto",
           "type": "bar",
           "x": [
            51070094.3265
           ],
           "xaxis": "x",
           "y": [
            "Denver"
           ],
           "yaxis": "y"
          },
          {
           "alignmentgroup": "True",
           "customdata": [
            [
             "241.4M"
            ]
           ],
           "hovertemplate": "Region=%{y}<br>year=2018<br>Total Revenue (USD)=%{x}<extra></extra>",
           "legendgroup": "Great Lakes",
           "marker": {
            "color": "#FF6692",
            "pattern": {
             "shape": ""
            }
           },
           "name": "Great Lakes",
           "offsetgroup": "Great Lakes",
           "orientation": "h",
           "showlegend": true,
           "text": [
            "241.4M"
           ],
           "textposition": "auto",
           "type": "bar",
           "x": [
            241372270.3575
           ],
           "xaxis": "x",
           "y": [
            "Great Lakes"
           ],
           "yaxis": "y"
          },
          {
           "alignmentgroup": "True",
           "customdata": [
            [
             "58.9M"
            ]
           ],
           "hovertemplate": "Region=%{y}<br>year=2018<br>Total Revenue (USD)=%{x}<extra></extra>",
           "legendgroup": "Houston",
           "marker": {
            "color": "#B6E880",
            "pattern": {
             "shape": ""
            }
           },
           "name": "Houston",
           "offsetgroup": "Houston",
           "orientation": "h",
           "showlegend": true,
           "text": [
            "58.9M"
           ],
           "textposition": "auto",
           "type": "bar",
           "x": [
            58890564.4951
           ],
           "xaxis": "x",
           "y": [
            "Houston"
           ],
           "yaxis": "y"
          },
          {
           "alignmentgroup": "True",
           "customdata": [
            [
             "162.1M"
            ]
           ],
           "hovertemplate": "Region=%{y}<br>year=2018<br>Total Revenue (USD)=%{x}<extra></extra>",
           "legendgroup": "Los Angeles",
           "marker": {
            "color": "#FF97FF",
            "pattern": {
             "shape": ""
            }
           },
           "name": "Los Angeles",
           "offsetgroup": "Los Angeles",
           "orientation": "h",
           "showlegend": true,
           "text": [
            "162.1M"
           ],
           "textposition": "auto",
           "type": "bar",
           "x": [
            162087354.4521
           ],
           "xaxis": "x",
           "y": [
            "Los Angeles"
           ],
           "yaxis": "y"
          },
          {
           "alignmentgroup": "True",
           "customdata": [
            [
             "48.2M"
            ]
           ],
           "hovertemplate": "Region=%{y}<br>year=2018<br>Total Revenue (USD)=%{x}<extra></extra>",
           "legendgroup": "Miami/Ft. Lauderdale",
           "marker": {
            "color": "#FECB52",
            "pattern": {
             "shape": ""
            }
           },
           "name": "Miami/Ft. Lauderdale",
           "offsetgroup": "Miami/Ft. Lauderdale",
           "orientation": "h",
           "showlegend": true,
           "text": [
            "48.2M"
           ],
           "textposition": "auto",
           "type": "bar",
           "x": [
            48232506.1694
           ],
           "xaxis": "x",
           "y": [
            "Miami/Ft. Lauderdale"
           ],
           "yaxis": "y"
          },
          {
           "alignmentgroup": "True",
           "customdata": [
            [
             "128.4M"
            ]
           ],
           "hovertemplate": "Region=%{y}<br>year=2018<br>Total Revenue (USD)=%{x}<extra></extra>",
           "legendgroup": "New York",
           "marker": {
            "color": "#636efa",
            "pattern": {
             "shape": ""
            }
           },
           "name": "New York",
           "offsetgroup": "New York",
           "orientation": "h",
           "showlegend": true,
           "text": [
            "128.4M"
           ],
           "textposition": "auto",
           "type": "bar",
           "x": [
            128388785.4729
           ],
           "xaxis": "x",
           "y": [
            "New York"
           ],
           "yaxis": "y"
          },
          {
           "alignmentgroup": "True",
           "customdata": [
            [
             "34.9M"
            ]
           ],
           "hovertemplate": "Region=%{y}<br>year=2018<br>Total Revenue (USD)=%{x}<extra></extra>",
           "legendgroup": "Philadelphia",
           "marker": {
            "color": "#EF553B",
            "pattern": {
             "shape": ""
            }
           },
           "name": "Philadelphia",
           "offsetgroup": "Philadelphia",
           "orientation": "h",
           "showlegend": true,
           "text": [
            "34.9M"
           ],
           "textposition": "auto",
           "type": "bar",
           "x": [
            34864784.180700004
           ],
           "xaxis": "x",
           "y": [
            "Philadelphia"
           ],
           "yaxis": "y"
          },
          {
           "alignmentgroup": "True",
           "customdata": [
            [
             "49.7M"
            ]
           ],
           "hovertemplate": "Region=%{y}<br>year=2018<br>Total Revenue (USD)=%{x}<extra></extra>",
           "legendgroup": "Phoenix/Tucson",
           "marker": {
            "color": "#00cc96",
            "pattern": {
             "shape": ""
            }
           },
           "name": "Phoenix/Tucson",
           "offsetgroup": "Phoenix/Tucson",
           "orientation": "h",
           "showlegend": true,
           "text": [
            "49.7M"
           ],
           "textposition": "auto",
           "type": "bar",
           "x": [
            49721415.5305
           ],
           "xaxis": "x",
           "y": [
            "Phoenix/Tucson"
           ],
           "yaxis": "y"
          },
          {
           "alignmentgroup": "True",
           "customdata": [
            [
             "122.9M"
            ]
           ],
           "hovertemplate": "Region=%{y}<br>year=2018<br>Total Revenue (USD)=%{x}<extra></extra>",
           "legendgroup": "Plains",
           "marker": {
            "color": "#ab63fa",
            "pattern": {
             "shape": ""
            }
           },
           "name": "Plains",
           "offsetgroup": "Plains",
           "orientation": "h",
           "showlegend": true,
           "text": [
            "122.9M"
           ],
           "textposition": "auto",
           "type": "bar",
           "x": [
            122948445.97140001
           ],
           "xaxis": "x",
           "y": [
            "Plains"
           ],
           "yaxis": "y"
          },
          {
           "alignmentgroup": "True",
           "customdata": [
            [
             "39.3M"
            ]
           ],
           "hovertemplate": "Region=%{y}<br>year=2018<br>Total Revenue (USD)=%{x}<extra></extra>",
           "legendgroup": "Portland",
           "marker": {
            "color": "#FFA15A",
            "pattern": {
             "shape": ""
            }
           },
           "name": "Portland",
           "offsetgroup": "Portland",
           "orientation": "h",
           "showlegend": true,
           "text": [
            "39.3M"
           ],
           "textposition": "auto",
           "type": "bar",
           "x": [
            39335338.3392
           ],
           "xaxis": "x",
           "y": [
            "Portland"
           ],
           "yaxis": "y"
          },
          {
           "alignmentgroup": "True",
           "customdata": [
            [
             "32.8M"
            ]
           ],
           "hovertemplate": "Region=%{y}<br>year=2018<br>Total Revenue (USD)=%{x}<extra></extra>",
           "legendgroup": "Sacramento",
           "marker": {
            "color": "#19d3f3",
            "pattern": {
             "shape": ""
            }
           },
           "name": "Sacramento",
           "offsetgroup": "Sacramento",
           "orientation": "h",
           "showlegend": true,
           "text": [
            "32.8M"
           ],
           "textposition": "auto",
           "type": "bar",
           "x": [
            32751704.9724
           ],
           "xaxis": "x",
           "y": [
            "Sacramento"
           ],
           "yaxis": "y"
          },
          {
           "alignmentgroup": "True",
           "customdata": [
            [
             "30.6M"
            ]
           ],
           "hovertemplate": "Region=%{y}<br>year=2018<br>Total Revenue (USD)=%{x}<extra></extra>",
           "legendgroup": "San Diego",
           "marker": {
            "color": "#FF6692",
            "pattern": {
             "shape": ""
            }
           },
           "name": "San Diego",
           "offsetgroup": "San Diego",
           "orientation": "h",
           "showlegend": true,
           "text": [
            "30.6M"
           ],
           "textposition": "auto",
           "type": "bar",
           "x": [
            30603652.04
           ],
           "xaxis": "x",
           "y": [
            "San Diego"
           ],
           "yaxis": "y"
          },
          {
           "alignmentgroup": "True",
           "customdata": [
            [
             "62.8M"
            ]
           ],
           "hovertemplate": "Region=%{y}<br>year=2018<br>Total Revenue (USD)=%{x}<extra></extra>",
           "legendgroup": "San Francisco",
           "marker": {
            "color": "#B6E880",
            "pattern": {
             "shape": ""
            }
           },
           "name": "San Francisco",
           "offsetgroup": "San Francisco",
           "orientation": "h",
           "showlegend": true,
           "text": [
            "62.8M"
           ],
           "textposition": "auto",
           "type": "bar",
           "x": [
            62804480.327
           ],
           "xaxis": "x",
           "y": [
            "San Francisco"
           ],
           "yaxis": "y"
          },
          {
           "alignmentgroup": "True",
           "customdata": [
            [
             "43.8M"
            ]
           ],
           "hovertemplate": "Region=%{y}<br>year=2018<br>Total Revenue (USD)=%{x}<extra></extra>",
           "legendgroup": "Seattle",
           "marker": {
            "color": "#FF97FF",
            "pattern": {
             "shape": ""
            }
           },
           "name": "Seattle",
           "offsetgroup": "Seattle",
           "orientation": "h",
           "showlegend": true,
           "text": [
            "43.8M"
           ],
           "textposition": "auto",
           "type": "bar",
           "x": [
            43785217.9302
           ],
           "xaxis": "x",
           "y": [
            "Seattle"
           ],
           "yaxis": "y"
          },
          {
           "alignmentgroup": "True",
           "customdata": [
            [
             "40.0M"
            ]
           ],
           "hovertemplate": "Region=%{y}<br>year=2018<br>Total Revenue (USD)=%{x}<extra></extra>",
           "legendgroup": "West Tex/New Mexico",
           "marker": {
            "color": "#FECB52",
            "pattern": {
             "shape": ""
            }
           },
           "name": "West Tex/New Mexico",
           "offsetgroup": "West Tex/New Mexico",
           "orientation": "h",
           "showlegend": true,
           "text": [
            "40.0M"
           ],
           "textposition": "auto",
           "type": "bar",
           "x": [
            40023001.5293
           ],
           "xaxis": "x",
           "y": [
            "West Tex/New Mexico"
           ],
           "yaxis": "y"
          }
         ],
         "name": "2018"
        },
        {
         "data": [
          {
           "alignmentgroup": "True",
           "customdata": [
            [
             "41.6M"
            ]
           ],
           "hovertemplate": "Region=%{y}<br>year=2019<br>Total Revenue (USD)=%{x}<extra></extra>",
           "legendgroup": "Atlanta",
           "marker": {
            "color": "#636efa",
            "pattern": {
             "shape": ""
            }
           },
           "name": "Atlanta",
           "offsetgroup": "Atlanta",
           "orientation": "h",
           "showlegend": true,
           "text": [
            "41.6M"
           ],
           "textposition": "auto",
           "type": "bar",
           "x": [
            41622094.5524
           ],
           "xaxis": "x",
           "y": [
            "Atlanta"
           ],
           "yaxis": "y"
          },
          {
           "alignmentgroup": "True",
           "customdata": [
            [
             "68.0M"
            ]
           ],
           "hovertemplate": "Region=%{y}<br>year=2019<br>Total Revenue (USD)=%{x}<extra></extra>",
           "legendgroup": "Baltimore/Washington",
           "marker": {
            "color": "#EF553B",
            "pattern": {
             "shape": ""
            }
           },
           "name": "Baltimore/Washington",
           "offsetgroup": "Baltimore/Washington",
           "orientation": "h",
           "showlegend": true,
           "text": [
            "68.0M"
           ],
           "textposition": "auto",
           "type": "bar",
           "x": [
            67981487.2669
           ],
           "xaxis": "x",
           "y": [
            "Baltimore/Washington"
           ],
           "yaxis": "y"
          },
          {
           "alignmentgroup": "True",
           "customdata": [
            [
             "52.1M"
            ]
           ],
           "hovertemplate": "Region=%{y}<br>year=2019<br>Total Revenue (USD)=%{x}<extra></extra>",
           "legendgroup": "Boston",
           "marker": {
            "color": "#00cc96",
            "pattern": {
             "shape": ""
            }
           },
           "name": "Boston",
           "offsetgroup": "Boston",
           "orientation": "h",
           "showlegend": true,
           "text": [
            "52.1M"
           ],
           "textposition": "auto",
           "type": "bar",
           "x": [
            52108950.4024
           ],
           "xaxis": "x",
           "y": [
            "Boston"
           ],
           "yaxis": "y"
          },
          {
           "alignmentgroup": "True",
           "customdata": [
            [
             "53.7M"
            ]
           ],
           "hovertemplate": "Region=%{y}<br>year=2019<br>Total Revenue (USD)=%{x}<extra></extra>",
           "legendgroup": "Chicago",
           "marker": {
            "color": "#ab63fa",
            "pattern": {
             "shape": ""
            }
           },
           "name": "Chicago",
           "offsetgroup": "Chicago",
           "orientation": "h",
           "showlegend": true,
           "text": [
            "53.7M"
           ],
           "textposition": "auto",
           "type": "bar",
           "x": [
            53728663.7029
           ],
           "xaxis": "x",
           "y": [
            "Chicago"
           ],
           "yaxis": "y"
          },
          {
           "alignmentgroup": "True",
           "customdata": [
            [
             "70.3M"
            ]
           ],
           "hovertemplate": "Region=%{y}<br>year=2019<br>Total Revenue (USD)=%{x}<extra></extra>",
           "legendgroup": "Dallas/Ft. Worth",
           "marker": {
            "color": "#FFA15A",
            "pattern": {
             "shape": ""
            }
           },
           "name": "Dallas/Ft. Worth",
           "offsetgroup": "Dallas/Ft. Worth",
           "orientation": "h",
           "showlegend": true,
           "text": [
            "70.3M"
           ],
           "textposition": "auto",
           "type": "bar",
           "x": [
            70334317.9085
           ],
           "xaxis": "x",
           "y": [
            "Dallas/Ft. Worth"
           ],
           "yaxis": "y"
          },
          {
           "alignmentgroup": "True",
           "customdata": [
            [
             "57.4M"
            ]
           ],
           "hovertemplate": "Region=%{y}<br>year=2019<br>Total Revenue (USD)=%{x}<extra></extra>",
           "legendgroup": "Denver",
           "marker": {
            "color": "#19d3f3",
            "pattern": {
             "shape": ""
            }
           },
           "name": "Denver",
           "offsetgroup": "Denver",
           "orientation": "h",
           "showlegend": true,
           "text": [
            "57.4M"
           ],
           "textposition": "auto",
           "type": "bar",
           "x": [
            57426319.4152
           ],
           "xaxis": "x",
           "y": [
            "Denver"
           ],
           "yaxis": "y"
          },
          {
           "alignmentgroup": "True",
           "customdata": [
            [
             "252.5M"
            ]
           ],
           "hovertemplate": "Region=%{y}<br>year=2019<br>Total Revenue (USD)=%{x}<extra></extra>",
           "legendgroup": "Great Lakes",
           "marker": {
            "color": "#FF6692",
            "pattern": {
             "shape": ""
            }
           },
           "name": "Great Lakes",
           "offsetgroup": "Great Lakes",
           "orientation": "h",
           "showlegend": true,
           "text": [
            "252.5M"
           ],
           "textposition": "auto",
           "type": "bar",
           "x": [
            252475181.2858
           ],
           "xaxis": "x",
           "y": [
            "Great Lakes"
           ],
           "yaxis": "y"
          },
          {
           "alignmentgroup": "True",
           "customdata": [
            [
             "63.4M"
            ]
           ],
           "hovertemplate": "Region=%{y}<br>year=2019<br>Total Revenue (USD)=%{x}<extra></extra>",
           "legendgroup": "Houston",
           "marker": {
            "color": "#B6E880",
            "pattern": {
             "shape": ""
            }
           },
           "name": "Houston",
           "offsetgroup": "Houston",
           "orientation": "h",
           "showlegend": true,
           "text": [
            "63.4M"
           ],
           "textposition": "auto",
           "type": "bar",
           "x": [
            63373026.7386
           ],
           "xaxis": "x",
           "y": [
            "Houston"
           ],
           "yaxis": "y"
          },
          {
           "alignmentgroup": "True",
           "customdata": [
            [
             "191.2M"
            ]
           ],
           "hovertemplate": "Region=%{y}<br>year=2019<br>Total Revenue (USD)=%{x}<extra></extra>",
           "legendgroup": "Los Angeles",
           "marker": {
            "color": "#FF97FF",
            "pattern": {
             "shape": ""
            }
           },
           "name": "Los Angeles",
           "offsetgroup": "Los Angeles",
           "orientation": "h",
           "showlegend": true,
           "text": [
            "191.2M"
           ],
           "textposition": "auto",
           "type": "bar",
           "x": [
            191241186.6976
           ],
           "xaxis": "x",
           "y": [
            "Los Angeles"
           ],
           "yaxis": "y"
          },
          {
           "alignmentgroup": "True",
           "customdata": [
            [
             "57.1M"
            ]
           ],
           "hovertemplate": "Region=%{y}<br>year=2019<br>Total Revenue (USD)=%{x}<extra></extra>",
           "legendgroup": "Miami/Ft. Lauderdale",
           "marker": {
            "color": "#FECB52",
            "pattern": {
             "shape": ""
            }
           },
           "name": "Miami/Ft. Lauderdale",
           "offsetgroup": "Miami/Ft. Lauderdale",
           "orientation": "h",
           "showlegend": true,
           "text": [
            "57.1M"
           ],
           "textposition": "auto",
           "type": "bar",
           "x": [
            57145144.8921
           ],
           "xaxis": "x",
           "y": [
            "Miami/Ft. Lauderdale"
           ],
           "yaxis": "y"
          },
          {
           "alignmentgroup": "True",
           "customdata": [
            [
             "140.5M"
            ]
           ],
           "hovertemplate": "Region=%{y}<br>year=2019<br>Total Revenue (USD)=%{x}<extra></extra>",
           "legendgroup": "New York",
           "marker": {
            "color": "#636efa",
            "pattern": {
             "shape": ""
            }
           },
           "name": "New York",
           "offsetgroup": "New York",
           "orientation": "h",
           "showlegend": true,
           "text": [
            "140.5M"
           ],
           "textposition": "auto",
           "type": "bar",
           "x": [
            140459748.5862
           ],
           "xaxis": "x",
           "y": [
            "New York"
           ],
           "yaxis": "y"
          },
          {
           "alignmentgroup": "True",
           "customdata": [
            [
             "38.3M"
            ]
           ],
           "hovertemplate": "Region=%{y}<br>year=2019<br>Total Revenue (USD)=%{x}<extra></extra>",
           "legendgroup": "Philadelphia",
           "marker": {
            "color": "#EF553B",
            "pattern": {
             "shape": ""
            }
           },
           "name": "Philadelphia",
           "offsetgroup": "Philadelphia",
           "orientation": "h",
           "showlegend": true,
           "text": [
            "38.3M"
           ],
           "textposition": "auto",
           "type": "bar",
           "x": [
            38338799.3791
           ],
           "xaxis": "x",
           "y": [
            "Philadelphia"
           ],
           "yaxis": "y"
          },
          {
           "alignmentgroup": "True",
           "customdata": [
            [
             "60.2M"
            ]
           ],
           "hovertemplate": "Region=%{y}<br>year=2019<br>Total Revenue (USD)=%{x}<extra></extra>",
           "legendgroup": "Phoenix/Tucson",
           "marker": {
            "color": "#00cc96",
            "pattern": {
             "shape": ""
            }
           },
           "name": "Phoenix/Tucson",
           "offsetgroup": "Phoenix/Tucson",
           "orientation": "h",
           "showlegend": true,
           "text": [
            "60.2M"
           ],
           "textposition": "auto",
           "type": "bar",
           "x": [
            60187164.5794
           ],
           "xaxis": "x",
           "y": [
            "Phoenix/Tucson"
           ],
           "yaxis": "y"
          },
          {
           "alignmentgroup": "True",
           "customdata": [
            [
             "131.4M"
            ]
           ],
           "hovertemplate": "Region=%{y}<br>year=2019<br>Total Revenue (USD)=%{x}<extra></extra>",
           "legendgroup": "Plains",
           "marker": {
            "color": "#ab63fa",
            "pattern": {
             "shape": ""
            }
           },
           "name": "Plains",
           "offsetgroup": "Plains",
           "orientation": "h",
           "showlegend": true,
           "text": [
            "131.4M"
           ],
           "textposition": "auto",
           "type": "bar",
           "x": [
            131353156.7723
           ],
           "xaxis": "x",
           "y": [
            "Plains"
           ],
           "yaxis": "y"
          },
          {
           "alignmentgroup": "True",
           "customdata": [
            [
             "45.6M"
            ]
           ],
           "hovertemplate": "Region=%{y}<br>year=2019<br>Total Revenue (USD)=%{x}<extra></extra>",
           "legendgroup": "Portland",
           "marker": {
            "color": "#FFA15A",
            "pattern": {
             "shape": ""
            }
           },
           "name": "Portland",
           "offsetgroup": "Portland",
           "orientation": "h",
           "showlegend": true,
           "text": [
            "45.6M"
           ],
           "textposition": "auto",
           "type": "bar",
           "x": [
            45594251.063599996
           ],
           "xaxis": "x",
           "y": [
            "Portland"
           ],
           "yaxis": "y"
          },
          {
           "alignmentgroup": "True",
           "customdata": [
            [
             "36.3M"
            ]
           ],
           "hovertemplate": "Region=%{y}<br>year=2019<br>Total Revenue (USD)=%{x}<extra></extra>",
           "legendgroup": "Sacramento",
           "marker": {
            "color": "#19d3f3",
            "pattern": {
             "shape": ""
            }
           },
           "name": "Sacramento",
           "offsetgroup": "Sacramento",
           "orientation": "h",
           "showlegend": true,
           "text": [
            "36.3M"
           ],
           "textposition": "auto",
           "type": "bar",
           "x": [
            36308363.6825
           ],
           "xaxis": "x",
           "y": [
            "Sacramento"
           ],
           "yaxis": "y"
          },
          {
           "alignmentgroup": "True",
           "customdata": [
            [
             "36.5M"
            ]
           ],
           "hovertemplate": "Region=%{y}<br>year=2019<br>Total Revenue (USD)=%{x}<extra></extra>",
           "legendgroup": "San Diego",
           "marker": {
            "color": "#FF6692",
            "pattern": {
             "shape": ""
            }
           },
           "name": "San Diego",
           "offsetgroup": "San Diego",
           "orientation": "h",
           "showlegend": true,
           "text": [
            "36.5M"
           ],
           "textposition": "auto",
           "type": "bar",
           "x": [
            36487085.0479
           ],
           "xaxis": "x",
           "y": [
            "San Diego"
           ],
           "yaxis": "y"
          },
          {
           "alignmentgroup": "True",
           "customdata": [
            [
             "72.4M"
            ]
           ],
           "hovertemplate": "Region=%{y}<br>year=2019<br>Total Revenue (USD)=%{x}<extra></extra>",
           "legendgroup": "San Francisco",
           "marker": {
            "color": "#B6E880",
            "pattern": {
             "shape": ""
            }
           },
           "name": "San Francisco",
           "offsetgroup": "San Francisco",
           "orientation": "h",
           "showlegend": true,
           "text": [
            "72.4M"
           ],
           "textposition": "auto",
           "type": "bar",
           "x": [
            72404952.0786
           ],
           "xaxis": "x",
           "y": [
            "San Francisco"
           ],
           "yaxis": "y"
          },
          {
           "alignmentgroup": "True",
           "customdata": [
            [
             "50.1M"
            ]
           ],
           "hovertemplate": "Region=%{y}<br>year=2019<br>Total Revenue (USD)=%{x}<extra></extra>",
           "legendgroup": "Seattle",
           "marker": {
            "color": "#FF97FF",
            "pattern": {
             "shape": ""
            }
           },
           "name": "Seattle",
           "offsetgroup": "Seattle",
           "orientation": "h",
           "showlegend": true,
           "text": [
            "50.1M"
           ],
           "textposition": "auto",
           "type": "bar",
           "x": [
            50104807.0951
           ],
           "xaxis": "x",
           "y": [
            "Seattle"
           ],
           "yaxis": "y"
          },
          {
           "alignmentgroup": "True",
           "customdata": [
            [
             "46.5M"
            ]
           ],
           "hovertemplate": "Region=%{y}<br>year=2019<br>Total Revenue (USD)=%{x}<extra></extra>",
           "legendgroup": "West Tex/New Mexico",
           "marker": {
            "color": "#FECB52",
            "pattern": {
             "shape": ""
            }
           },
           "name": "West Tex/New Mexico",
           "offsetgroup": "West Tex/New Mexico",
           "orientation": "h",
           "showlegend": true,
           "text": [
            "46.5M"
           ],
           "textposition": "auto",
           "type": "bar",
           "x": [
            46504504.2133
           ],
           "xaxis": "x",
           "y": [
            "West Tex/New Mexico"
           ],
           "yaxis": "y"
          }
         ],
         "name": "2019"
        },
        {
         "data": [
          {
           "alignmentgroup": "True",
           "customdata": [
            [
             "42.0M"
            ]
           ],
           "hovertemplate": "Region=%{y}<br>year=2020<br>Total Revenue (USD)=%{x}<extra></extra>",
           "legendgroup": "Atlanta",
           "marker": {
            "color": "#636efa",
            "pattern": {
             "shape": ""
            }
           },
           "name": "Atlanta",
           "offsetgroup": "Atlanta",
           "orientation": "h",
           "showlegend": true,
           "text": [
            "42.0M"
           ],
           "textposition": "auto",
           "type": "bar",
           "x": [
            41977647.6637
           ],
           "xaxis": "x",
           "y": [
            "Atlanta"
           ],
           "yaxis": "y"
          },
          {
           "alignmentgroup": "True",
           "customdata": [
            [
             "70.8M"
            ]
           ],
           "hovertemplate": "Region=%{y}<br>year=2020<br>Total Revenue (USD)=%{x}<extra></extra>",
           "legendgroup": "Baltimore/Washington",
           "marker": {
            "color": "#EF553B",
            "pattern": {
             "shape": ""
            }
           },
           "name": "Baltimore/Washington",
           "offsetgroup": "Baltimore/Washington",
           "orientation": "h",
           "showlegend": true,
           "text": [
            "70.8M"
           ],
           "textposition": "auto",
           "type": "bar",
           "x": [
            70785475.6606
           ],
           "xaxis": "x",
           "y": [
            "Baltimore/Washington"
           ],
           "yaxis": "y"
          },
          {
           "alignmentgroup": "True",
           "customdata": [
            [
             "57.6M"
            ]
           ],
           "hovertemplate": "Region=%{y}<br>year=2020<br>Total Revenue (USD)=%{x}<extra></extra>",
           "legendgroup": "Boston",
           "marker": {
            "color": "#00cc96",
            "pattern": {
             "shape": ""
            }
           },
           "name": "Boston",
           "offsetgroup": "Boston",
           "orientation": "h",
           "showlegend": true,
           "text": [
            "57.6M"
           ],
           "textposition": "auto",
           "type": "bar",
           "x": [
            57562757.1374
           ],
           "xaxis": "x",
           "y": [
            "Boston"
           ],
           "yaxis": "y"
          },
          {
           "alignmentgroup": "True",
           "customdata": [
            [
             "63.7M"
            ]
           ],
           "hovertemplate": "Region=%{y}<br>year=2020<br>Total Revenue (USD)=%{x}<extra></extra>",
           "legendgroup": "Chicago",
           "marker": {
            "color": "#ab63fa",
            "pattern": {
             "shape": ""
            }
           },
           "name": "Chicago",
           "offsetgroup": "Chicago",
           "orientation": "h",
           "showlegend": true,
           "text": [
            "63.7M"
           ],
           "textposition": "auto",
           "type": "bar",
           "x": [
            63726295.1157
           ],
           "xaxis": "x",
           "y": [
            "Chicago"
           ],
           "yaxis": "y"
          },
          {
           "alignmentgroup": "True",
           "customdata": [
            [
             "69.0M"
            ]
           ],
           "hovertemplate": "Region=%{y}<br>year=2020<br>Total Revenue (USD)=%{x}<extra></extra>",
           "legendgroup": "Dallas/Ft. Worth",
           "marker": {
            "color": "#FFA15A",
            "pattern": {
             "shape": ""
            }
           },
           "name": "Dallas/Ft. Worth",
           "offsetgroup": "Dallas/Ft. Worth",
           "orientation": "h",
           "showlegend": true,
           "text": [
            "69.0M"
           ],
           "textposition": "auto",
           "type": "bar",
           "x": [
            69017395.8093
           ],
           "xaxis": "x",
           "y": [
            "Dallas/Ft. Worth"
           ],
           "yaxis": "y"
          },
          {
           "alignmentgroup": "True",
           "customdata": [
            [
             "57.8M"
            ]
           ],
           "hovertemplate": "Region=%{y}<br>year=2020<br>Total Revenue (USD)=%{x}<extra></extra>",
           "legendgroup": "Denver",
           "marker": {
            "color": "#19d3f3",
            "pattern": {
             "shape": ""
            }
           },
           "name": "Denver",
           "offsetgroup": "Denver",
           "orientation": "h",
           "showlegend": true,
           "text": [
            "57.8M"
           ],
           "textposition": "auto",
           "type": "bar",
           "x": [
            57846342.3461
           ],
           "xaxis": "x",
           "y": [
            "Denver"
           ],
           "yaxis": "y"
          },
          {
           "alignmentgroup": "True",
           "customdata": [
            [
             "265.4M"
            ]
           ],
           "hovertemplate": "Region=%{y}<br>year=2020<br>Total Revenue (USD)=%{x}<extra></extra>",
           "legendgroup": "Great Lakes",
           "marker": {
            "color": "#FF6692",
            "pattern": {
             "shape": ""
            }
           },
           "name": "Great Lakes",
           "offsetgroup": "Great Lakes",
           "orientation": "h",
           "showlegend": true,
           "text": [
            "265.4M"
           ],
           "textposition": "auto",
           "type": "bar",
           "x": [
            265404021.9131
           ],
           "xaxis": "x",
           "y": [
            "Great Lakes"
           ],
           "yaxis": "y"
          },
          {
           "alignmentgroup": "True",
           "customdata": [
            [
             "63.1M"
            ]
           ],
           "hovertemplate": "Region=%{y}<br>year=2020<br>Total Revenue (USD)=%{x}<extra></extra>",
           "legendgroup": "Houston",
           "marker": {
            "color": "#B6E880",
            "pattern": {
             "shape": ""
            }
           },
           "name": "Houston",
           "offsetgroup": "Houston",
           "orientation": "h",
           "showlegend": true,
           "text": [
            "63.1M"
           ],
           "textposition": "auto",
           "type": "bar",
           "x": [
            63113175.8884
           ],
           "xaxis": "x",
           "y": [
            "Houston"
           ],
           "yaxis": "y"
          },
          {
           "alignmentgroup": "True",
           "customdata": [
            [
             "199.7M"
            ]
           ],
           "hovertemplate": "Region=%{y}<br>year=2020<br>Total Revenue (USD)=%{x}<extra></extra>",
           "legendgroup": "Los Angeles",
           "marker": {
            "color": "#FF97FF",
            "pattern": {
             "shape": ""
            }
           },
           "name": "Los Angeles",
           "offsetgroup": "Los Angeles",
           "orientation": "h",
           "showlegend": true,
           "text": [
            "199.7M"
           ],
           "textposition": "auto",
           "type": "bar",
           "x": [
            199707780.6704
           ],
           "xaxis": "x",
           "y": [
            "Los Angeles"
           ],
           "yaxis": "y"
          },
          {
           "alignmentgroup": "True",
           "customdata": [
            [
             "54.8M"
            ]
           ],
           "hovertemplate": "Region=%{y}<br>year=2020<br>Total Revenue (USD)=%{x}<extra></extra>",
           "legendgroup": "Miami/Ft. Lauderdale",
           "marker": {
            "color": "#FECB52",
            "pattern": {
             "shape": ""
            }
           },
           "name": "Miami/Ft. Lauderdale",
           "offsetgroup": "Miami/Ft. Lauderdale",
           "orientation": "h",
           "showlegend": true,
           "text": [
            "54.8M"
           ],
           "textposition": "auto",
           "type": "bar",
           "x": [
            54848562.0717
           ],
           "xaxis": "x",
           "y": [
            "Miami/Ft. Lauderdale"
           ],
           "yaxis": "y"
          },
          {
           "alignmentgroup": "True",
           "customdata": [
            [
             "150.0M"
            ]
           ],
           "hovertemplate": "Region=%{y}<br>year=2020<br>Total Revenue (USD)=%{x}<extra></extra>",
           "legendgroup": "New York",
           "marker": {
            "color": "#636efa",
            "pattern": {
             "shape": ""
            }
           },
           "name": "New York",
           "offsetgroup": "New York",
           "orientation": "h",
           "showlegend": true,
           "text": [
            "150.0M"
           ],
           "textposition": "auto",
           "type": "bar",
           "x": [
            149952164.9917
           ],
           "xaxis": "x",
           "y": [
            "New York"
           ],
           "yaxis": "y"
          },
          {
           "alignmentgroup": "True",
           "customdata": [
            [
             "39.9M"
            ]
           ],
           "hovertemplate": "Region=%{y}<br>year=2020<br>Total Revenue (USD)=%{x}<extra></extra>",
           "legendgroup": "Philadelphia",
           "marker": {
            "color": "#EF553B",
            "pattern": {
             "shape": ""
            }
           },
           "name": "Philadelphia",
           "offsetgroup": "Philadelphia",
           "orientation": "h",
           "showlegend": true,
           "text": [
            "39.9M"
           ],
           "textposition": "auto",
           "type": "bar",
           "x": [
            39875857.948
           ],
           "xaxis": "x",
           "y": [
            "Philadelphia"
           ],
           "yaxis": "y"
          },
          {
           "alignmentgroup": "True",
           "customdata": [
            [
             "57.6M"
            ]
           ],
           "hovertemplate": "Region=%{y}<br>year=2020<br>Total Revenue (USD)=%{x}<extra></extra>",
           "legendgroup": "Phoenix/Tucson",
           "marker": {
            "color": "#00cc96",
            "pattern": {
             "shape": ""
            }
           },
           "name": "Phoenix/Tucson",
           "offsetgroup": "Phoenix/Tucson",
           "orientation": "h",
           "showlegend": true,
           "text": [
            "57.6M"
           ],
           "textposition": "auto",
           "type": "bar",
           "x": [
            57572322.3917
           ],
           "xaxis": "x",
           "y": [
            "Phoenix/Tucson"
           ],
           "yaxis": "y"
          },
          {
           "alignmentgroup": "True",
           "customdata": [
            [
             "127.7M"
            ]
           ],
           "hovertemplate": "Region=%{y}<br>year=2020<br>Total Revenue (USD)=%{x}<extra></extra>",
           "legendgroup": "Plains",
           "marker": {
            "color": "#ab63fa",
            "pattern": {
             "shape": ""
            }
           },
           "name": "Plains",
           "offsetgroup": "Plains",
           "orientation": "h",
           "showlegend": true,
           "text": [
            "127.7M"
           ],
           "textposition": "auto",
           "type": "bar",
           "x": [
            127682651.2041
           ],
           "xaxis": "x",
           "y": [
            "Plains"
           ],
           "yaxis": "y"
          },
          {
           "alignmentgroup": "True",
           "customdata": [
            [
             "47.8M"
            ]
           ],
           "hovertemplate": "Region=%{y}<br>year=2020<br>Total Revenue (USD)=%{x}<extra></extra>",
           "legendgroup": "Portland",
           "marker": {
            "color": "#FFA15A",
            "pattern": {
             "shape": ""
            }
           },
           "name": "Portland",
           "offsetgroup": "Portland",
           "orientation": "h",
           "showlegend": true,
           "text": [
            "47.8M"
           ],
           "textposition": "auto",
           "type": "bar",
           "x": [
            47809528.7175
           ],
           "xaxis": "x",
           "y": [
            "Portland"
           ],
           "yaxis": "y"
          },
          {
           "alignmentgroup": "True",
           "customdata": [
            [
             "35.9M"
            ]
           ],
           "hovertemplate": "Region=%{y}<br>year=2020<br>Total Revenue (USD)=%{x}<extra></extra>",
           "legendgroup": "Sacramento",
           "marker": {
            "color": "#19d3f3",
            "pattern": {
             "shape": ""
            }
           },
           "name": "Sacramento",
           "offsetgroup": "Sacramento",
           "orientation": "h",
           "showlegend": true,
           "text": [
            "35.9M"
           ],
           "textposition": "auto",
           "type": "bar",
           "x": [
            35930202.6478
           ],
           "xaxis": "x",
           "y": [
            "Sacramento"
           ],
           "yaxis": "y"
          },
          {
           "alignmentgroup": "True",
           "customdata": [
            [
             "39.3M"
            ]
           ],
           "hovertemplate": "Region=%{y}<br>year=2020<br>Total Revenue (USD)=%{x}<extra></extra>",
           "legendgroup": "San Diego",
           "marker": {
            "color": "#FF6692",
            "pattern": {
             "shape": ""
            }
           },
           "name": "San Diego",
           "offsetgroup": "San Diego",
           "orientation": "h",
           "showlegend": true,
           "text": [
            "39.3M"
           ],
           "textposition": "auto",
           "type": "bar",
           "x": [
            39260461.659
           ],
           "xaxis": "x",
           "y": [
            "San Diego"
           ],
           "yaxis": "y"
          },
          {
           "alignmentgroup": "True",
           "customdata": [
            [
             "73.6M"
            ]
           ],
           "hovertemplate": "Region=%{y}<br>year=2020<br>Total Revenue (USD)=%{x}<extra></extra>",
           "legendgroup": "San Francisco",
           "marker": {
            "color": "#B6E880",
            "pattern": {
             "shape": ""
            }
           },
           "name": "San Francisco",
           "offsetgroup": "San Francisco",
           "orientation": "h",
           "showlegend": true,
           "text": [
            "73.6M"
           ],
           "textposition": "auto",
           "type": "bar",
           "x": [
            73588231.5387
           ],
           "xaxis": "x",
           "y": [
            "San Francisco"
           ],
           "yaxis": "y"
          },
          {
           "alignmentgroup": "True",
           "customdata": [
            [
             "52.1M"
            ]
           ],
           "hovertemplate": "Region=%{y}<br>year=2020<br>Total Revenue (USD)=%{x}<extra></extra>",
           "legendgroup": "Seattle",
           "marker": {
            "color": "#FF97FF",
            "pattern": {
             "shape": ""
            }
           },
           "name": "Seattle",
           "offsetgroup": "Seattle",
           "orientation": "h",
           "showlegend": true,
           "text": [
            "52.1M"
           ],
           "textposition": "auto",
           "type": "bar",
           "x": [
            52068013.0494
           ],
           "xaxis": "x",
           "y": [
            "Seattle"
           ],
           "yaxis": "y"
          },
          {
           "alignmentgroup": "True",
           "customdata": [
            [
             "46.2M"
            ]
           ],
           "hovertemplate": "Region=%{y}<br>year=2020<br>Total Revenue (USD)=%{x}<extra></extra>",
           "legendgroup": "West Tex/New Mexico",
           "marker": {
            "color": "#FECB52",
            "pattern": {
             "shape": ""
            }
           },
           "name": "West Tex/New Mexico",
           "offsetgroup": "West Tex/New Mexico",
           "orientation": "h",
           "showlegend": true,
           "text": [
            "46.2M"
           ],
           "textposition": "auto",
           "type": "bar",
           "x": [
            46174615.1482
           ],
           "xaxis": "x",
           "y": [
            "West Tex/New Mexico"
           ],
           "yaxis": "y"
          }
         ],
         "name": "2020"
        }
       ],
       "layout": {
        "barmode": "relative",
        "height": 700,
        "legend": {
         "title": {
          "text": "Region"
         },
         "tracegroupgap": 0
        },
        "showlegend": false,
        "sliders": [
         {
          "active": 0,
          "currentvalue": {
           "prefix": "year="
          },
          "len": 0.9,
          "pad": {
           "b": 10,
           "t": 60
          },
          "steps": [
           {
            "args": [
             [
              "2015"
             ],
             {
              "frame": {
               "duration": 0,
               "redraw": true
              },
              "fromcurrent": true,
              "mode": "immediate",
              "transition": {
               "duration": 0,
               "easing": "linear"
              }
             }
            ],
            "label": "2015",
            "method": "animate"
           },
           {
            "args": [
             [
              "2016"
             ],
             {
              "frame": {
               "duration": 0,
               "redraw": true
              },
              "fromcurrent": true,
              "mode": "immediate",
              "transition": {
               "duration": 0,
               "easing": "linear"
              }
             }
            ],
            "label": "2016",
            "method": "animate"
           },
           {
            "args": [
             [
              "2017"
             ],
             {
              "frame": {
               "duration": 0,
               "redraw": true
              },
              "fromcurrent": true,
              "mode": "immediate",
              "transition": {
               "duration": 0,
               "easing": "linear"
              }
             }
            ],
            "label": "2017",
            "method": "animate"
           },
           {
            "args": [
             [
              "2018"
             ],
             {
              "frame": {
               "duration": 0,
               "redraw": true
              },
              "fromcurrent": true,
              "mode": "immediate",
              "transition": {
               "duration": 0,
               "easing": "linear"
              }
             }
            ],
            "label": "2018",
            "method": "animate"
           },
           {
            "args": [
             [
              "2019"
             ],
             {
              "frame": {
               "duration": 0,
               "redraw": true
              },
              "fromcurrent": true,
              "mode": "immediate",
              "transition": {
               "duration": 0,
               "easing": "linear"
              }
             }
            ],
            "label": "2019",
            "method": "animate"
           },
           {
            "args": [
             [
              "2020"
             ],
             {
              "frame": {
               "duration": 0,
               "redraw": true
              },
              "fromcurrent": true,
              "mode": "immediate",
              "transition": {
               "duration": 0,
               "easing": "linear"
              }
             }
            ],
            "label": "2020",
            "method": "animate"
           }
          ],
          "x": 0.1,
          "xanchor": "left",
          "y": 0,
          "yanchor": "top"
         }
        ],
        "template": {
         "data": {
          "bar": [
           {
            "error_x": {
             "color": "#2a3f5f"
            },
            "error_y": {
             "color": "#2a3f5f"
            },
            "marker": {
             "line": {
              "color": "white",
              "width": 0.5
             },
             "pattern": {
              "fillmode": "overlay",
              "size": 10,
              "solidity": 0.2
             }
            },
            "type": "bar"
           }
          ],
          "barpolar": [
           {
            "marker": {
             "line": {
              "color": "white",
              "width": 0.5
             },
             "pattern": {
              "fillmode": "overlay",
              "size": 10,
              "solidity": 0.2
             }
            },
            "type": "barpolar"
           }
          ],
          "carpet": [
           {
            "aaxis": {
             "endlinecolor": "#2a3f5f",
             "gridcolor": "#C8D4E3",
             "linecolor": "#C8D4E3",
             "minorgridcolor": "#C8D4E3",
             "startlinecolor": "#2a3f5f"
            },
            "baxis": {
             "endlinecolor": "#2a3f5f",
             "gridcolor": "#C8D4E3",
             "linecolor": "#C8D4E3",
             "minorgridcolor": "#C8D4E3",
             "startlinecolor": "#2a3f5f"
            },
            "type": "carpet"
           }
          ],
          "choropleth": [
           {
            "colorbar": {
             "outlinewidth": 0,
             "ticks": ""
            },
            "type": "choropleth"
           }
          ],
          "contour": [
           {
            "colorbar": {
             "outlinewidth": 0,
             "ticks": ""
            },
            "colorscale": [
             [
              0,
              "#0d0887"
             ],
             [
              0.1111111111111111,
              "#46039f"
             ],
             [
              0.2222222222222222,
              "#7201a8"
             ],
             [
              0.3333333333333333,
              "#9c179e"
             ],
             [
              0.4444444444444444,
              "#bd3786"
             ],
             [
              0.5555555555555556,
              "#d8576b"
             ],
             [
              0.6666666666666666,
              "#ed7953"
             ],
             [
              0.7777777777777778,
              "#fb9f3a"
             ],
             [
              0.8888888888888888,
              "#fdca26"
             ],
             [
              1,
              "#f0f921"
             ]
            ],
            "type": "contour"
           }
          ],
          "contourcarpet": [
           {
            "colorbar": {
             "outlinewidth": 0,
             "ticks": ""
            },
            "type": "contourcarpet"
           }
          ],
          "heatmap": [
           {
            "colorbar": {
             "outlinewidth": 0,
             "ticks": ""
            },
            "colorscale": [
             [
              0,
              "#0d0887"
             ],
             [
              0.1111111111111111,
              "#46039f"
             ],
             [
              0.2222222222222222,
              "#7201a8"
             ],
             [
              0.3333333333333333,
              "#9c179e"
             ],
             [
              0.4444444444444444,
              "#bd3786"
             ],
             [
              0.5555555555555556,
              "#d8576b"
             ],
             [
              0.6666666666666666,
              "#ed7953"
             ],
             [
              0.7777777777777778,
              "#fb9f3a"
             ],
             [
              0.8888888888888888,
              "#fdca26"
             ],
             [
              1,
              "#f0f921"
             ]
            ],
            "type": "heatmap"
           }
          ],
          "heatmapgl": [
           {
            "colorbar": {
             "outlinewidth": 0,
             "ticks": ""
            },
            "colorscale": [
             [
              0,
              "#0d0887"
             ],
             [
              0.1111111111111111,
              "#46039f"
             ],
             [
              0.2222222222222222,
              "#7201a8"
             ],
             [
              0.3333333333333333,
              "#9c179e"
             ],
             [
              0.4444444444444444,
              "#bd3786"
             ],
             [
              0.5555555555555556,
              "#d8576b"
             ],
             [
              0.6666666666666666,
              "#ed7953"
             ],
             [
              0.7777777777777778,
              "#fb9f3a"
             ],
             [
              0.8888888888888888,
              "#fdca26"
             ],
             [
              1,
              "#f0f921"
             ]
            ],
            "type": "heatmapgl"
           }
          ],
          "histogram": [
           {
            "marker": {
             "pattern": {
              "fillmode": "overlay",
              "size": 10,
              "solidity": 0.2
             }
            },
            "type": "histogram"
           }
          ],
          "histogram2d": [
           {
            "colorbar": {
             "outlinewidth": 0,
             "ticks": ""
            },
            "colorscale": [
             [
              0,
              "#0d0887"
             ],
             [
              0.1111111111111111,
              "#46039f"
             ],
             [
              0.2222222222222222,
              "#7201a8"
             ],
             [
              0.3333333333333333,
              "#9c179e"
             ],
             [
              0.4444444444444444,
              "#bd3786"
             ],
             [
              0.5555555555555556,
              "#d8576b"
             ],
             [
              0.6666666666666666,
              "#ed7953"
             ],
             [
              0.7777777777777778,
              "#fb9f3a"
             ],
             [
              0.8888888888888888,
              "#fdca26"
             ],
             [
              1,
              "#f0f921"
             ]
            ],
            "type": "histogram2d"
           }
          ],
          "histogram2dcontour": [
           {
            "colorbar": {
             "outlinewidth": 0,
             "ticks": ""
            },
            "colorscale": [
             [
              0,
              "#0d0887"
             ],
             [
              0.1111111111111111,
              "#46039f"
             ],
             [
              0.2222222222222222,
              "#7201a8"
             ],
             [
              0.3333333333333333,
              "#9c179e"
             ],
             [
              0.4444444444444444,
              "#bd3786"
             ],
             [
              0.5555555555555556,
              "#d8576b"
             ],
             [
              0.6666666666666666,
              "#ed7953"
             ],
             [
              0.7777777777777778,
              "#fb9f3a"
             ],
             [
              0.8888888888888888,
              "#fdca26"
             ],
             [
              1,
              "#f0f921"
             ]
            ],
            "type": "histogram2dcontour"
           }
          ],
          "mesh3d": [
           {
            "colorbar": {
             "outlinewidth": 0,
             "ticks": ""
            },
            "type": "mesh3d"
           }
          ],
          "parcoords": [
           {
            "line": {
             "colorbar": {
              "outlinewidth": 0,
              "ticks": ""
             }
            },
            "type": "parcoords"
           }
          ],
          "pie": [
           {
            "automargin": true,
            "type": "pie"
           }
          ],
          "scatter": [
           {
            "fillpattern": {
             "fillmode": "overlay",
             "size": 10,
             "solidity": 0.2
            },
            "type": "scatter"
           }
          ],
          "scatter3d": [
           {
            "line": {
             "colorbar": {
              "outlinewidth": 0,
              "ticks": ""
             }
            },
            "marker": {
             "colorbar": {
              "outlinewidth": 0,
              "ticks": ""
             }
            },
            "type": "scatter3d"
           }
          ],
          "scattercarpet": [
           {
            "marker": {
             "colorbar": {
              "outlinewidth": 0,
              "ticks": ""
             }
            },
            "type": "scattercarpet"
           }
          ],
          "scattergeo": [
           {
            "marker": {
             "colorbar": {
              "outlinewidth": 0,
              "ticks": ""
             }
            },
            "type": "scattergeo"
           }
          ],
          "scattergl": [
           {
            "marker": {
             "colorbar": {
              "outlinewidth": 0,
              "ticks": ""
             }
            },
            "type": "scattergl"
           }
          ],
          "scattermapbox": [
           {
            "marker": {
             "colorbar": {
              "outlinewidth": 0,
              "ticks": ""
             }
            },
            "type": "scattermapbox"
           }
          ],
          "scatterpolar": [
           {
            "marker": {
             "colorbar": {
              "outlinewidth": 0,
              "ticks": ""
             }
            },
            "type": "scatterpolar"
           }
          ],
          "scatterpolargl": [
           {
            "marker": {
             "colorbar": {
              "outlinewidth": 0,
              "ticks": ""
             }
            },
            "type": "scatterpolargl"
           }
          ],
          "scatterternary": [
           {
            "marker": {
             "colorbar": {
              "outlinewidth": 0,
              "ticks": ""
             }
            },
            "type": "scatterternary"
           }
          ],
          "surface": [
           {
            "colorbar": {
             "outlinewidth": 0,
             "ticks": ""
            },
            "colorscale": [
             [
              0,
              "#0d0887"
             ],
             [
              0.1111111111111111,
              "#46039f"
             ],
             [
              0.2222222222222222,
              "#7201a8"
             ],
             [
              0.3333333333333333,
              "#9c179e"
             ],
             [
              0.4444444444444444,
              "#bd3786"
             ],
             [
              0.5555555555555556,
              "#d8576b"
             ],
             [
              0.6666666666666666,
              "#ed7953"
             ],
             [
              0.7777777777777778,
              "#fb9f3a"
             ],
             [
              0.8888888888888888,
              "#fdca26"
             ],
             [
              1,
              "#f0f921"
             ]
            ],
            "type": "surface"
           }
          ],
          "table": [
           {
            "cells": {
             "fill": {
              "color": "#EBF0F8"
             },
             "line": {
              "color": "white"
             }
            },
            "header": {
             "fill": {
              "color": "#C8D4E3"
             },
             "line": {
              "color": "white"
             }
            },
            "type": "table"
           }
          ]
         },
         "layout": {
          "annotationdefaults": {
           "arrowcolor": "#2a3f5f",
           "arrowhead": 0,
           "arrowwidth": 1
          },
          "autotypenumbers": "strict",
          "coloraxis": {
           "colorbar": {
            "outlinewidth": 0,
            "ticks": ""
           }
          },
          "colorscale": {
           "diverging": [
            [
             0,
             "#8e0152"
            ],
            [
             0.1,
             "#c51b7d"
            ],
            [
             0.2,
             "#de77ae"
            ],
            [
             0.3,
             "#f1b6da"
            ],
            [
             0.4,
             "#fde0ef"
            ],
            [
             0.5,
             "#f7f7f7"
            ],
            [
             0.6,
             "#e6f5d0"
            ],
            [
             0.7,
             "#b8e186"
            ],
            [
             0.8,
             "#7fbc41"
            ],
            [
             0.9,
             "#4d9221"
            ],
            [
             1,
             "#276419"
            ]
           ],
           "sequential": [
            [
             0,
             "#0d0887"
            ],
            [
             0.1111111111111111,
             "#46039f"
            ],
            [
             0.2222222222222222,
             "#7201a8"
            ],
            [
             0.3333333333333333,
             "#9c179e"
            ],
            [
             0.4444444444444444,
             "#bd3786"
            ],
            [
             0.5555555555555556,
             "#d8576b"
            ],
            [
             0.6666666666666666,
             "#ed7953"
            ],
            [
             0.7777777777777778,
             "#fb9f3a"
            ],
            [
             0.8888888888888888,
             "#fdca26"
            ],
            [
             1,
             "#f0f921"
            ]
           ],
           "sequentialminus": [
            [
             0,
             "#0d0887"
            ],
            [
             0.1111111111111111,
             "#46039f"
            ],
            [
             0.2222222222222222,
             "#7201a8"
            ],
            [
             0.3333333333333333,
             "#9c179e"
            ],
            [
             0.4444444444444444,
             "#bd3786"
            ],
            [
             0.5555555555555556,
             "#d8576b"
            ],
            [
             0.6666666666666666,
             "#ed7953"
            ],
            [
             0.7777777777777778,
             "#fb9f3a"
            ],
            [
             0.8888888888888888,
             "#fdca26"
            ],
            [
             1,
             "#f0f921"
            ]
           ]
          },
          "colorway": [
           "#636efa",
           "#EF553B",
           "#00cc96",
           "#ab63fa",
           "#FFA15A",
           "#19d3f3",
           "#FF6692",
           "#B6E880",
           "#FF97FF",
           "#FECB52"
          ],
          "font": {
           "color": "#2a3f5f"
          },
          "geo": {
           "bgcolor": "white",
           "lakecolor": "white",
           "landcolor": "white",
           "showlakes": true,
           "showland": true,
           "subunitcolor": "#C8D4E3"
          },
          "hoverlabel": {
           "align": "left"
          },
          "hovermode": "closest",
          "mapbox": {
           "style": "light"
          },
          "paper_bgcolor": "white",
          "plot_bgcolor": "white",
          "polar": {
           "angularaxis": {
            "gridcolor": "#EBF0F8",
            "linecolor": "#EBF0F8",
            "ticks": ""
           },
           "bgcolor": "white",
           "radialaxis": {
            "gridcolor": "#EBF0F8",
            "linecolor": "#EBF0F8",
            "ticks": ""
           }
          },
          "scene": {
           "xaxis": {
            "backgroundcolor": "white",
            "gridcolor": "#DFE8F3",
            "gridwidth": 2,
            "linecolor": "#EBF0F8",
            "showbackground": true,
            "ticks": "",
            "zerolinecolor": "#EBF0F8"
           },
           "yaxis": {
            "backgroundcolor": "white",
            "gridcolor": "#DFE8F3",
            "gridwidth": 2,
            "linecolor": "#EBF0F8",
            "showbackground": true,
            "ticks": "",
            "zerolinecolor": "#EBF0F8"
           },
           "zaxis": {
            "backgroundcolor": "white",
            "gridcolor": "#DFE8F3",
            "gridwidth": 2,
            "linecolor": "#EBF0F8",
            "showbackground": true,
            "ticks": "",
            "zerolinecolor": "#EBF0F8"
           }
          },
          "shapedefaults": {
           "line": {
            "color": "#2a3f5f"
           }
          },
          "ternary": {
           "aaxis": {
            "gridcolor": "#DFE8F3",
            "linecolor": "#A2B1C6",
            "ticks": ""
           },
           "baxis": {
            "gridcolor": "#DFE8F3",
            "linecolor": "#A2B1C6",
            "ticks": ""
           },
           "bgcolor": "white",
           "caxis": {
            "gridcolor": "#DFE8F3",
            "linecolor": "#A2B1C6",
            "ticks": ""
           }
          },
          "title": {
           "x": 0.05
          },
          "xaxis": {
           "automargin": true,
           "gridcolor": "#EBF0F8",
           "linecolor": "#EBF0F8",
           "ticks": "",
           "title": {
            "standoff": 15
           },
           "zerolinecolor": "#EBF0F8",
           "zerolinewidth": 2
          },
          "yaxis": {
           "automargin": true,
           "gridcolor": "#EBF0F8",
           "linecolor": "#EBF0F8",
           "ticks": "",
           "title": {
            "standoff": 15
           },
           "zerolinecolor": "#EBF0F8",
           "zerolinewidth": 2
          }
         }
        },
        "title": {
         "text": "Top Regions by Revenue per Year"
        },
        "updatemenus": [
         {
          "buttons": [
           {
            "args": [
             null,
             {
              "frame": {
               "duration": 1500,
               "redraw": true
              },
              "fromcurrent": true
             }
            ],
            "label": "Play",
            "method": "animate"
           },
           {
            "args": [
             [
              null
             ],
             {
              "frame": {
               "duration": 0,
               "redraw": true
              },
              "mode": "immediate",
              "transition": {
               "duration": 0
              }
             }
            ],
            "label": "Pause",
            "method": "animate"
           }
          ],
          "direction": "left",
          "pad": {
           "r": 10,
           "t": 87
          },
          "showactive": false,
          "type": "buttons",
          "x": 0.1,
          "xanchor": "right",
          "y": 0,
          "yanchor": "top"
         }
        ],
        "xaxis": {
         "anchor": "y",
         "domain": [
          0,
          1
         ],
         "range": [
          0,
          291944424.10441005
         ],
         "tickformat": "$.2s",
         "title": {
          "text": "Total Revenue (USD)"
         }
        },
        "yaxis": {
         "anchor": "x",
         "categoryarray": [
          "West Tex/New Mexico",
          "Seattle",
          "San Francisco",
          "San Diego",
          "Sacramento",
          "Portland",
          "Plains",
          "Phoenix/Tucson",
          "Philadelphia",
          "New York",
          "Miami/Ft. Lauderdale",
          "Los Angeles",
          "Houston",
          "Great Lakes",
          "Denver",
          "Dallas/Ft. Worth",
          "Chicago",
          "Boston",
          "Baltimore/Washington",
          "Atlanta"
         ],
         "categoryorder": "total ascending",
         "domain": [
          0,
          1
         ],
         "title": {
          "text": "Region"
         }
        }
       }
      }
     },
     "metadata": {},
     "output_type": "display_data"
    }
   ],
   "source": [
    "bar_data = top_20_detailed.groupby(['geography', 'year']).agg(\n",
    "    total_revenue=('total_revenue', 'sum')\n",
    ").reset_index()\n",
    "bar_data['total_revenue_formatted'] = bar_data['total_revenue'].apply(format_rev)\n",
    "\n",
    "bar_fig = px.bar(\n",
    "    bar_data,\n",
    "    x=\"total_revenue\",\n",
    "    y=\"geography\",\n",
    "    color=\"geography\",\n",
    "    animation_frame=\"year\",\n",
    "    orientation=\"h\",\n",
    "    title=\"Top Regions by Revenue per Year\",\n",
    "    labels={\"total_revenue\": \"Total Revenue (USD)\", \"geography\": \"Region\"},\n",
    "    text=\"total_revenue_formatted\",\n",
    "    hover_data={\"total_revenue_formatted\": False}\n",
    ")\n",
    "\n",
    "max_revenue = bar_data['total_revenue'].max()\n",
    "bar_fig.update_layout(\n",
    "    xaxis=dict(\n",
    "        title=\"Total Revenue (USD)\",\n",
    "        tickformat=\"$.2s\",\n",
    "        range=[0, max_revenue * 1.1]  # Extend slightly beyond max value for padding\n",
    "    ),\n",
    "    yaxis=dict(title=\"Region\", categoryorder=\"total ascending\"),\n",
    "    template=\"plotly_white\",\n",
    "    height=700,\n",
    "    showlegend=False,\n",
    "    updatemenus=[{\n",
    "        \"buttons\": [\n",
    "            {\n",
    "                \"args\": [None, {\"frame\": {\"duration\": 1500, \"redraw\": True}, \"fromcurrent\": True}],\n",
    "                \"label\": \"Play\",\n",
    "                \"method\": \"animate\",\n",
    "            },\n",
    "            {\n",
    "                \"args\": [[None], {\"frame\": {\"duration\": 0, \"redraw\": True}, \"mode\": \"immediate\", \"transition\": {\"duration\": 0}}],\n",
    "                \"label\": \"Pause\",\n",
    "                \"method\": \"animate\",\n",
    "            },\n",
    "        ],\n",
    "        \"direction\": \"left\",\n",
    "        \"pad\": {\"r\": 10, \"t\": 87},\n",
    "        \"showactive\": False,\n",
    "        \"type\": \"buttons\",\n",
    "        \"x\": 0.1,\n",
    "        \"xanchor\": \"right\",\n",
    "        \"y\": 0,\n",
    "        \"yanchor\": \"top\",\n",
    "    }]\n",
    ")\n",
    "bar_fig.show()"
   ]
  },
  {
   "cell_type": "markdown",
   "metadata": {},
   "source": [
    "## 4f. Price vs Volume Across Top 20 Regions"
   ]
  },
  {
   "cell_type": "code",
   "execution_count": 94,
   "metadata": {},
   "outputs": [
    {
     "data": {
      "application/vnd.plotly.v1+json": {
       "config": {
        "plotlyServerURL": "https://plot.ly"
       },
       "data": [
        {
         "customdata": [
          [
           "199.0M",
           "Atlanta",
           1.3
          ]
         ],
         "hovertemplate": "<b>%{hovertext}</b><br><br>Total Volume=%{customdata[0]}<br>Average Price (USD)=%{customdata[2]}<extra></extra>",
         "hovertext": [
          "Atlanta"
         ],
         "legendgroup": "Atlanta",
         "marker": {
          "color": "#636efa",
          "size": [
           198994117.74
          ],
          "sizemode": "area",
          "sizeref": 3051120.8766750004,
          "symbol": "circle"
         },
         "mode": "markers",
         "name": "Atlanta",
         "orientation": "v",
         "showlegend": true,
         "type": "scatter",
         "x": [
          1.3033006535947713
         ],
         "xaxis": "x",
         "y": [
          198994117.74
         ],
         "yaxis": "y"
        },
        {
         "customdata": [
          [
           "276.8M",
           "Baltimore/Washington",
           1.47
          ]
         ],
         "hovertemplate": "<b>%{hovertext}</b><br><br>Total Volume=%{customdata[0]}<br>Average Price (USD)=%{customdata[2]}<extra></extra>",
         "hovertext": [
          "Baltimore/Washington"
         ],
         "legendgroup": "Baltimore/Washington",
         "marker": {
          "color": "#EF553B",
          "size": [
           276764634.1
          ],
          "sizemode": "area",
          "sizeref": 3051120.8766750004,
          "symbol": "circle"
         },
         "mode": "markers",
         "name": "Baltimore/Washington",
         "orientation": "v",
         "showlegend": true,
         "type": "scatter",
         "x": [
          1.4748202614379085
         ],
         "xaxis": "x",
         "y": [
          276764634.1
         ],
         "yaxis": "y"
        },
        {
         "customdata": [
          [
           "204.1M",
           "Boston",
           1.54
          ]
         ],
         "hovertemplate": "<b>%{hovertext}</b><br><br>Total Volume=%{customdata[0]}<br>Average Price (USD)=%{customdata[2]}<extra></extra>",
         "hovertext": [
          "Boston"
         ],
         "legendgroup": "Boston",
         "marker": {
          "color": "#00cc96",
          "size": [
           204132518.89000002
          ],
          "sizemode": "area",
          "sizeref": 3051120.8766750004,
          "symbol": "circle"
         },
         "mode": "markers",
         "name": "Boston",
         "orientation": "v",
         "showlegend": true,
         "type": "scatter",
         "x": [
          1.5363071895424838
         ],
         "xaxis": "x",
         "y": [
          204132518.89000002
         ],
         "yaxis": "y"
        },
        {
         "customdata": [
          [
           "257.7M",
           "Chicago",
           1.52
          ]
         ],
         "hovertemplate": "<b>%{hovertext}</b><br><br>Total Volume=%{customdata[0]}<br>Average Price (USD)=%{customdata[2]}<extra></extra>",
         "hovertext": [
          "Chicago"
         ],
         "legendgroup": "Chicago",
         "marker": {
          "color": "#ab63fa",
          "size": [
           257665010.59
          ],
          "sizemode": "area",
          "sizeref": 3051120.8766750004,
          "symbol": "circle"
         },
         "mode": "markers",
         "name": "Chicago",
         "orientation": "v",
         "showlegend": true,
         "type": "scatter",
         "x": [
          1.524264705882353
         ],
         "xaxis": "x",
         "y": [
          257665010.59
         ],
         "yaxis": "y"
        },
        {
         "customdata": [
          [
           "436.2M",
           "Dallas/Ft. Worth",
           1.08
          ]
         ],
         "hovertemplate": "<b>%{hovertext}</b><br><br>Total Volume=%{customdata[0]}<br>Average Price (USD)=%{customdata[2]}<extra></extra>",
         "hovertext": [
          "Dallas/Ft. Worth"
         ],
         "legendgroup": "Dallas/Ft. Worth",
         "marker": {
          "color": "#FFA15A",
          "size": [
           436204160.85
          ],
          "sizemode": "area",
          "sizeref": 3051120.8766750004,
          "symbol": "circle"
         },
         "mode": "markers",
         "name": "Dallas/Ft. Worth",
         "orientation": "v",
         "showlegend": true,
         "type": "scatter",
         "x": [
          1.0761601307189543
         ],
         "xaxis": "x",
         "y": [
          436204160.85
         ],
         "yaxis": "y"
        },
        {
         "customdata": [
          [
           "277.9M",
           "Denver",
           1.26
          ]
         ],
         "hovertemplate": "<b>%{hovertext}</b><br><br>Total Volume=%{customdata[0]}<br>Average Price (USD)=%{customdata[2]}<extra></extra>",
         "hovertext": [
          "Denver"
         ],
         "legendgroup": "Denver",
         "marker": {
          "color": "#19d3f3",
          "size": [
           277929528.9
          ],
          "sizemode": "area",
          "sizeref": 3051120.8766750004,
          "symbol": "circle"
         },
         "mode": "markers",
         "name": "Denver",
         "orientation": "v",
         "showlegend": true,
         "type": "scatter",
         "x": [
          1.2630882352941177
         ],
         "xaxis": "x",
         "y": [
          277929528.9
         ],
         "yaxis": "y"
        },
        {
         "customdata": [
          [
           "1.2B",
           "Great Lakes",
           1.31
          ]
         ],
         "hovertemplate": "<b>%{hovertext}</b><br><br>Total Volume=%{customdata[0]}<br>Average Price (USD)=%{customdata[2]}<extra></extra>",
         "hovertext": [
          "Great Lakes"
         ],
         "legendgroup": "Great Lakes",
         "marker": {
          "color": "#FF6692",
          "size": [
           1220448350.67
          ],
          "sizemode": "area",
          "sizeref": 3051120.8766750004,
          "symbol": "circle"
         },
         "mode": "markers",
         "name": "Great Lakes",
         "orientation": "v",
         "showlegend": true,
         "type": "scatter",
         "x": [
          1.3105718954248367
         ],
         "xaxis": "x",
         "y": [
          1220448350.67
         ],
         "yaxis": "y"
        },
        {
         "customdata": [
          [
           "420.8M",
           "Houston",
           1.08
          ]
         ],
         "hovertemplate": "<b>%{hovertext}</b><br><br>Total Volume=%{customdata[0]}<br>Average Price (USD)=%{customdata[2]}<extra></extra>",
         "hovertext": [
          "Houston"
         ],
         "legendgroup": "Houston",
         "marker": {
          "color": "#B6E880",
          "size": [
           420843846.87
          ],
          "sizemode": "area",
          "sizeref": 3051120.8766750004,
          "symbol": "circle"
         },
         "mode": "markers",
         "name": "Houston",
         "orientation": "v",
         "showlegend": true,
         "type": "scatter",
         "x": [
          1.0757516339869282
         ],
         "xaxis": "x",
         "y": [
          420843846.87
         ],
         "yaxis": "y"
        },
        {
         "customdata": [
          [
           "959.4M",
           "Los Angeles",
           1.31
          ]
         ],
         "hovertemplate": "<b>%{hovertext}</b><br><br>Total Volume=%{customdata[0]}<br>Average Price (USD)=%{customdata[2]}<extra></extra>",
         "hovertext": [
          "Los Angeles"
         ],
         "legendgroup": "Los Angeles",
         "marker": {
          "color": "#FF97FF",
          "size": [
           959350488.02
          ],
          "sizemode": "area",
          "sizeref": 3051120.8766750004,
          "symbol": "circle"
         },
         "mode": "markers",
         "name": "Los Angeles",
         "orientation": "v",
         "showlegend": true,
         "type": "scatter",
         "x": [
          1.311013071895425
         ],
         "xaxis": "x",
         "y": [
          959350488.02
         ],
         "yaxis": "y"
        },
        {
         "customdata": [
          [
           "231.7M",
           "Miami/Ft. Lauderdale",
           1.34
          ]
         ],
         "hovertemplate": "<b>%{hovertext}</b><br><br>Total Volume=%{customdata[0]}<br>Average Price (USD)=%{customdata[2]}<extra></extra>",
         "hovertext": [
          "Miami/Ft. Lauderdale"
         ],
         "legendgroup": "Miami/Ft. Lauderdale",
         "marker": {
          "color": "#FECB52",
          "size": [
           231744848.68
          ],
          "sizemode": "area",
          "sizeref": 3051120.8766750004,
          "symbol": "circle"
         },
         "mode": "markers",
         "name": "Miami/Ft. Lauderdale",
         "orientation": "v",
         "showlegend": true,
         "type": "scatter",
         "x": [
          1.3404248366013072
         ],
         "xaxis": "x",
         "y": [
          231744848.68
         ],
         "yaxis": "y"
        },
        {
         "customdata": [
          [
           "528.2M",
           "New York",
           1.66
          ]
         ],
         "hovertemplate": "<b>%{hovertext}</b><br><br>Total Volume=%{customdata[0]}<br>Average Price (USD)=%{customdata[2]}<extra></extra>",
         "hovertext": [
          "New York"
         ],
         "legendgroup": "New York",
         "marker": {
          "color": "#636efa",
          "size": [
           528245244.19
          ],
          "sizemode": "area",
          "sizeref": 3051120.8766750004,
          "symbol": "circle"
         },
         "mode": "markers",
         "name": "New York",
         "orientation": "v",
         "showlegend": true,
         "type": "scatter",
         "x": [
          1.6594771241830066
         ],
         "xaxis": "x",
         "y": [
          528245244.19
         ],
         "yaxis": "y"
        },
        {
         "customdata": [
          [
           "158.4M",
           "Philadelphia",
           1.52
          ]
         ],
         "hovertemplate": "<b>%{hovertext}</b><br><br>Total Volume=%{customdata[0]}<br>Average Price (USD)=%{customdata[2]}<extra></extra>",
         "hovertext": [
          "Philadelphia"
         ],
         "legendgroup": "Philadelphia",
         "marker": {
          "color": "#EF553B",
          "size": [
           158432673.43
          ],
          "sizemode": "area",
          "sizeref": 3051120.8766750004,
          "symbol": "circle"
         },
         "mode": "markers",
         "name": "Philadelphia",
         "orientation": "v",
         "showlegend": true,
         "type": "scatter",
         "x": [
          1.5241993464052286
         ],
         "xaxis": "x",
         "y": [
          158432673.43
         ],
         "yaxis": "y"
        },
        {
         "customdata": [
          [
           "382.5M",
           "Phoenix/Tucson",
           1.21
          ]
         ],
         "hovertemplate": "<b>%{hovertext}</b><br><br>Total Volume=%{customdata[0]}<br>Average Price (USD)=%{customdata[2]}<extra></extra>",
         "hovertext": [
          "Phoenix/Tucson"
         ],
         "legendgroup": "Phoenix/Tucson",
         "marker": {
          "color": "#00cc96",
          "size": [
           382523413.59
          ],
          "sizemode": "area",
          "sizeref": 3051120.8766750004,
          "symbol": "circle"
         },
         "mode": "markers",
         "name": "Phoenix/Tucson",
         "orientation": "v",
         "showlegend": true,
         "type": "scatter",
         "x": [
          1.209297385620915
         ],
         "xaxis": "x",
         "y": [
          382523413.59
         ],
         "yaxis": "y"
        },
        {
         "customdata": [
          [
           "635.3M",
           "Plains",
           1.35
          ]
         ],
         "hovertemplate": "<b>%{hovertext}</b><br><br>Total Volume=%{customdata[0]}<br>Average Price (USD)=%{customdata[2]}<extra></extra>",
         "hovertext": [
          "Plains"
         ],
         "legendgroup": "Plains",
         "marker": {
          "color": "#ab63fa",
          "size": [
           635257613.5600001
          ],
          "sizemode": "area",
          "sizeref": 3051120.8766750004,
          "symbol": "circle"
         },
         "mode": "markers",
         "name": "Plains",
         "orientation": "v",
         "showlegend": true,
         "type": "scatter",
         "x": [
          1.3513235294117647
         ],
         "xaxis": "x",
         "y": [
          635257613.5600001
         ],
         "yaxis": "y"
        },
        {
         "customdata": [
          [
           "213.5M",
           "Portland",
           1.41
          ]
         ],
         "hovertemplate": "<b>%{hovertext}</b><br><br>Total Volume=%{customdata[0]}<br>Average Price (USD)=%{customdata[2]}<extra></extra>",
         "hovertext": [
          "Portland"
         ],
         "legendgroup": "Portland",
         "marker": {
          "color": "#FFA15A",
          "size": [
           213543774.23
          ],
          "sizemode": "area",
          "sizeref": 3051120.8766750004,
          "symbol": "circle"
         },
         "mode": "markers",
         "name": "Portland",
         "orientation": "v",
         "showlegend": true,
         "type": "scatter",
         "x": [
          1.4095915032679738
         ],
         "xaxis": "x",
         "y": [
          213543774.23
         ],
         "yaxis": "y"
        },
        {
         "customdata": [
          [
           "149.3M",
           "Sacramento",
           1.58
          ]
         ],
         "hovertemplate": "<b>%{hovertext}</b><br><br>Total Volume=%{customdata[0]}<br>Average Price (USD)=%{customdata[2]}<extra></extra>",
         "hovertext": [
          "Sacramento"
         ],
         "legendgroup": "Sacramento",
         "marker": {
          "color": "#19d3f3",
          "size": [
           149271315.73
          ],
          "sizemode": "area",
          "sizeref": 3051120.8766750004,
          "symbol": "circle"
         },
         "mode": "markers",
         "name": "Sacramento",
         "orientation": "v",
         "showlegend": true,
         "type": "scatter",
         "x": [
          1.5846078431372548
         ],
         "xaxis": "x",
         "y": [
          149271315.73
         ],
         "yaxis": "y"
        },
        {
         "customdata": [
          [
           "173.8M",
           "San Diego",
           1.46
          ]
         ],
         "hovertemplate": "<b>%{hovertext}</b><br><br>Total Volume=%{customdata[0]}<br>Average Price (USD)=%{customdata[2]}<extra></extra>",
         "hovertext": [
          "San Diego"
         ],
         "legendgroup": "San Diego",
         "marker": {
          "color": "#FF6692",
          "size": [
           173764449.74
          ],
          "sizemode": "area",
          "sizeref": 3051120.8766750004,
          "symbol": "circle"
         },
         "mode": "markers",
         "name": "San Diego",
         "orientation": "v",
         "showlegend": true,
         "type": "scatter",
         "x": [
          1.4561111111111111
         ],
         "xaxis": "x",
         "y": [
          173764449.74
         ],
         "yaxis": "y"
        },
        {
         "customdata": [
          [
           "274.2M",
           "San Francisco",
           1.76
          ]
         ],
         "hovertemplate": "<b>%{hovertext}</b><br><br>Total Volume=%{customdata[0]}<br>Average Price (USD)=%{customdata[2]}<extra></extra>",
         "hovertext": [
          "San Francisco"
         ],
         "legendgroup": "San Francisco",
         "marker": {
          "color": "#B6E880",
          "size": [
           274216888.35
          ],
          "sizemode": "area",
          "sizeref": 3051120.8766750004,
          "symbol": "circle"
         },
         "mode": "markers",
         "name": "San Francisco",
         "orientation": "v",
         "showlegend": true,
         "type": "scatter",
         "x": [
          1.7599673202614377
         ],
         "xaxis": "x",
         "y": [
          274216888.35
         ],
         "yaxis": "y"
        },
        {
         "customdata": [
          [
           "202.4M",
           "Seattle",
           1.54
          ]
         ],
         "hovertemplate": "<b>%{hovertext}</b><br><br>Total Volume=%{customdata[0]}<br>Average Price (USD)=%{customdata[2]}<extra></extra>",
         "hovertext": [
          "Seattle"
         ],
         "legendgroup": "Seattle",
         "marker": {
          "color": "#FF97FF",
          "size": [
           202402575.84
          ],
          "sizemode": "area",
          "sizeref": 3051120.8766750004,
          "symbol": "circle"
         },
         "mode": "markers",
         "name": "Seattle",
         "orientation": "v",
         "showlegend": true,
         "type": "scatter",
         "x": [
          1.543937908496732
         ],
         "xaxis": "x",
         "y": [
          202402575.84
         ],
         "yaxis": "y"
        },
        {
         "customdata": [
          [
           "280.6M",
           "West Tex/New Mexico",
           1.25
          ]
         ],
         "hovertemplate": "<b>%{hovertext}</b><br><br>Total Volume=%{customdata[0]}<br>Average Price (USD)=%{customdata[2]}<extra></extra>",
         "hovertext": [
          "West Tex/New Mexico"
         ],
         "legendgroup": "West Tex/New Mexico",
         "marker": {
          "color": "#FECB52",
          "size": [
           280611566.3
          ],
          "sizemode": "area",
          "sizeref": 3051120.8766750004,
          "symbol": "circle"
         },
         "mode": "markers",
         "name": "West Tex/New Mexico",
         "orientation": "v",
         "showlegend": true,
         "type": "scatter",
         "x": [
          1.2529720853858783
         ],
         "xaxis": "x",
         "y": [
          280611566.3
         ],
         "yaxis": "y"
        }
       ],
       "layout": {
        "height": 600,
        "legend": {
         "itemsizing": "constant",
         "title": {
          "text": "geography"
         },
         "tracegroupgap": 0
        },
        "template": {
         "data": {
          "bar": [
           {
            "error_x": {
             "color": "#2a3f5f"
            },
            "error_y": {
             "color": "#2a3f5f"
            },
            "marker": {
             "line": {
              "color": "#E5ECF6",
              "width": 0.5
             },
             "pattern": {
              "fillmode": "overlay",
              "size": 10,
              "solidity": 0.2
             }
            },
            "type": "bar"
           }
          ],
          "barpolar": [
           {
            "marker": {
             "line": {
              "color": "#E5ECF6",
              "width": 0.5
             },
             "pattern": {
              "fillmode": "overlay",
              "size": 10,
              "solidity": 0.2
             }
            },
            "type": "barpolar"
           }
          ],
          "carpet": [
           {
            "aaxis": {
             "endlinecolor": "#2a3f5f",
             "gridcolor": "white",
             "linecolor": "white",
             "minorgridcolor": "white",
             "startlinecolor": "#2a3f5f"
            },
            "baxis": {
             "endlinecolor": "#2a3f5f",
             "gridcolor": "white",
             "linecolor": "white",
             "minorgridcolor": "white",
             "startlinecolor": "#2a3f5f"
            },
            "type": "carpet"
           }
          ],
          "choropleth": [
           {
            "colorbar": {
             "outlinewidth": 0,
             "ticks": ""
            },
            "type": "choropleth"
           }
          ],
          "contour": [
           {
            "colorbar": {
             "outlinewidth": 0,
             "ticks": ""
            },
            "colorscale": [
             [
              0,
              "#0d0887"
             ],
             [
              0.1111111111111111,
              "#46039f"
             ],
             [
              0.2222222222222222,
              "#7201a8"
             ],
             [
              0.3333333333333333,
              "#9c179e"
             ],
             [
              0.4444444444444444,
              "#bd3786"
             ],
             [
              0.5555555555555556,
              "#d8576b"
             ],
             [
              0.6666666666666666,
              "#ed7953"
             ],
             [
              0.7777777777777778,
              "#fb9f3a"
             ],
             [
              0.8888888888888888,
              "#fdca26"
             ],
             [
              1,
              "#f0f921"
             ]
            ],
            "type": "contour"
           }
          ],
          "contourcarpet": [
           {
            "colorbar": {
             "outlinewidth": 0,
             "ticks": ""
            },
            "type": "contourcarpet"
           }
          ],
          "heatmap": [
           {
            "colorbar": {
             "outlinewidth": 0,
             "ticks": ""
            },
            "colorscale": [
             [
              0,
              "#0d0887"
             ],
             [
              0.1111111111111111,
              "#46039f"
             ],
             [
              0.2222222222222222,
              "#7201a8"
             ],
             [
              0.3333333333333333,
              "#9c179e"
             ],
             [
              0.4444444444444444,
              "#bd3786"
             ],
             [
              0.5555555555555556,
              "#d8576b"
             ],
             [
              0.6666666666666666,
              "#ed7953"
             ],
             [
              0.7777777777777778,
              "#fb9f3a"
             ],
             [
              0.8888888888888888,
              "#fdca26"
             ],
             [
              1,
              "#f0f921"
             ]
            ],
            "type": "heatmap"
           }
          ],
          "heatmapgl": [
           {
            "colorbar": {
             "outlinewidth": 0,
             "ticks": ""
            },
            "colorscale": [
             [
              0,
              "#0d0887"
             ],
             [
              0.1111111111111111,
              "#46039f"
             ],
             [
              0.2222222222222222,
              "#7201a8"
             ],
             [
              0.3333333333333333,
              "#9c179e"
             ],
             [
              0.4444444444444444,
              "#bd3786"
             ],
             [
              0.5555555555555556,
              "#d8576b"
             ],
             [
              0.6666666666666666,
              "#ed7953"
             ],
             [
              0.7777777777777778,
              "#fb9f3a"
             ],
             [
              0.8888888888888888,
              "#fdca26"
             ],
             [
              1,
              "#f0f921"
             ]
            ],
            "type": "heatmapgl"
           }
          ],
          "histogram": [
           {
            "marker": {
             "pattern": {
              "fillmode": "overlay",
              "size": 10,
              "solidity": 0.2
             }
            },
            "type": "histogram"
           }
          ],
          "histogram2d": [
           {
            "colorbar": {
             "outlinewidth": 0,
             "ticks": ""
            },
            "colorscale": [
             [
              0,
              "#0d0887"
             ],
             [
              0.1111111111111111,
              "#46039f"
             ],
             [
              0.2222222222222222,
              "#7201a8"
             ],
             [
              0.3333333333333333,
              "#9c179e"
             ],
             [
              0.4444444444444444,
              "#bd3786"
             ],
             [
              0.5555555555555556,
              "#d8576b"
             ],
             [
              0.6666666666666666,
              "#ed7953"
             ],
             [
              0.7777777777777778,
              "#fb9f3a"
             ],
             [
              0.8888888888888888,
              "#fdca26"
             ],
             [
              1,
              "#f0f921"
             ]
            ],
            "type": "histogram2d"
           }
          ],
          "histogram2dcontour": [
           {
            "colorbar": {
             "outlinewidth": 0,
             "ticks": ""
            },
            "colorscale": [
             [
              0,
              "#0d0887"
             ],
             [
              0.1111111111111111,
              "#46039f"
             ],
             [
              0.2222222222222222,
              "#7201a8"
             ],
             [
              0.3333333333333333,
              "#9c179e"
             ],
             [
              0.4444444444444444,
              "#bd3786"
             ],
             [
              0.5555555555555556,
              "#d8576b"
             ],
             [
              0.6666666666666666,
              "#ed7953"
             ],
             [
              0.7777777777777778,
              "#fb9f3a"
             ],
             [
              0.8888888888888888,
              "#fdca26"
             ],
             [
              1,
              "#f0f921"
             ]
            ],
            "type": "histogram2dcontour"
           }
          ],
          "mesh3d": [
           {
            "colorbar": {
             "outlinewidth": 0,
             "ticks": ""
            },
            "type": "mesh3d"
           }
          ],
          "parcoords": [
           {
            "line": {
             "colorbar": {
              "outlinewidth": 0,
              "ticks": ""
             }
            },
            "type": "parcoords"
           }
          ],
          "pie": [
           {
            "automargin": true,
            "type": "pie"
           }
          ],
          "scatter": [
           {
            "fillpattern": {
             "fillmode": "overlay",
             "size": 10,
             "solidity": 0.2
            },
            "type": "scatter"
           }
          ],
          "scatter3d": [
           {
            "line": {
             "colorbar": {
              "outlinewidth": 0,
              "ticks": ""
             }
            },
            "marker": {
             "colorbar": {
              "outlinewidth": 0,
              "ticks": ""
             }
            },
            "type": "scatter3d"
           }
          ],
          "scattercarpet": [
           {
            "marker": {
             "colorbar": {
              "outlinewidth": 0,
              "ticks": ""
             }
            },
            "type": "scattercarpet"
           }
          ],
          "scattergeo": [
           {
            "marker": {
             "colorbar": {
              "outlinewidth": 0,
              "ticks": ""
             }
            },
            "type": "scattergeo"
           }
          ],
          "scattergl": [
           {
            "marker": {
             "colorbar": {
              "outlinewidth": 0,
              "ticks": ""
             }
            },
            "type": "scattergl"
           }
          ],
          "scattermapbox": [
           {
            "marker": {
             "colorbar": {
              "outlinewidth": 0,
              "ticks": ""
             }
            },
            "type": "scattermapbox"
           }
          ],
          "scatterpolar": [
           {
            "marker": {
             "colorbar": {
              "outlinewidth": 0,
              "ticks": ""
             }
            },
            "type": "scatterpolar"
           }
          ],
          "scatterpolargl": [
           {
            "marker": {
             "colorbar": {
              "outlinewidth": 0,
              "ticks": ""
             }
            },
            "type": "scatterpolargl"
           }
          ],
          "scatterternary": [
           {
            "marker": {
             "colorbar": {
              "outlinewidth": 0,
              "ticks": ""
             }
            },
            "type": "scatterternary"
           }
          ],
          "surface": [
           {
            "colorbar": {
             "outlinewidth": 0,
             "ticks": ""
            },
            "colorscale": [
             [
              0,
              "#0d0887"
             ],
             [
              0.1111111111111111,
              "#46039f"
             ],
             [
              0.2222222222222222,
              "#7201a8"
             ],
             [
              0.3333333333333333,
              "#9c179e"
             ],
             [
              0.4444444444444444,
              "#bd3786"
             ],
             [
              0.5555555555555556,
              "#d8576b"
             ],
             [
              0.6666666666666666,
              "#ed7953"
             ],
             [
              0.7777777777777778,
              "#fb9f3a"
             ],
             [
              0.8888888888888888,
              "#fdca26"
             ],
             [
              1,
              "#f0f921"
             ]
            ],
            "type": "surface"
           }
          ],
          "table": [
           {
            "cells": {
             "fill": {
              "color": "#EBF0F8"
             },
             "line": {
              "color": "white"
             }
            },
            "header": {
             "fill": {
              "color": "#C8D4E3"
             },
             "line": {
              "color": "white"
             }
            },
            "type": "table"
           }
          ]
         },
         "layout": {
          "annotationdefaults": {
           "arrowcolor": "#2a3f5f",
           "arrowhead": 0,
           "arrowwidth": 1
          },
          "autotypenumbers": "strict",
          "coloraxis": {
           "colorbar": {
            "outlinewidth": 0,
            "ticks": ""
           }
          },
          "colorscale": {
           "diverging": [
            [
             0,
             "#8e0152"
            ],
            [
             0.1,
             "#c51b7d"
            ],
            [
             0.2,
             "#de77ae"
            ],
            [
             0.3,
             "#f1b6da"
            ],
            [
             0.4,
             "#fde0ef"
            ],
            [
             0.5,
             "#f7f7f7"
            ],
            [
             0.6,
             "#e6f5d0"
            ],
            [
             0.7,
             "#b8e186"
            ],
            [
             0.8,
             "#7fbc41"
            ],
            [
             0.9,
             "#4d9221"
            ],
            [
             1,
             "#276419"
            ]
           ],
           "sequential": [
            [
             0,
             "#0d0887"
            ],
            [
             0.1111111111111111,
             "#46039f"
            ],
            [
             0.2222222222222222,
             "#7201a8"
            ],
            [
             0.3333333333333333,
             "#9c179e"
            ],
            [
             0.4444444444444444,
             "#bd3786"
            ],
            [
             0.5555555555555556,
             "#d8576b"
            ],
            [
             0.6666666666666666,
             "#ed7953"
            ],
            [
             0.7777777777777778,
             "#fb9f3a"
            ],
            [
             0.8888888888888888,
             "#fdca26"
            ],
            [
             1,
             "#f0f921"
            ]
           ],
           "sequentialminus": [
            [
             0,
             "#0d0887"
            ],
            [
             0.1111111111111111,
             "#46039f"
            ],
            [
             0.2222222222222222,
             "#7201a8"
            ],
            [
             0.3333333333333333,
             "#9c179e"
            ],
            [
             0.4444444444444444,
             "#bd3786"
            ],
            [
             0.5555555555555556,
             "#d8576b"
            ],
            [
             0.6666666666666666,
             "#ed7953"
            ],
            [
             0.7777777777777778,
             "#fb9f3a"
            ],
            [
             0.8888888888888888,
             "#fdca26"
            ],
            [
             1,
             "#f0f921"
            ]
           ]
          },
          "colorway": [
           "#636efa",
           "#EF553B",
           "#00cc96",
           "#ab63fa",
           "#FFA15A",
           "#19d3f3",
           "#FF6692",
           "#B6E880",
           "#FF97FF",
           "#FECB52"
          ],
          "font": {
           "color": "#2a3f5f"
          },
          "geo": {
           "bgcolor": "white",
           "lakecolor": "white",
           "landcolor": "#E5ECF6",
           "showlakes": true,
           "showland": true,
           "subunitcolor": "white"
          },
          "hoverlabel": {
           "align": "left"
          },
          "hovermode": "closest",
          "mapbox": {
           "style": "light"
          },
          "paper_bgcolor": "white",
          "plot_bgcolor": "#E5ECF6",
          "polar": {
           "angularaxis": {
            "gridcolor": "white",
            "linecolor": "white",
            "ticks": ""
           },
           "bgcolor": "#E5ECF6",
           "radialaxis": {
            "gridcolor": "white",
            "linecolor": "white",
            "ticks": ""
           }
          },
          "scene": {
           "xaxis": {
            "backgroundcolor": "#E5ECF6",
            "gridcolor": "white",
            "gridwidth": 2,
            "linecolor": "white",
            "showbackground": true,
            "ticks": "",
            "zerolinecolor": "white"
           },
           "yaxis": {
            "backgroundcolor": "#E5ECF6",
            "gridcolor": "white",
            "gridwidth": 2,
            "linecolor": "white",
            "showbackground": true,
            "ticks": "",
            "zerolinecolor": "white"
           },
           "zaxis": {
            "backgroundcolor": "#E5ECF6",
            "gridcolor": "white",
            "gridwidth": 2,
            "linecolor": "white",
            "showbackground": true,
            "ticks": "",
            "zerolinecolor": "white"
           }
          },
          "shapedefaults": {
           "line": {
            "color": "#2a3f5f"
           }
          },
          "ternary": {
           "aaxis": {
            "gridcolor": "white",
            "linecolor": "white",
            "ticks": ""
           },
           "baxis": {
            "gridcolor": "white",
            "linecolor": "white",
            "ticks": ""
           },
           "bgcolor": "#E5ECF6",
           "caxis": {
            "gridcolor": "white",
            "linecolor": "white",
            "ticks": ""
           }
          },
          "title": {
           "x": 0.05
          },
          "xaxis": {
           "automargin": true,
           "gridcolor": "white",
           "linecolor": "white",
           "ticks": "",
           "title": {
            "standoff": 15
           },
           "zerolinecolor": "white",
           "zerolinewidth": 2
          },
          "yaxis": {
           "automargin": true,
           "gridcolor": "white",
           "linecolor": "white",
           "ticks": "",
           "title": {
            "standoff": 15
           },
           "zerolinecolor": "white",
           "zerolinewidth": 2
          }
         }
        },
        "title": {
         "text": "Average Price vs Total Volume"
        },
        "xaxis": {
         "anchor": "y",
         "domain": [
          0,
          1
         ],
         "title": {
          "text": "avg_price"
         }
        },
        "yaxis": {
         "anchor": "x",
         "domain": [
          0,
          1
         ],
         "title": {
          "text": "total_volume"
         }
        }
       }
      }
     },
     "metadata": {},
     "output_type": "display_data"
    }
   ],
   "source": [
    "scatter_data = top_20_detailed.groupby(['geography']).agg(\n",
    "    avg_price=('average_price', 'mean'),\n",
    "    total_volume=('total_volume', 'sum')\n",
    ").reset_index()\n",
    "\n",
    "scatter_data['Average Price (USD)'] = scatter_data['avg_price'].round(2)  \n",
    "scatter_data['Total Volume'] = scatter_data['total_volume'].apply(format_rev)\n",
    "\n",
    "\n",
    "scatter_fig = px.scatter(\n",
    "    scatter_data,\n",
    "    x=\"avg_price\",\n",
    "    y=\"total_volume\",\n",
    "    size=\"total_volume\",\n",
    "    color=\"geography\",\n",
    "    hover_name=\"geography\",\n",
    "    hover_data={\n",
    "        \"Total Volume\": True,\n",
    "        \"geography\": False,\n",
    "        \"avg_price\": False,\n",
    "        \"Average Price (USD)\": True,\n",
    "        \"total_volume\": False,\n",
    "    },\n",
    "    title=\"Average Price vs Total Volume\",\n",
    "    height=600\n",
    ")\n",
    "\n",
    "scatter_fig.show()"
   ]
  },
  {
   "cell_type": "code",
   "execution_count": 50,
   "metadata": {},
   "outputs": [],
   "source": [
    "# Regions with high volume despite higher prices may represent premium markets"
   ]
  },
  {
   "cell_type": "markdown",
   "metadata": {},
   "source": [
    "### 4g. Average price over time by avocado type"
   ]
  },
  {
   "cell_type": "code",
   "execution_count": 73,
   "metadata": {},
   "outputs": [
    {
     "data": {
      "application/vnd.plotly.v1+json": {
       "config": {
        "plotlyServerURL": "https://plot.ly"
       },
       "data": [
        {
         "hovertemplate": "type=conventional<br>Year=%{x}<br>Average Price (USD)=%{y}<extra></extra>",
         "legendgroup": "conventional",
         "line": {
          "color": "#636efa",
          "dash": "solid"
         },
         "marker": {
          "symbol": "circle"
         },
         "mode": "lines",
         "name": "conventional",
         "orientation": "v",
         "showlegend": true,
         "type": "scatter",
         "x": [
          2015,
          2016,
          2017,
          2018,
          2019,
          2020
         ],
         "xaxis": "x",
         "y": [
          1.05,
          1.09,
          1.28,
          1.14,
          1.21,
          1.08
         ],
         "yaxis": "y"
        },
        {
         "hovertemplate": "type=organic<br>Year=%{x}<br>Average Price (USD)=%{y}<extra></extra>",
         "legendgroup": "organic",
         "line": {
          "color": "#EF553B",
          "dash": "solid"
         },
         "marker": {
          "symbol": "circle"
         },
         "mode": "lines",
         "name": "organic",
         "orientation": "v",
         "showlegend": true,
         "type": "scatter",
         "x": [
          2015,
          2016,
          2017,
          2018,
          2019,
          2020
         ],
         "xaxis": "x",
         "y": [
          1.65,
          1.63,
          1.78,
          1.61,
          1.68,
          1.58
         ],
         "yaxis": "y"
        }
       ],
       "layout": {
        "height": 550,
        "legend": {
         "title": {
          "text": "type"
         },
         "tracegroupgap": 0
        },
        "template": {
         "data": {
          "bar": [
           {
            "error_x": {
             "color": "#2a3f5f"
            },
            "error_y": {
             "color": "#2a3f5f"
            },
            "marker": {
             "line": {
              "color": "#E5ECF6",
              "width": 0.5
             },
             "pattern": {
              "fillmode": "overlay",
              "size": 10,
              "solidity": 0.2
             }
            },
            "type": "bar"
           }
          ],
          "barpolar": [
           {
            "marker": {
             "line": {
              "color": "#E5ECF6",
              "width": 0.5
             },
             "pattern": {
              "fillmode": "overlay",
              "size": 10,
              "solidity": 0.2
             }
            },
            "type": "barpolar"
           }
          ],
          "carpet": [
           {
            "aaxis": {
             "endlinecolor": "#2a3f5f",
             "gridcolor": "white",
             "linecolor": "white",
             "minorgridcolor": "white",
             "startlinecolor": "#2a3f5f"
            },
            "baxis": {
             "endlinecolor": "#2a3f5f",
             "gridcolor": "white",
             "linecolor": "white",
             "minorgridcolor": "white",
             "startlinecolor": "#2a3f5f"
            },
            "type": "carpet"
           }
          ],
          "choropleth": [
           {
            "colorbar": {
             "outlinewidth": 0,
             "ticks": ""
            },
            "type": "choropleth"
           }
          ],
          "contour": [
           {
            "colorbar": {
             "outlinewidth": 0,
             "ticks": ""
            },
            "colorscale": [
             [
              0,
              "#0d0887"
             ],
             [
              0.1111111111111111,
              "#46039f"
             ],
             [
              0.2222222222222222,
              "#7201a8"
             ],
             [
              0.3333333333333333,
              "#9c179e"
             ],
             [
              0.4444444444444444,
              "#bd3786"
             ],
             [
              0.5555555555555556,
              "#d8576b"
             ],
             [
              0.6666666666666666,
              "#ed7953"
             ],
             [
              0.7777777777777778,
              "#fb9f3a"
             ],
             [
              0.8888888888888888,
              "#fdca26"
             ],
             [
              1,
              "#f0f921"
             ]
            ],
            "type": "contour"
           }
          ],
          "contourcarpet": [
           {
            "colorbar": {
             "outlinewidth": 0,
             "ticks": ""
            },
            "type": "contourcarpet"
           }
          ],
          "heatmap": [
           {
            "colorbar": {
             "outlinewidth": 0,
             "ticks": ""
            },
            "colorscale": [
             [
              0,
              "#0d0887"
             ],
             [
              0.1111111111111111,
              "#46039f"
             ],
             [
              0.2222222222222222,
              "#7201a8"
             ],
             [
              0.3333333333333333,
              "#9c179e"
             ],
             [
              0.4444444444444444,
              "#bd3786"
             ],
             [
              0.5555555555555556,
              "#d8576b"
             ],
             [
              0.6666666666666666,
              "#ed7953"
             ],
             [
              0.7777777777777778,
              "#fb9f3a"
             ],
             [
              0.8888888888888888,
              "#fdca26"
             ],
             [
              1,
              "#f0f921"
             ]
            ],
            "type": "heatmap"
           }
          ],
          "heatmapgl": [
           {
            "colorbar": {
             "outlinewidth": 0,
             "ticks": ""
            },
            "colorscale": [
             [
              0,
              "#0d0887"
             ],
             [
              0.1111111111111111,
              "#46039f"
             ],
             [
              0.2222222222222222,
              "#7201a8"
             ],
             [
              0.3333333333333333,
              "#9c179e"
             ],
             [
              0.4444444444444444,
              "#bd3786"
             ],
             [
              0.5555555555555556,
              "#d8576b"
             ],
             [
              0.6666666666666666,
              "#ed7953"
             ],
             [
              0.7777777777777778,
              "#fb9f3a"
             ],
             [
              0.8888888888888888,
              "#fdca26"
             ],
             [
              1,
              "#f0f921"
             ]
            ],
            "type": "heatmapgl"
           }
          ],
          "histogram": [
           {
            "marker": {
             "pattern": {
              "fillmode": "overlay",
              "size": 10,
              "solidity": 0.2
             }
            },
            "type": "histogram"
           }
          ],
          "histogram2d": [
           {
            "colorbar": {
             "outlinewidth": 0,
             "ticks": ""
            },
            "colorscale": [
             [
              0,
              "#0d0887"
             ],
             [
              0.1111111111111111,
              "#46039f"
             ],
             [
              0.2222222222222222,
              "#7201a8"
             ],
             [
              0.3333333333333333,
              "#9c179e"
             ],
             [
              0.4444444444444444,
              "#bd3786"
             ],
             [
              0.5555555555555556,
              "#d8576b"
             ],
             [
              0.6666666666666666,
              "#ed7953"
             ],
             [
              0.7777777777777778,
              "#fb9f3a"
             ],
             [
              0.8888888888888888,
              "#fdca26"
             ],
             [
              1,
              "#f0f921"
             ]
            ],
            "type": "histogram2d"
           }
          ],
          "histogram2dcontour": [
           {
            "colorbar": {
             "outlinewidth": 0,
             "ticks": ""
            },
            "colorscale": [
             [
              0,
              "#0d0887"
             ],
             [
              0.1111111111111111,
              "#46039f"
             ],
             [
              0.2222222222222222,
              "#7201a8"
             ],
             [
              0.3333333333333333,
              "#9c179e"
             ],
             [
              0.4444444444444444,
              "#bd3786"
             ],
             [
              0.5555555555555556,
              "#d8576b"
             ],
             [
              0.6666666666666666,
              "#ed7953"
             ],
             [
              0.7777777777777778,
              "#fb9f3a"
             ],
             [
              0.8888888888888888,
              "#fdca26"
             ],
             [
              1,
              "#f0f921"
             ]
            ],
            "type": "histogram2dcontour"
           }
          ],
          "mesh3d": [
           {
            "colorbar": {
             "outlinewidth": 0,
             "ticks": ""
            },
            "type": "mesh3d"
           }
          ],
          "parcoords": [
           {
            "line": {
             "colorbar": {
              "outlinewidth": 0,
              "ticks": ""
             }
            },
            "type": "parcoords"
           }
          ],
          "pie": [
           {
            "automargin": true,
            "type": "pie"
           }
          ],
          "scatter": [
           {
            "fillpattern": {
             "fillmode": "overlay",
             "size": 10,
             "solidity": 0.2
            },
            "type": "scatter"
           }
          ],
          "scatter3d": [
           {
            "line": {
             "colorbar": {
              "outlinewidth": 0,
              "ticks": ""
             }
            },
            "marker": {
             "colorbar": {
              "outlinewidth": 0,
              "ticks": ""
             }
            },
            "type": "scatter3d"
           }
          ],
          "scattercarpet": [
           {
            "marker": {
             "colorbar": {
              "outlinewidth": 0,
              "ticks": ""
             }
            },
            "type": "scattercarpet"
           }
          ],
          "scattergeo": [
           {
            "marker": {
             "colorbar": {
              "outlinewidth": 0,
              "ticks": ""
             }
            },
            "type": "scattergeo"
           }
          ],
          "scattergl": [
           {
            "marker": {
             "colorbar": {
              "outlinewidth": 0,
              "ticks": ""
             }
            },
            "type": "scattergl"
           }
          ],
          "scattermapbox": [
           {
            "marker": {
             "colorbar": {
              "outlinewidth": 0,
              "ticks": ""
             }
            },
            "type": "scattermapbox"
           }
          ],
          "scatterpolar": [
           {
            "marker": {
             "colorbar": {
              "outlinewidth": 0,
              "ticks": ""
             }
            },
            "type": "scatterpolar"
           }
          ],
          "scatterpolargl": [
           {
            "marker": {
             "colorbar": {
              "outlinewidth": 0,
              "ticks": ""
             }
            },
            "type": "scatterpolargl"
           }
          ],
          "scatterternary": [
           {
            "marker": {
             "colorbar": {
              "outlinewidth": 0,
              "ticks": ""
             }
            },
            "type": "scatterternary"
           }
          ],
          "surface": [
           {
            "colorbar": {
             "outlinewidth": 0,
             "ticks": ""
            },
            "colorscale": [
             [
              0,
              "#0d0887"
             ],
             [
              0.1111111111111111,
              "#46039f"
             ],
             [
              0.2222222222222222,
              "#7201a8"
             ],
             [
              0.3333333333333333,
              "#9c179e"
             ],
             [
              0.4444444444444444,
              "#bd3786"
             ],
             [
              0.5555555555555556,
              "#d8576b"
             ],
             [
              0.6666666666666666,
              "#ed7953"
             ],
             [
              0.7777777777777778,
              "#fb9f3a"
             ],
             [
              0.8888888888888888,
              "#fdca26"
             ],
             [
              1,
              "#f0f921"
             ]
            ],
            "type": "surface"
           }
          ],
          "table": [
           {
            "cells": {
             "fill": {
              "color": "#EBF0F8"
             },
             "line": {
              "color": "white"
             }
            },
            "header": {
             "fill": {
              "color": "#C8D4E3"
             },
             "line": {
              "color": "white"
             }
            },
            "type": "table"
           }
          ]
         },
         "layout": {
          "annotationdefaults": {
           "arrowcolor": "#2a3f5f",
           "arrowhead": 0,
           "arrowwidth": 1
          },
          "autotypenumbers": "strict",
          "coloraxis": {
           "colorbar": {
            "outlinewidth": 0,
            "ticks": ""
           }
          },
          "colorscale": {
           "diverging": [
            [
             0,
             "#8e0152"
            ],
            [
             0.1,
             "#c51b7d"
            ],
            [
             0.2,
             "#de77ae"
            ],
            [
             0.3,
             "#f1b6da"
            ],
            [
             0.4,
             "#fde0ef"
            ],
            [
             0.5,
             "#f7f7f7"
            ],
            [
             0.6,
             "#e6f5d0"
            ],
            [
             0.7,
             "#b8e186"
            ],
            [
             0.8,
             "#7fbc41"
            ],
            [
             0.9,
             "#4d9221"
            ],
            [
             1,
             "#276419"
            ]
           ],
           "sequential": [
            [
             0,
             "#0d0887"
            ],
            [
             0.1111111111111111,
             "#46039f"
            ],
            [
             0.2222222222222222,
             "#7201a8"
            ],
            [
             0.3333333333333333,
             "#9c179e"
            ],
            [
             0.4444444444444444,
             "#bd3786"
            ],
            [
             0.5555555555555556,
             "#d8576b"
            ],
            [
             0.6666666666666666,
             "#ed7953"
            ],
            [
             0.7777777777777778,
             "#fb9f3a"
            ],
            [
             0.8888888888888888,
             "#fdca26"
            ],
            [
             1,
             "#f0f921"
            ]
           ],
           "sequentialminus": [
            [
             0,
             "#0d0887"
            ],
            [
             0.1111111111111111,
             "#46039f"
            ],
            [
             0.2222222222222222,
             "#7201a8"
            ],
            [
             0.3333333333333333,
             "#9c179e"
            ],
            [
             0.4444444444444444,
             "#bd3786"
            ],
            [
             0.5555555555555556,
             "#d8576b"
            ],
            [
             0.6666666666666666,
             "#ed7953"
            ],
            [
             0.7777777777777778,
             "#fb9f3a"
            ],
            [
             0.8888888888888888,
             "#fdca26"
            ],
            [
             1,
             "#f0f921"
            ]
           ]
          },
          "colorway": [
           "#636efa",
           "#EF553B",
           "#00cc96",
           "#ab63fa",
           "#FFA15A",
           "#19d3f3",
           "#FF6692",
           "#B6E880",
           "#FF97FF",
           "#FECB52"
          ],
          "font": {
           "color": "#2a3f5f"
          },
          "geo": {
           "bgcolor": "white",
           "lakecolor": "white",
           "landcolor": "#E5ECF6",
           "showlakes": true,
           "showland": true,
           "subunitcolor": "white"
          },
          "hoverlabel": {
           "align": "left"
          },
          "hovermode": "closest",
          "mapbox": {
           "style": "light"
          },
          "paper_bgcolor": "white",
          "plot_bgcolor": "#E5ECF6",
          "polar": {
           "angularaxis": {
            "gridcolor": "white",
            "linecolor": "white",
            "ticks": ""
           },
           "bgcolor": "#E5ECF6",
           "radialaxis": {
            "gridcolor": "white",
            "linecolor": "white",
            "ticks": ""
           }
          },
          "scene": {
           "xaxis": {
            "backgroundcolor": "#E5ECF6",
            "gridcolor": "white",
            "gridwidth": 2,
            "linecolor": "white",
            "showbackground": true,
            "ticks": "",
            "zerolinecolor": "white"
           },
           "yaxis": {
            "backgroundcolor": "#E5ECF6",
            "gridcolor": "white",
            "gridwidth": 2,
            "linecolor": "white",
            "showbackground": true,
            "ticks": "",
            "zerolinecolor": "white"
           },
           "zaxis": {
            "backgroundcolor": "#E5ECF6",
            "gridcolor": "white",
            "gridwidth": 2,
            "linecolor": "white",
            "showbackground": true,
            "ticks": "",
            "zerolinecolor": "white"
           }
          },
          "shapedefaults": {
           "line": {
            "color": "#2a3f5f"
           }
          },
          "ternary": {
           "aaxis": {
            "gridcolor": "white",
            "linecolor": "white",
            "ticks": ""
           },
           "baxis": {
            "gridcolor": "white",
            "linecolor": "white",
            "ticks": ""
           },
           "bgcolor": "#E5ECF6",
           "caxis": {
            "gridcolor": "white",
            "linecolor": "white",
            "ticks": ""
           }
          },
          "title": {
           "x": 0.05
          },
          "xaxis": {
           "automargin": true,
           "gridcolor": "white",
           "linecolor": "white",
           "ticks": "",
           "title": {
            "standoff": 15
           },
           "zerolinecolor": "white",
           "zerolinewidth": 2
          },
          "yaxis": {
           "automargin": true,
           "gridcolor": "white",
           "linecolor": "white",
           "ticks": "",
           "title": {
            "standoff": 15
           },
           "zerolinecolor": "white",
           "zerolinewidth": 2
          }
         }
        },
        "title": {
         "text": "Trends in Average Price Over Time by Type"
        },
        "xaxis": {
         "anchor": "y",
         "domain": [
          0,
          1
         ],
         "tickmode": "array",
         "ticktext": [
          "2015",
          "2016",
          "2017",
          "2018",
          "2019",
          "2020"
         ],
         "tickvals": [
          2015,
          2016,
          2017,
          2018,
          2019,
          2020
         ],
         "title": {
          "text": "Year"
         }
        },
        "yaxis": {
         "anchor": "x",
         "domain": [
          0,
          1
         ],
         "title": {
          "text": "Average Price (USD)"
         }
        }
       }
      }
     },
     "metadata": {},
     "output_type": "display_data"
    }
   ],
   "source": [
    "line_price_data = top_20_detailed.groupby(['year', 'type']).agg(\n",
    "    avg_price=('average_price', 'mean')\n",
    ").reset_index()\n",
    "line_price_data['avg_price'] = line_price_data['avg_price'].round(2)  \n",
    "\n",
    "\n",
    "years = sorted(line_price_data['year'].unique())\n",
    "\n",
    "line_price_fig = px.line(\n",
    "    line_price_data,\n",
    "    x=\"year\",\n",
    "    y=\"avg_price\",\n",
    "    color=\"type\",\n",
    "    title=\"Trends in Average Price Over Time by Type\",\n",
    "    labels={\"avg_price\": \"Average Price (USD)\", \"year\": \"Year\"}\n",
    ")\n",
    "\n",
    "line_price_fig.update_layout(\n",
    "    xaxis=dict(\n",
    "        tickmode=\"array\",\n",
    "        tickvals=years,  \n",
    "        ticktext=[str(year) for year in years],  \n",
    "    ),\n",
    "    height=550\n",
    ")\n",
    "\n",
    "line_price_fig.show()"
   ]
  },
  {
   "cell_type": "code",
   "execution_count": 74,
   "metadata": {},
   "outputs": [],
   "source": [
    "# Yearly trends in average_price for conventional and organic avocados\n",
    "# Insights into whether organic avocados command a consistent premium"
   ]
  },
  {
   "cell_type": "code",
   "execution_count": null,
   "metadata": {},
   "outputs": [],
   "source": []
  },
  {
   "cell_type": "code",
   "execution_count": null,
   "metadata": {},
   "outputs": [],
   "source": []
  },
  {
   "cell_type": "code",
   "execution_count": null,
   "metadata": {},
   "outputs": [],
   "source": []
  },
  {
   "cell_type": "code",
   "execution_count": 50,
   "metadata": {},
   "outputs": [
    {
     "data": {
      "application/vnd.plotly.v1+json": {
       "config": {
        "plotlyServerURL": "https://plot.ly"
       },
       "data": [
        {
         "branchvalues": "total",
         "domain": {
          "x": [
           0,
           1
          ],
          "y": [
           0,
           1
          ]
         },
         "hovertemplate": "labels=%{label}<br>Total Volume=%{value}<br>parent=%{parent}<br>id=%{id}<extra></extra>",
         "ids": [
          "Atlanta/4046",
          "Baltimore/Washington/4046",
          "Boston/4046",
          "Chicago/4046",
          "Dallas/Ft. Worth/4046",
          "Denver/4046",
          "Great Lakes/4046",
          "Houston/4046",
          "Los Angeles/4046",
          "Miami/Ft. Lauderdale/4046",
          "New York/4046",
          "Philadelphia/4046",
          "Phoenix/Tucson/4046",
          "Plains/4046",
          "Portland/4046",
          "Sacramento/4046",
          "San Diego/4046",
          "San Francisco/4046",
          "Seattle/4046",
          "West Tex/New Mexico/4046",
          "Atlanta/4225",
          "Baltimore/Washington/4225",
          "Boston/4225",
          "Chicago/4225",
          "Dallas/Ft. Worth/4225",
          "Denver/4225",
          "Great Lakes/4225",
          "Houston/4225",
          "Los Angeles/4225",
          "Miami/Ft. Lauderdale/4225",
          "New York/4225",
          "Philadelphia/4225",
          "Phoenix/Tucson/4225",
          "Plains/4225",
          "Portland/4225",
          "Sacramento/4225",
          "San Diego/4225",
          "San Francisco/4225",
          "Seattle/4225",
          "West Tex/New Mexico/4225",
          "Atlanta/4770",
          "Baltimore/Washington/4770",
          "Boston/4770",
          "Chicago/4770",
          "Dallas/Ft. Worth/4770",
          "Denver/4770",
          "Great Lakes/4770",
          "Houston/4770",
          "Los Angeles/4770",
          "Miami/Ft. Lauderdale/4770",
          "New York/4770",
          "Philadelphia/4770",
          "Phoenix/Tucson/4770",
          "Plains/4770",
          "Portland/4770",
          "Sacramento/4770",
          "San Diego/4770",
          "San Francisco/4770",
          "Seattle/4770",
          "West Tex/New Mexico/4770",
          "Atlanta",
          "Baltimore/Washington",
          "Boston",
          "Chicago",
          "Dallas/Ft. Worth",
          "Denver",
          "Great Lakes",
          "Houston",
          "Los Angeles",
          "Miami/Ft. Lauderdale",
          "New York",
          "Philadelphia",
          "Phoenix/Tucson",
          "Plains",
          "Portland",
          "Sacramento",
          "San Diego",
          "San Francisco",
          "Seattle",
          "West Tex/New Mexico"
         ],
         "labels": [
          "4046",
          "4046",
          "4046",
          "4046",
          "4046",
          "4046",
          "4046",
          "4046",
          "4046",
          "4046",
          "4046",
          "4046",
          "4046",
          "4046",
          "4046",
          "4046",
          "4046",
          "4046",
          "4046",
          "4046",
          "4225",
          "4225",
          "4225",
          "4225",
          "4225",
          "4225",
          "4225",
          "4225",
          "4225",
          "4225",
          "4225",
          "4225",
          "4225",
          "4225",
          "4225",
          "4225",
          "4225",
          "4225",
          "4225",
          "4225",
          "4770",
          "4770",
          "4770",
          "4770",
          "4770",
          "4770",
          "4770",
          "4770",
          "4770",
          "4770",
          "4770",
          "4770",
          "4770",
          "4770",
          "4770",
          "4770",
          "4770",
          "4770",
          "4770",
          "4770",
          "Atlanta",
          "Baltimore/Washington",
          "Boston",
          "Chicago",
          "Dallas/Ft. Worth",
          "Denver",
          "Great Lakes",
          "Houston",
          "Los Angeles",
          "Miami/Ft. Lauderdale",
          "New York",
          "Philadelphia",
          "Phoenix/Tucson",
          "Plains",
          "Portland",
          "Sacramento",
          "San Diego",
          "San Francisco",
          "Seattle",
          "West Tex/New Mexico"
         ],
         "name": "",
         "parents": [
          "Atlanta",
          "Baltimore/Washington",
          "Boston",
          "Chicago",
          "Dallas/Ft. Worth",
          "Denver",
          "Great Lakes",
          "Houston",
          "Los Angeles",
          "Miami/Ft. Lauderdale",
          "New York",
          "Philadelphia",
          "Phoenix/Tucson",
          "Plains",
          "Portland",
          "Sacramento",
          "San Diego",
          "San Francisco",
          "Seattle",
          "West Tex/New Mexico",
          "Atlanta",
          "Baltimore/Washington",
          "Boston",
          "Chicago",
          "Dallas/Ft. Worth",
          "Denver",
          "Great Lakes",
          "Houston",
          "Los Angeles",
          "Miami/Ft. Lauderdale",
          "New York",
          "Philadelphia",
          "Phoenix/Tucson",
          "Plains",
          "Portland",
          "Sacramento",
          "San Diego",
          "San Francisco",
          "Seattle",
          "West Tex/New Mexico",
          "Atlanta",
          "Baltimore/Washington",
          "Boston",
          "Chicago",
          "Dallas/Ft. Worth",
          "Denver",
          "Great Lakes",
          "Houston",
          "Los Angeles",
          "Miami/Ft. Lauderdale",
          "New York",
          "Philadelphia",
          "Phoenix/Tucson",
          "Plains",
          "Portland",
          "Sacramento",
          "San Diego",
          "San Francisco",
          "Seattle",
          "West Tex/New Mexico",
          "",
          "",
          "",
          "",
          "",
          "",
          "",
          "",
          "",
          "",
          "",
          "",
          "",
          "",
          "",
          "",
          "",
          "",
          "",
          ""
         ],
         "type": "treemap",
         "values": [
          95123871.65,
          28395202.42,
          3930495.86,
          28042696.65,
          201711880.75,
          52468564.85,
          212914380.31,
          184163657.65,
          363342687.2,
          124530860.06,
          18152027.96,
          13249993.98,
          179906406.61,
          274657899.29,
          35070037.98,
          44092154.39,
          50907952.47,
          68587695.55,
          34319811.59,
          139062890.22,
          15688633.040000001,
          148544712.2,
          143852083.99,
          129370606.11,
          78292700.27,
          74334588.23,
          398172220.94,
          77580724.7,
          142181837.94,
          21214636.97,
          333834441.02,
          84119818.41,
          73562565.15,
          158364218.63,
          60843822.46,
          75670055.59,
          45098245.12,
          140982620.64,
          56305142.64,
          37730051.16,
          322069.62,
          5241665.02,
          1881141.11,
          28304522.59,
          6578230.12,
          4322443.97,
          94296689.25,
          7042135.8,
          29706381.72,
          544223.74,
          3496595.26,
          939632.74,
          3505491.64,
          4311602.83,
          4701609.02,
          1938220.02,
          5497249.33,
          4569731.35,
          1194526.04,
          9628980.8,
          111134574.31,
          182181579.64000002,
          149663720.96000004,
          185717825.35,
          286582811.14,
          131125597.05,
          705383290.5,
          268786518.15000004,
          535230906.86,
          146289720.77,
          355483064.23999995,
          98309445.13,
          256974463.4,
          437333720.75,
          100615469.46,
          121700430,
          101503446.92,
          214140047.54,
          91819480.27000001,
          186421922.18
         ]
        }
       ],
       "layout": {
        "legend": {
         "tracegroupgap": 0
        },
        "template": {
         "data": {
          "bar": [
           {
            "error_x": {
             "color": "#2a3f5f"
            },
            "error_y": {
             "color": "#2a3f5f"
            },
            "marker": {
             "line": {
              "color": "#E5ECF6",
              "width": 0.5
             },
             "pattern": {
              "fillmode": "overlay",
              "size": 10,
              "solidity": 0.2
             }
            },
            "type": "bar"
           }
          ],
          "barpolar": [
           {
            "marker": {
             "line": {
              "color": "#E5ECF6",
              "width": 0.5
             },
             "pattern": {
              "fillmode": "overlay",
              "size": 10,
              "solidity": 0.2
             }
            },
            "type": "barpolar"
           }
          ],
          "carpet": [
           {
            "aaxis": {
             "endlinecolor": "#2a3f5f",
             "gridcolor": "white",
             "linecolor": "white",
             "minorgridcolor": "white",
             "startlinecolor": "#2a3f5f"
            },
            "baxis": {
             "endlinecolor": "#2a3f5f",
             "gridcolor": "white",
             "linecolor": "white",
             "minorgridcolor": "white",
             "startlinecolor": "#2a3f5f"
            },
            "type": "carpet"
           }
          ],
          "choropleth": [
           {
            "colorbar": {
             "outlinewidth": 0,
             "ticks": ""
            },
            "type": "choropleth"
           }
          ],
          "contour": [
           {
            "colorbar": {
             "outlinewidth": 0,
             "ticks": ""
            },
            "colorscale": [
             [
              0,
              "#0d0887"
             ],
             [
              0.1111111111111111,
              "#46039f"
             ],
             [
              0.2222222222222222,
              "#7201a8"
             ],
             [
              0.3333333333333333,
              "#9c179e"
             ],
             [
              0.4444444444444444,
              "#bd3786"
             ],
             [
              0.5555555555555556,
              "#d8576b"
             ],
             [
              0.6666666666666666,
              "#ed7953"
             ],
             [
              0.7777777777777778,
              "#fb9f3a"
             ],
             [
              0.8888888888888888,
              "#fdca26"
             ],
             [
              1,
              "#f0f921"
             ]
            ],
            "type": "contour"
           }
          ],
          "contourcarpet": [
           {
            "colorbar": {
             "outlinewidth": 0,
             "ticks": ""
            },
            "type": "contourcarpet"
           }
          ],
          "heatmap": [
           {
            "colorbar": {
             "outlinewidth": 0,
             "ticks": ""
            },
            "colorscale": [
             [
              0,
              "#0d0887"
             ],
             [
              0.1111111111111111,
              "#46039f"
             ],
             [
              0.2222222222222222,
              "#7201a8"
             ],
             [
              0.3333333333333333,
              "#9c179e"
             ],
             [
              0.4444444444444444,
              "#bd3786"
             ],
             [
              0.5555555555555556,
              "#d8576b"
             ],
             [
              0.6666666666666666,
              "#ed7953"
             ],
             [
              0.7777777777777778,
              "#fb9f3a"
             ],
             [
              0.8888888888888888,
              "#fdca26"
             ],
             [
              1,
              "#f0f921"
             ]
            ],
            "type": "heatmap"
           }
          ],
          "heatmapgl": [
           {
            "colorbar": {
             "outlinewidth": 0,
             "ticks": ""
            },
            "colorscale": [
             [
              0,
              "#0d0887"
             ],
             [
              0.1111111111111111,
              "#46039f"
             ],
             [
              0.2222222222222222,
              "#7201a8"
             ],
             [
              0.3333333333333333,
              "#9c179e"
             ],
             [
              0.4444444444444444,
              "#bd3786"
             ],
             [
              0.5555555555555556,
              "#d8576b"
             ],
             [
              0.6666666666666666,
              "#ed7953"
             ],
             [
              0.7777777777777778,
              "#fb9f3a"
             ],
             [
              0.8888888888888888,
              "#fdca26"
             ],
             [
              1,
              "#f0f921"
             ]
            ],
            "type": "heatmapgl"
           }
          ],
          "histogram": [
           {
            "marker": {
             "pattern": {
              "fillmode": "overlay",
              "size": 10,
              "solidity": 0.2
             }
            },
            "type": "histogram"
           }
          ],
          "histogram2d": [
           {
            "colorbar": {
             "outlinewidth": 0,
             "ticks": ""
            },
            "colorscale": [
             [
              0,
              "#0d0887"
             ],
             [
              0.1111111111111111,
              "#46039f"
             ],
             [
              0.2222222222222222,
              "#7201a8"
             ],
             [
              0.3333333333333333,
              "#9c179e"
             ],
             [
              0.4444444444444444,
              "#bd3786"
             ],
             [
              0.5555555555555556,
              "#d8576b"
             ],
             [
              0.6666666666666666,
              "#ed7953"
             ],
             [
              0.7777777777777778,
              "#fb9f3a"
             ],
             [
              0.8888888888888888,
              "#fdca26"
             ],
             [
              1,
              "#f0f921"
             ]
            ],
            "type": "histogram2d"
           }
          ],
          "histogram2dcontour": [
           {
            "colorbar": {
             "outlinewidth": 0,
             "ticks": ""
            },
            "colorscale": [
             [
              0,
              "#0d0887"
             ],
             [
              0.1111111111111111,
              "#46039f"
             ],
             [
              0.2222222222222222,
              "#7201a8"
             ],
             [
              0.3333333333333333,
              "#9c179e"
             ],
             [
              0.4444444444444444,
              "#bd3786"
             ],
             [
              0.5555555555555556,
              "#d8576b"
             ],
             [
              0.6666666666666666,
              "#ed7953"
             ],
             [
              0.7777777777777778,
              "#fb9f3a"
             ],
             [
              0.8888888888888888,
              "#fdca26"
             ],
             [
              1,
              "#f0f921"
             ]
            ],
            "type": "histogram2dcontour"
           }
          ],
          "mesh3d": [
           {
            "colorbar": {
             "outlinewidth": 0,
             "ticks": ""
            },
            "type": "mesh3d"
           }
          ],
          "parcoords": [
           {
            "line": {
             "colorbar": {
              "outlinewidth": 0,
              "ticks": ""
             }
            },
            "type": "parcoords"
           }
          ],
          "pie": [
           {
            "automargin": true,
            "type": "pie"
           }
          ],
          "scatter": [
           {
            "fillpattern": {
             "fillmode": "overlay",
             "size": 10,
             "solidity": 0.2
            },
            "type": "scatter"
           }
          ],
          "scatter3d": [
           {
            "line": {
             "colorbar": {
              "outlinewidth": 0,
              "ticks": ""
             }
            },
            "marker": {
             "colorbar": {
              "outlinewidth": 0,
              "ticks": ""
             }
            },
            "type": "scatter3d"
           }
          ],
          "scattercarpet": [
           {
            "marker": {
             "colorbar": {
              "outlinewidth": 0,
              "ticks": ""
             }
            },
            "type": "scattercarpet"
           }
          ],
          "scattergeo": [
           {
            "marker": {
             "colorbar": {
              "outlinewidth": 0,
              "ticks": ""
             }
            },
            "type": "scattergeo"
           }
          ],
          "scattergl": [
           {
            "marker": {
             "colorbar": {
              "outlinewidth": 0,
              "ticks": ""
             }
            },
            "type": "scattergl"
           }
          ],
          "scattermapbox": [
           {
            "marker": {
             "colorbar": {
              "outlinewidth": 0,
              "ticks": ""
             }
            },
            "type": "scattermapbox"
           }
          ],
          "scatterpolar": [
           {
            "marker": {
             "colorbar": {
              "outlinewidth": 0,
              "ticks": ""
             }
            },
            "type": "scatterpolar"
           }
          ],
          "scatterpolargl": [
           {
            "marker": {
             "colorbar": {
              "outlinewidth": 0,
              "ticks": ""
             }
            },
            "type": "scatterpolargl"
           }
          ],
          "scatterternary": [
           {
            "marker": {
             "colorbar": {
              "outlinewidth": 0,
              "ticks": ""
             }
            },
            "type": "scatterternary"
           }
          ],
          "surface": [
           {
            "colorbar": {
             "outlinewidth": 0,
             "ticks": ""
            },
            "colorscale": [
             [
              0,
              "#0d0887"
             ],
             [
              0.1111111111111111,
              "#46039f"
             ],
             [
              0.2222222222222222,
              "#7201a8"
             ],
             [
              0.3333333333333333,
              "#9c179e"
             ],
             [
              0.4444444444444444,
              "#bd3786"
             ],
             [
              0.5555555555555556,
              "#d8576b"
             ],
             [
              0.6666666666666666,
              "#ed7953"
             ],
             [
              0.7777777777777778,
              "#fb9f3a"
             ],
             [
              0.8888888888888888,
              "#fdca26"
             ],
             [
              1,
              "#f0f921"
             ]
            ],
            "type": "surface"
           }
          ],
          "table": [
           {
            "cells": {
             "fill": {
              "color": "#EBF0F8"
             },
             "line": {
              "color": "white"
             }
            },
            "header": {
             "fill": {
              "color": "#C8D4E3"
             },
             "line": {
              "color": "white"
             }
            },
            "type": "table"
           }
          ]
         },
         "layout": {
          "annotationdefaults": {
           "arrowcolor": "#2a3f5f",
           "arrowhead": 0,
           "arrowwidth": 1
          },
          "autotypenumbers": "strict",
          "coloraxis": {
           "colorbar": {
            "outlinewidth": 0,
            "ticks": ""
           }
          },
          "colorscale": {
           "diverging": [
            [
             0,
             "#8e0152"
            ],
            [
             0.1,
             "#c51b7d"
            ],
            [
             0.2,
             "#de77ae"
            ],
            [
             0.3,
             "#f1b6da"
            ],
            [
             0.4,
             "#fde0ef"
            ],
            [
             0.5,
             "#f7f7f7"
            ],
            [
             0.6,
             "#e6f5d0"
            ],
            [
             0.7,
             "#b8e186"
            ],
            [
             0.8,
             "#7fbc41"
            ],
            [
             0.9,
             "#4d9221"
            ],
            [
             1,
             "#276419"
            ]
           ],
           "sequential": [
            [
             0,
             "#0d0887"
            ],
            [
             0.1111111111111111,
             "#46039f"
            ],
            [
             0.2222222222222222,
             "#7201a8"
            ],
            [
             0.3333333333333333,
             "#9c179e"
            ],
            [
             0.4444444444444444,
             "#bd3786"
            ],
            [
             0.5555555555555556,
             "#d8576b"
            ],
            [
             0.6666666666666666,
             "#ed7953"
            ],
            [
             0.7777777777777778,
             "#fb9f3a"
            ],
            [
             0.8888888888888888,
             "#fdca26"
            ],
            [
             1,
             "#f0f921"
            ]
           ],
           "sequentialminus": [
            [
             0,
             "#0d0887"
            ],
            [
             0.1111111111111111,
             "#46039f"
            ],
            [
             0.2222222222222222,
             "#7201a8"
            ],
            [
             0.3333333333333333,
             "#9c179e"
            ],
            [
             0.4444444444444444,
             "#bd3786"
            ],
            [
             0.5555555555555556,
             "#d8576b"
            ],
            [
             0.6666666666666666,
             "#ed7953"
            ],
            [
             0.7777777777777778,
             "#fb9f3a"
            ],
            [
             0.8888888888888888,
             "#fdca26"
            ],
            [
             1,
             "#f0f921"
            ]
           ]
          },
          "colorway": [
           "#636efa",
           "#EF553B",
           "#00cc96",
           "#ab63fa",
           "#FFA15A",
           "#19d3f3",
           "#FF6692",
           "#B6E880",
           "#FF97FF",
           "#FECB52"
          ],
          "font": {
           "color": "#2a3f5f"
          },
          "geo": {
           "bgcolor": "white",
           "lakecolor": "white",
           "landcolor": "#E5ECF6",
           "showlakes": true,
           "showland": true,
           "subunitcolor": "white"
          },
          "hoverlabel": {
           "align": "left"
          },
          "hovermode": "closest",
          "mapbox": {
           "style": "light"
          },
          "paper_bgcolor": "white",
          "plot_bgcolor": "#E5ECF6",
          "polar": {
           "angularaxis": {
            "gridcolor": "white",
            "linecolor": "white",
            "ticks": ""
           },
           "bgcolor": "#E5ECF6",
           "radialaxis": {
            "gridcolor": "white",
            "linecolor": "white",
            "ticks": ""
           }
          },
          "scene": {
           "xaxis": {
            "backgroundcolor": "#E5ECF6",
            "gridcolor": "white",
            "gridwidth": 2,
            "linecolor": "white",
            "showbackground": true,
            "ticks": "",
            "zerolinecolor": "white"
           },
           "yaxis": {
            "backgroundcolor": "#E5ECF6",
            "gridcolor": "white",
            "gridwidth": 2,
            "linecolor": "white",
            "showbackground": true,
            "ticks": "",
            "zerolinecolor": "white"
           },
           "zaxis": {
            "backgroundcolor": "#E5ECF6",
            "gridcolor": "white",
            "gridwidth": 2,
            "linecolor": "white",
            "showbackground": true,
            "ticks": "",
            "zerolinecolor": "white"
           }
          },
          "shapedefaults": {
           "line": {
            "color": "#2a3f5f"
           }
          },
          "ternary": {
           "aaxis": {
            "gridcolor": "white",
            "linecolor": "white",
            "ticks": ""
           },
           "baxis": {
            "gridcolor": "white",
            "linecolor": "white",
            "ticks": ""
           },
           "bgcolor": "#E5ECF6",
           "caxis": {
            "gridcolor": "white",
            "linecolor": "white",
            "ticks": ""
           }
          },
          "title": {
           "x": 0.05
          },
          "xaxis": {
           "automargin": true,
           "gridcolor": "white",
           "linecolor": "white",
           "ticks": "",
           "title": {
            "standoff": 15
           },
           "zerolinecolor": "white",
           "zerolinewidth": 2
          },
          "yaxis": {
           "automargin": true,
           "gridcolor": "white",
           "linecolor": "white",
           "ticks": "",
           "title": {
            "standoff": 15
           },
           "zerolinecolor": "white",
           "zerolinewidth": 2
          }
         }
        },
        "title": {
         "text": "PLU Code Breakdown by Region"
        }
       }
      }
     },
     "metadata": {},
     "output_type": "display_data"
    }
   ],
   "source": [
    "plu_data = top_20_detailed[['4046', '4225', '4770', 'geography']].groupby('geography').sum().reset_index()\n",
    "\n",
    "plu_data = pd.melt(plu_data, id_vars=['geography'], var_name='PLU', value_name='volume')\n",
    "\n",
    "treemap_fig = px.treemap(\n",
    "    plu_data,\n",
    "    path=[\"geography\", \"PLU\"],\n",
    "    values=\"volume\",\n",
    "    title=\"PLU Code Breakdown by Region\",\n",
    "    labels={\"volume\": \"Total Volume\"}\n",
    ")\n",
    "\n",
    "treemap_fig.show()"
   ]
  },
  {
   "cell_type": "code",
   "execution_count": null,
   "metadata": {},
   "outputs": [],
   "source": [
    "# How different PLU codes contribute to total volume within each region.\n",
    "# Regions with diverse vs. concentrated PLU preferences."
   ]
  }
 ],
 "metadata": {
  "kernelspec": {
   "display_name": "sklearn-env",
   "language": "python",
   "name": "python3"
  },
  "language_info": {
   "codemirror_mode": {
    "name": "ipython",
    "version": 3
   },
   "file_extension": ".py",
   "mimetype": "text/x-python",
   "name": "python",
   "nbconvert_exporter": "python",
   "pygments_lexer": "ipython3",
   "version": "3.11.11"
  }
 },
 "nbformat": 4,
 "nbformat_minor": 2
}
